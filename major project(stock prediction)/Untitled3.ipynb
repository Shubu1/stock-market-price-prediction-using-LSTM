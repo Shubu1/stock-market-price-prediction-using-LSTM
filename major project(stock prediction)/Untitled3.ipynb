{
 "cells": [
  {
   "cell_type": "code",
   "execution_count": 1,
   "id": "33b14221",
   "metadata": {},
   "outputs": [],
   "source": [
    "import streamlit as st\n",
    "from keras.models import load_model\n",
    "from sklearn.preprocessing import MinMaxScaler\n",
    "import matplotlib.pyplot as plt\n",
    "import numpy as np\n",
    "import pandas as pd"
   ]
  },
  {
   "cell_type": "code",
   "execution_count": 2,
   "id": "23d3fe63",
   "metadata": {},
   "outputs": [],
   "source": [
    "model = load_model(\"ADBL(2013-2023).h5\")"
   ]
  },
  {
   "cell_type": "code",
   "execution_count": 3,
   "id": "7e059e36",
   "metadata": {},
   "outputs": [],
   "source": [
    "def predict_prices(stock_symbol):\n",
    "    # Read the CSV file\n",
    "    dataset = pd.read_csv(f\"{stock_symbol}.csv\")\n",
    "\n",
    "    # Preprocess the data\n",
    "    dataset[\"Date\"] = pd.to_datetime(dataset.Date, format=\"%Y-%m-%d\")\n",
    "    dataset.index = dataset[\"Date\"]\n",
    "    data = dataset.sort_index(ascending=True, axis=0)\n",
    "    new_dataset = pd.DataFrame(index=range(0, len(dataset)), columns=[\"Date\", \"Close\", \"Volume\"])\n",
    "    for i in range(0, len(data)):\n",
    "        new_dataset[\"Date\"][i] = data[\"Date\"][i]\n",
    "        new_dataset[\"Close\"][i] = data[\"Close\"][i]\n",
    "        new_dataset[\"Volume\"][i] = data[\"Volume\"][i]\n",
    "    new_dataset.index = new_dataset.Date\n",
    "    new_dataset.drop(\"Date\", axis=1, inplace=True)\n",
    "    final_dataset = new_dataset.values\n",
    "    scaler = MinMaxScaler(feature_range=(0, 1))\n",
    "    scaled_data = scaler.fit_transform(final_dataset)\n",
    "\n",
    "    # Prepare the test data\n",
    "    inputs_data = new_dataset[len(new_dataset)-60:].values\n",
    "    inputs_data = inputs_data.reshape(-1, 1)\n",
    "    inputs_data = scaler.transform(inputs_data)\n",
    "    x_test = []\n",
    "    x_test.append(inputs_data)\n",
    "    x_test = np.array(x_test)\n",
    "    x_test = np.reshape(x_test, (x_test.shape[0], x_test.shape[1], 1))\n",
    "\n",
    "    # Predict the prices\n",
    "    predicted_price = model.predict(x_test)\n",
    "    predicted_price = scaler.inverse_transform(predicted_price)\n",
    "    return predicted_price\n"
   ]
  },
  {
   "cell_type": "code",
   "execution_count": 4,
   "id": "dd88181c",
   "metadata": {},
   "outputs": [
    {
     "name": "stderr",
     "output_type": "stream",
     "text": [
      "2023-02-24 19:37:07.952 \n",
      "  \u001b[33m\u001b[1mWarning:\u001b[0m to view this Streamlit app on a browser, run it with the following\n",
      "  command:\n",
      "\n",
      "    streamlit run C:\\ProgramData\\Anaconda3\\lib\\site-packages\\ipykernel_launcher.py [ARGUMENTS]\n"
     ]
    }
   ],
   "source": [
    "st.title(\"Stock Price Prediction App\")\n",
    "\n",
    "# Get the stock symbol from the user\n",
    "stock_symbol = st.text_input(\"Enter a stock symbol (e.g. ADBL)\", \"ADBL\")\n",
    "\n",
    "# Predict and display the prices\n",
    "if st.button(\"Predict\"):\n",
    "    predicted_price = predict_prices(stock_symbol)\n",
    "    st.write(f\"The predicted price for {stock_symbol} for the next day is {predicted_price[0][0]:.2f} Nepalese Rupees.\")\n"
   ]
  },
  {
   "cell_type": "code",
   "execution_count": 5,
   "id": "675c850f",
   "metadata": {},
   "outputs": [
    {
     "ename": "SyntaxError",
     "evalue": "invalid syntax (3737097518.py, line 1)",
     "output_type": "error",
     "traceback": [
      "\u001b[1;36m  File \u001b[1;32m\"C:\\Users\\shubu\\AppData\\Local\\Temp\\ipykernel_27372\\3737097518.py\"\u001b[1;36m, line \u001b[1;32m1\u001b[0m\n\u001b[1;33m    streamlit run app.py\u001b[0m\n\u001b[1;37m              ^\u001b[0m\n\u001b[1;31mSyntaxError\u001b[0m\u001b[1;31m:\u001b[0m invalid syntax\n"
     ]
    }
   ],
   "source": [
    "streamlit run app.py"
   ]
  },
  {
   "cell_type": "code",
   "execution_count": null,
   "id": "e8d55e22",
   "metadata": {},
   "outputs": [],
   "source": []
  }
 ],
 "metadata": {
  "kernelspec": {
   "display_name": "Python 3 (ipykernel)",
   "language": "python",
   "name": "python3"
  },
  "language_info": {
   "codemirror_mode": {
    "name": "ipython",
    "version": 3
   },
   "file_extension": ".py",
   "mimetype": "text/x-python",
   "name": "python",
   "nbconvert_exporter": "python",
   "pygments_lexer": "ipython3",
   "version": "3.9.13"
  }
 },
 "nbformat": 4,
 "nbformat_minor": 5
}
