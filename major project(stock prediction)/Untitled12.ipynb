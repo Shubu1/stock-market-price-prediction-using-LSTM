{
 "cells": [
  {
   "cell_type": "code",
   "execution_count": 21,
   "id": "4f30c2fb",
   "metadata": {},
   "outputs": [
    {
     "ename": "ModuleNotFoundError",
     "evalue": "No module named 'dash_design_kit'",
     "output_type": "error",
     "traceback": [
      "\u001b[1;31m---------------------------------------------------------------------------\u001b[0m",
      "\u001b[1;31mModuleNotFoundError\u001b[0m                       Traceback (most recent call last)",
      "Cell \u001b[1;32mIn[21], line 3\u001b[0m\n\u001b[0;32m      1\u001b[0m \u001b[38;5;28;01mimport\u001b[39;00m \u001b[38;5;21;01mdash\u001b[39;00m\n\u001b[0;32m      2\u001b[0m \u001b[38;5;28;01mimport\u001b[39;00m \u001b[38;5;21;01mdash_daq\u001b[39;00m \u001b[38;5;28;01mas\u001b[39;00m \u001b[38;5;21;01mdaq\u001b[39;00m\n\u001b[1;32m----> 3\u001b[0m \u001b[38;5;28;01mimport\u001b[39;00m \u001b[38;5;21;01mdash_design_kit\u001b[39;00m \u001b[38;5;28;01mas\u001b[39;00m \u001b[38;5;21;01mddk\u001b[39;00m\n\u001b[0;32m      4\u001b[0m \u001b[38;5;28;01mfrom\u001b[39;00m \u001b[38;5;21;01mdash\u001b[39;00m \u001b[38;5;28;01mimport\u001b[39;00m dcc\n\u001b[0;32m      5\u001b[0m \u001b[38;5;28;01mfrom\u001b[39;00m \u001b[38;5;21;01mdash\u001b[39;00m \u001b[38;5;28;01mimport\u001b[39;00m html\n",
      "\u001b[1;31mModuleNotFoundError\u001b[0m: No module named 'dash_design_kit'"
     ]
    }
   ],
   "source": [
    "import dash\n",
    "import dash_daq as daq\n",
    "#import dash_design_kit as ddk\n",
    "from dash import dcc\n",
    "from dash import html\n",
    "import pandas as pd\n",
    "import plotly.graph_objs as go\n",
    "from dash.dependencies import Input, Output\n",
    "from keras.models import load_model\n",
    "from sklearn.preprocessing import MinMaxScaler\n",
    "import numpy as np"
   ]
  },
  {
   "cell_type": "code",
   "execution_count": 5,
   "id": "72f3d86d",
   "metadata": {},
   "outputs": [
    {
     "name": "stdout",
     "output_type": "stream",
     "text": [
      "Requirement already satisfied: dash in c:\\users\\shubu\\.conda\\envs\\tensorflow_env\\lib\\site-packages (2.8.1)\n",
      "Requirement already satisfied: dash-html-components==2.0.0 in c:\\users\\shubu\\.conda\\envs\\tensorflow_env\\lib\\site-packages (from dash) (2.0.0)\n",
      "Requirement already satisfied: Flask>=1.0.4 in c:\\users\\shubu\\.conda\\envs\\tensorflow_env\\lib\\site-packages (from dash) (2.2.3)\n",
      "Requirement already satisfied: dash-core-components==2.0.0 in c:\\users\\shubu\\.conda\\envs\\tensorflow_env\\lib\\site-packages (from dash) (2.0.0)\n",
      "Requirement already satisfied: plotly>=5.0.0 in c:\\users\\shubu\\.conda\\envs\\tensorflow_env\\lib\\site-packages (from dash) (5.13.1)\n",
      "Requirement already satisfied: dash-table==5.0.0 in c:\\users\\shubu\\.conda\\envs\\tensorflow_env\\lib\\site-packages (from dash) (5.0.0)\n",
      "Requirement already satisfied: click>=8.0 in c:\\users\\shubu\\.conda\\envs\\tensorflow_env\\lib\\site-packages (from Flask>=1.0.4->dash) (8.0.4)\n",
      "Requirement already satisfied: Jinja2>=3.0 in c:\\users\\shubu\\.conda\\envs\\tensorflow_env\\lib\\site-packages (from Flask>=1.0.4->dash) (3.1.2)\n",
      "Requirement already satisfied: itsdangerous>=2.0 in c:\\users\\shubu\\.conda\\envs\\tensorflow_env\\lib\\site-packages (from Flask>=1.0.4->dash) (2.1.2)\n",
      "Requirement already satisfied: Werkzeug>=2.2.2 in c:\\users\\shubu\\.conda\\envs\\tensorflow_env\\lib\\site-packages (from Flask>=1.0.4->dash) (2.2.2)\n",
      "Requirement already satisfied: tenacity>=6.2.0 in c:\\users\\shubu\\.conda\\envs\\tensorflow_env\\lib\\site-packages (from plotly>=5.0.0->dash) (8.2.2)\n",
      "Requirement already satisfied: colorama in c:\\users\\shubu\\.conda\\envs\\tensorflow_env\\lib\\site-packages (from click>=8.0->Flask>=1.0.4->dash) (0.4.6)\n",
      "Requirement already satisfied: MarkupSafe>=2.0 in c:\\users\\shubu\\.conda\\envs\\tensorflow_env\\lib\\site-packages (from Jinja2>=3.0->Flask>=1.0.4->dash) (2.1.1)\n",
      "Note: you may need to restart the kernel to use updated packages.\n"
     ]
    }
   ],
   "source": [
    "pip install dash"
   ]
  },
  {
   "cell_type": "code",
   "execution_count": 8,
   "id": "592050bd",
   "metadata": {},
   "outputs": [
    {
     "name": "stdout",
     "output_type": "stream",
     "text": [
      "Collecting dash_daq\n",
      "  Using cached dash_daq-0.5.0-py3-none-any.whl\n",
      "Requirement already satisfied: dash>=1.6.1 in c:\\users\\shubu\\.conda\\envs\\tensorflow_env\\lib\\site-packages (from dash_daq) (2.8.1)\n",
      "Requirement already satisfied: Flask>=1.0.4 in c:\\users\\shubu\\.conda\\envs\\tensorflow_env\\lib\\site-packages (from dash>=1.6.1->dash_daq) (2.2.3)\n",
      "Requirement already satisfied: dash-core-components==2.0.0 in c:\\users\\shubu\\.conda\\envs\\tensorflow_env\\lib\\site-packages (from dash>=1.6.1->dash_daq) (2.0.0)\n",
      "Requirement already satisfied: dash-html-components==2.0.0 in c:\\users\\shubu\\.conda\\envs\\tensorflow_env\\lib\\site-packages (from dash>=1.6.1->dash_daq) (2.0.0)\n",
      "Requirement already satisfied: dash-table==5.0.0 in c:\\users\\shubu\\.conda\\envs\\tensorflow_env\\lib\\site-packages (from dash>=1.6.1->dash_daq) (5.0.0)\n",
      "Requirement already satisfied: plotly>=5.0.0 in c:\\users\\shubu\\.conda\\envs\\tensorflow_env\\lib\\site-packages (from dash>=1.6.1->dash_daq) (5.13.1)\n",
      "Requirement already satisfied: Werkzeug>=2.2.2 in c:\\users\\shubu\\.conda\\envs\\tensorflow_env\\lib\\site-packages (from Flask>=1.0.4->dash>=1.6.1->dash_daq) (2.2.2)\n",
      "Requirement already satisfied: itsdangerous>=2.0 in c:\\users\\shubu\\.conda\\envs\\tensorflow_env\\lib\\site-packages (from Flask>=1.0.4->dash>=1.6.1->dash_daq) (2.1.2)\n",
      "Requirement already satisfied: click>=8.0 in c:\\users\\shubu\\.conda\\envs\\tensorflow_env\\lib\\site-packages (from Flask>=1.0.4->dash>=1.6.1->dash_daq) (8.0.4)\n",
      "Requirement already satisfied: Jinja2>=3.0 in c:\\users\\shubu\\.conda\\envs\\tensorflow_env\\lib\\site-packages (from Flask>=1.0.4->dash>=1.6.1->dash_daq) (3.1.2)\n",
      "Requirement already satisfied: tenacity>=6.2.0 in c:\\users\\shubu\\.conda\\envs\\tensorflow_env\\lib\\site-packages (from plotly>=5.0.0->dash>=1.6.1->dash_daq) (8.2.2)\n",
      "Requirement already satisfied: colorama in c:\\users\\shubu\\.conda\\envs\\tensorflow_env\\lib\\site-packages (from click>=8.0->Flask>=1.0.4->dash>=1.6.1->dash_daq) (0.4.6)\n",
      "Requirement already satisfied: MarkupSafe>=2.0 in c:\\users\\shubu\\.conda\\envs\\tensorflow_env\\lib\\site-packages (from Jinja2>=3.0->Flask>=1.0.4->dash>=1.6.1->dash_daq) (2.1.1)\n",
      "Installing collected packages: dash_daq\n",
      "Successfully installed dash_daq-0.5.0\n",
      "Note: you may need to restart the kernel to use updated packages.\n"
     ]
    }
   ],
   "source": [
    "pip install dash_daq"
   ]
  },
  {
   "cell_type": "code",
   "execution_count": 22,
   "id": "7b3ea2d4",
   "metadata": {},
   "outputs": [],
   "source": [
    "app = dash.Dash()\n",
    "server = app.server\n",
    "\n",
    "scaler=MinMaxScaler(feature_range=(0,1))\n",
    "\n",
    "company=\"\"\n",
    "x_train,y_train=[],[]\n",
    "model=None\n",
    "prediction=None\n",
    "train=valid=None\n",
    "date=None"
   ]
  },
  {
   "cell_type": "code",
   "execution_count": 23,
   "id": "de4cef12",
   "metadata": {},
   "outputs": [],
   "source": [
    "def sample(value):\n",
    "    import yfinance as yf\n",
    "    global company\n",
    "    company = value\n",
    "    #total=[]\n",
    "    stock = yf.Ticker(company)\n",
    "    df_nse = stock.history(period=\"10y\")\n",
    "    \n",
    "    df_nse.insert(0, 'Date', df_nse.index)\n",
    "    \n",
    "    n=int(df_nse.shape[0]*0.8)\n",
    "    d=60"
   ]
  },
  {
   "cell_type": "code",
   "execution_count": 25,
   "id": "32c34f46",
   "metadata": {},
   "outputs": [
    {
     "ename": "NameError",
     "evalue": "name 'df_nse' is not defined",
     "output_type": "error",
     "traceback": [
      "\u001b[1;31m---------------------------------------------------------------------------\u001b[0m",
      "\u001b[1;31mNameError\u001b[0m                                 Traceback (most recent call last)",
      "Cell \u001b[1;32mIn[25], line 1\u001b[0m\n\u001b[1;32m----> 1\u001b[0m df_nse[\u001b[38;5;124m\"\u001b[39m\u001b[38;5;124mDate\u001b[39m\u001b[38;5;124m\"\u001b[39m]\u001b[38;5;241m=\u001b[39mpd\u001b[38;5;241m.\u001b[39mto_datetime(\u001b[43mdf_nse\u001b[49m\u001b[38;5;241m.\u001b[39mDate,\u001b[38;5;28mformat\u001b[39m\u001b[38;5;241m=\u001b[39m\u001b[38;5;124m\"\u001b[39m\u001b[38;5;124m%\u001b[39m\u001b[38;5;124mm/\u001b[39m\u001b[38;5;132;01m%d\u001b[39;00m\u001b[38;5;124m/\u001b[39m\u001b[38;5;124m%\u001b[39m\u001b[38;5;124mY\u001b[39m\u001b[38;5;124m\"\u001b[39m)\n",
      "\u001b[1;31mNameError\u001b[0m: name 'df_nse' is not defined"
     ]
    }
   ],
   "source": [
    " df_nse[\"Date\"]=pd.to_datetime(df_nse.Date,format=\"%m/%d/%Y\")\n"
   ]
  },
  {
   "cell_type": "code",
   "execution_count": null,
   "id": "5f6a80db",
   "metadata": {},
   "outputs": [],
   "source": []
  }
 ],
 "metadata": {
  "kernelspec": {
   "display_name": "Python 3 (ipykernel)",
   "language": "python",
   "name": "python3"
  },
  "language_info": {
   "codemirror_mode": {
    "name": "ipython",
    "version": 3
   },
   "file_extension": ".py",
   "mimetype": "text/x-python",
   "name": "python",
   "nbconvert_exporter": "python",
   "pygments_lexer": "ipython3",
   "version": "3.10.9"
  }
 },
 "nbformat": 4,
 "nbformat_minor": 5
}
