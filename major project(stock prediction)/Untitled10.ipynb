{
 "cells": [
  {
   "cell_type": "code",
   "execution_count": null,
   "id": "1f123f3f",
   "metadata": {},
   "outputs": [],
   "source": []
  },
  {
   "cell_type": "code",
   "execution_count": 188,
   "id": "c9acec5c",
   "metadata": {},
   "outputs": [],
   "source": [
    "import numpy as np\n",
    "from tensorflow.keras.models import Sequential\n",
    "from tensorflow.keras.layers import LSTM\n",
    "from tensorflow.keras.layers import Dense, Dropout\n",
    "import pandas as pd\n",
    "from matplotlib import pyplot as plt\n",
    "from sklearn.preprocessing import StandardScaler\n",
    "import seaborn as sns"
   ]
  },
  {
   "cell_type": "code",
   "execution_count": 13,
   "id": "88bef766",
   "metadata": {},
   "outputs": [
    {
     "name": "stdout",
     "output_type": "stream",
     "text": [
      "Requirement already satisfied: pandas in c:\\users\\shubu\\.conda\\envs\\tensorflow_env\\lib\\site-packages (1.5.3)\n",
      "Requirement already satisfied: python-dateutil>=2.8.1 in c:\\users\\shubu\\.conda\\envs\\tensorflow_env\\lib\\site-packages (from pandas) (2.8.2)\n",
      "Requirement already satisfied: pytz>=2020.1 in c:\\users\\shubu\\.conda\\envs\\tensorflow_env\\lib\\site-packages (from pandas) (2022.7.1)\n",
      "Requirement already satisfied: numpy>=1.21.0 in c:\\users\\shubu\\.conda\\envs\\tensorflow_env\\lib\\site-packages (from pandas) (1.23.5)\n",
      "Requirement already satisfied: six>=1.5 in c:\\users\\shubu\\.conda\\envs\\tensorflow_env\\lib\\site-packages (from python-dateutil>=2.8.1->pandas) (1.16.0)\n",
      "Note: you may need to restart the kernel to use updated packages.\n"
     ]
    }
   ],
   "source": [
    "pip install pandas"
   ]
  },
  {
   "cell_type": "code",
   "execution_count": 9,
   "id": "4379ed99",
   "metadata": {},
   "outputs": [
    {
     "name": "stdout",
     "output_type": "stream",
     "text": [
      "Requirement already satisfied: matplotlib in c:\\users\\shubu\\.conda\\envs\\tensorflow_env\\lib\\site-packages (3.7.0)\n",
      "Requirement already satisfied: fonttools>=4.22.0 in c:\\users\\shubu\\.conda\\envs\\tensorflow_env\\lib\\site-packages (from matplotlib) (4.38.0)\n",
      "Requirement already satisfied: numpy>=1.20 in c:\\users\\shubu\\.conda\\envs\\tensorflow_env\\lib\\site-packages (from matplotlib) (1.23.5)\n",
      "Requirement already satisfied: pyparsing>=2.3.1 in c:\\users\\shubu\\.conda\\envs\\tensorflow_env\\lib\\site-packages (from matplotlib) (3.0.9)\n",
      "Requirement already satisfied: packaging>=20.0 in c:\\users\\shubu\\.conda\\envs\\tensorflow_env\\lib\\site-packages (from matplotlib) (22.0)\n",
      "Requirement already satisfied: kiwisolver>=1.0.1 in c:\\users\\shubu\\.conda\\envs\\tensorflow_env\\lib\\site-packages (from matplotlib) (1.4.4)\n",
      "Requirement already satisfied: pillow>=6.2.0 in c:\\users\\shubu\\.conda\\envs\\tensorflow_env\\lib\\site-packages (from matplotlib) (9.4.0)\n",
      "Requirement already satisfied: cycler>=0.10 in c:\\users\\shubu\\.conda\\envs\\tensorflow_env\\lib\\site-packages (from matplotlib) (0.11.0)\n",
      "Requirement already satisfied: python-dateutil>=2.7 in c:\\users\\shubu\\.conda\\envs\\tensorflow_env\\lib\\site-packages (from matplotlib) (2.8.2)\n",
      "Requirement already satisfied: contourpy>=1.0.1 in c:\\users\\shubu\\.conda\\envs\\tensorflow_env\\lib\\site-packages (from matplotlib) (1.0.7)\n",
      "Requirement already satisfied: six>=1.5 in c:\\users\\shubu\\.conda\\envs\\tensorflow_env\\lib\\site-packages (from python-dateutil>=2.7->matplotlib) (1.16.0)\n",
      "Note: you may need to restart the kernel to use updated packages.\n"
     ]
    }
   ],
   "source": [
    "pip  install matplotlib"
   ]
  },
  {
   "cell_type": "code",
   "execution_count": 11,
   "id": "cd5e6d08",
   "metadata": {},
   "outputs": [
    {
     "name": "stdout",
     "output_type": "stream",
     "text": [
      "Collecting sklearnNote: you may need to restart the kernel to use updated packages.\n",
      "\n",
      "  Using cached sklearn-0.0.post1-py3-none-any.whl\n",
      "Installing collected packages: sklearn\n",
      "Successfully installed sklearn-0.0.post1\n"
     ]
    }
   ],
   "source": [
    "pip install sklearn"
   ]
  },
  {
   "cell_type": "code",
   "execution_count": 15,
   "id": "aaa07841",
   "metadata": {},
   "outputs": [
    {
     "name": "stdout",
     "output_type": "stream",
     "text": [
      "Requirement already satisfied: scikit-learn in c:\\users\\shubu\\.conda\\envs\\tensorflow_env\\lib\\site-packages (1.2.1)\n",
      "Requirement already satisfied: numpy>=1.17.3 in c:\\users\\shubu\\.conda\\envs\\tensorflow_env\\lib\\site-packages (from scikit-learn) (1.23.5)\n",
      "Requirement already satisfied: joblib>=1.1.1 in c:\\users\\shubu\\.conda\\envs\\tensorflow_env\\lib\\site-packages (from scikit-learn) (1.2.0)\n",
      "Requirement already satisfied: threadpoolctl>=2.0.0 in c:\\users\\shubu\\.conda\\envs\\tensorflow_env\\lib\\site-packages (from scikit-learn) (3.1.0)\n",
      "Requirement already satisfied: scipy>=1.3.2 in c:\\users\\shubu\\.conda\\envs\\tensorflow_env\\lib\\site-packages (from scikit-learn) (1.10.0)\n",
      "Note: you may need to restart the kernel to use updated packages.\n"
     ]
    }
   ],
   "source": [
    "pip install scikit-learn"
   ]
  },
  {
   "cell_type": "code",
   "execution_count": 17,
   "id": "9c4a051e",
   "metadata": {},
   "outputs": [
    {
     "name": "stdout",
     "output_type": "stream",
     "text": [
      "Collecting seabornNote: you may need to restart the kernel to use updated packages.\n",
      "\n",
      "  Downloading seaborn-0.12.2-py3-none-any.whl (293 kB)\n",
      "     ------------------------------------ 293.3/293.3 kB 672.3 kB/s eta 0:00:00\n",
      "Requirement already satisfied: matplotlib!=3.6.1,>=3.1 in c:\\users\\shubu\\.conda\\envs\\tensorflow_env\\lib\\site-packages (from seaborn) (3.7.0)\n",
      "Requirement already satisfied: numpy!=1.24.0,>=1.17 in c:\\users\\shubu\\.conda\\envs\\tensorflow_env\\lib\\site-packages (from seaborn) (1.23.5)\n",
      "Requirement already satisfied: pandas>=0.25 in c:\\users\\shubu\\.conda\\envs\\tensorflow_env\\lib\\site-packages (from seaborn) (1.5.3)\n",
      "Requirement already satisfied: pyparsing>=2.3.1 in c:\\users\\shubu\\.conda\\envs\\tensorflow_env\\lib\\site-packages (from matplotlib!=3.6.1,>=3.1->seaborn) (3.0.9)\n",
      "Requirement already satisfied: pillow>=6.2.0 in c:\\users\\shubu\\.conda\\envs\\tensorflow_env\\lib\\site-packages (from matplotlib!=3.6.1,>=3.1->seaborn) (9.4.0)\n",
      "Requirement already satisfied: cycler>=0.10 in c:\\users\\shubu\\.conda\\envs\\tensorflow_env\\lib\\site-packages (from matplotlib!=3.6.1,>=3.1->seaborn) (0.11.0)\n",
      "Requirement already satisfied: packaging>=20.0 in c:\\users\\shubu\\.conda\\envs\\tensorflow_env\\lib\\site-packages (from matplotlib!=3.6.1,>=3.1->seaborn) (22.0)\n",
      "Requirement already satisfied: kiwisolver>=1.0.1 in c:\\users\\shubu\\.conda\\envs\\tensorflow_env\\lib\\site-packages (from matplotlib!=3.6.1,>=3.1->seaborn) (1.4.4)\n",
      "Requirement already satisfied: fonttools>=4.22.0 in c:\\users\\shubu\\.conda\\envs\\tensorflow_env\\lib\\site-packages (from matplotlib!=3.6.1,>=3.1->seaborn) (4.38.0)\n",
      "Requirement already satisfied: python-dateutil>=2.7 in c:\\users\\shubu\\.conda\\envs\\tensorflow_env\\lib\\site-packages (from matplotlib!=3.6.1,>=3.1->seaborn) (2.8.2)\n",
      "Requirement already satisfied: contourpy>=1.0.1 in c:\\users\\shubu\\.conda\\envs\\tensorflow_env\\lib\\site-packages (from matplotlib!=3.6.1,>=3.1->seaborn) (1.0.7)\n",
      "Requirement already satisfied: pytz>=2020.1 in c:\\users\\shubu\\.conda\\envs\\tensorflow_env\\lib\\site-packages (from pandas>=0.25->seaborn) (2022.7.1)\n",
      "Requirement already satisfied: six>=1.5 in c:\\users\\shubu\\.conda\\envs\\tensorflow_env\\lib\\site-packages (from python-dateutil>=2.7->matplotlib!=3.6.1,>=3.1->seaborn) (1.16.0)\n",
      "Installing collected packages: seaborn\n",
      "Successfully installed seaborn-0.12.2\n"
     ]
    }
   ],
   "source": [
    "pip install seaborn"
   ]
  },
  {
   "cell_type": "code",
   "execution_count": 189,
   "id": "8d3b5202",
   "metadata": {},
   "outputs": [
    {
     "name": "stdout",
     "output_type": "stream",
     "text": [
      "  Symbol       Date   Open  Close  Volume   High    Low\n",
      "0   NICA  7/14/2013  750.0  504.0      40  504.0  477.0\n",
      "1   NICA  7/15/2013  504.0  554.0      40  554.0  529.0\n",
      "2   NICA  7/17/2013  554.0  609.0     150  609.0  565.0\n",
      "3   NICA  7/18/2013  609.0  669.0    1706  669.0  621.0\n",
      "4   NICA  7/21/2013  669.0  735.0   12269  735.0  682.0\n"
     ]
    }
   ],
   "source": [
    "#Read the csv file\n",
    "df = pd.read_csv('.csv files/nepse_NICA.csv')\n",
    "print(df.head()) #7 columns, including the Date. \n"
   ]
  },
  {
   "cell_type": "code",
   "execution_count": 190,
   "id": "45df3c66",
   "metadata": {},
   "outputs": [
    {
     "name": "stdout",
     "output_type": "stream",
     "text": [
      "     Symbol       Date   Open  Close  Volume   High    Low\n",
      "2183   NICA  2/20/2023  809.0  815.0   68598  819.9  798.0\n",
      "2184   NICA  2/22/2023  821.0  818.0   55398  821.0  808.0\n",
      "2185   NICA  2/23/2023  808.0  814.0   98136  815.0  803.4\n",
      "2186   NICA  2/26/2023  810.1  810.0   98067  815.0  793.8\n",
      "2187   NICA  2/27/2023  810.0  812.0   62896  820.0  801.1\n"
     ]
    }
   ],
   "source": [
    "print(df.tail())"
   ]
  },
  {
   "cell_type": "code",
   "execution_count": 191,
   "id": "ef9bdcfe",
   "metadata": {},
   "outputs": [
    {
     "name": "stdout",
     "output_type": "stream",
     "text": [
      "2173   2023-02-02\n",
      "2174   2023-02-05\n",
      "2175   2023-02-06\n",
      "2176   2023-02-07\n",
      "2177   2023-02-08\n",
      "2178   2023-02-09\n",
      "2179   2023-02-12\n",
      "2180   2023-02-14\n",
      "2181   2023-02-15\n",
      "2182   2023-02-16\n",
      "2183   2023-02-20\n",
      "2184   2023-02-22\n",
      "2185   2023-02-23\n",
      "2186   2023-02-26\n",
      "2187   2023-02-27\n",
      "Name: Date, dtype: datetime64[ns]\n"
     ]
    }
   ],
   "source": [
    "#Separate dates for future plotting\n",
    "train_dates = pd.to_datetime(df['Date'])\n",
    "print(train_dates.tail(15)) #Check last few dates. "
   ]
  },
  {
   "cell_type": "code",
   "execution_count": 192,
   "id": "9dcbe57e",
   "metadata": {},
   "outputs": [],
   "source": [
    "#Variables for training\n",
    "cols = list(df)[2:5]\n"
   ]
  },
  {
   "cell_type": "code",
   "execution_count": 193,
   "id": "8c617244",
   "metadata": {},
   "outputs": [
    {
     "name": "stdout",
     "output_type": "stream",
     "text": [
      "['Open', 'Close', 'Volume']\n"
     ]
    }
   ],
   "source": [
    "#Date and change columns are not used in training. \n",
    "print(cols) #['Open', 'Close', 'Volume']"
   ]
  },
  {
   "cell_type": "code",
   "execution_count": 194,
   "id": "f23d1215",
   "metadata": {},
   "outputs": [],
   "source": [
    "#New dataframe with only training data - 3 columns\n",
    "df_for_training = df[cols].astype(float)"
   ]
  },
  {
   "cell_type": "code",
   "execution_count": 195,
   "id": "58ac1631",
   "metadata": {},
   "outputs": [
    {
     "data": {
      "text/plain": [
       "<Axes: >"
      ]
     },
     "execution_count": 195,
     "metadata": {},
     "output_type": "execute_result"
    },
    {
     "data": {
      "image/png": "[encoded data removed]",
      "text/plain": [
       "<Figure size 640x480 with 1 Axes>"
      ]
     },
     "metadata": {},
     "output_type": "display_data"
    }
   ],
   "source": [
    " df_for_plot=df_for_training.tail(5000)\n",
    " df_for_plot.plot.line()"
   ]
  },
  {
   "cell_type": "code",
   "execution_count": 196,
   "id": "f29c1943",
   "metadata": {},
   "outputs": [],
   "source": [
    "#LSTM uses sigmoid and tanh that are sensitive to magnitude so values need to be normalized\n",
    "# normalize the dataset\n",
    "scaler = StandardScaler()\n",
    "scaler = scaler.fit(df_for_training)\n",
    "df_for_training_scaled = scaler.transform(df_for_training)"
   ]
  },
  {
   "cell_type": "code",
   "execution_count": 197,
   "id": "2be75cb0",
   "metadata": {},
   "outputs": [],
   "source": [
    "#As required for LSTM networks, we require to reshape an input data into n_samples x timesteps x n_features. \n",
    "#In this example, the n_features is 3. We will make timesteps = 14 (past days data used for training). \n",
    "\n",
    "#Empty lists to be populated using formatted training data\n",
    "trainX = []\n",
    "trainY = []\n",
    "\n",
    "n_future = 1   # Number of days we want to look into the future based on the past days.\n",
    "n_past = 14  # Number of past days we want to use to predict the future.\n"
   ]
  },
  {
   "cell_type": "code",
   "execution_count": 198,
   "id": "d09394de",
   "metadata": {},
   "outputs": [
    {
     "name": "stdout",
     "output_type": "stream",
     "text": [
      "trainX shape == (2174, 14, 3).\n",
      "trainY shape == (2174, 1).\n"
     ]
    }
   ],
   "source": [
    "#Reformat input data into a shape: (n_samples x timesteps x n_features)\n",
    "#In my example, my df_for_training_scaled has a shape (2266, 3)\n",
    "#12823 refers to the number of data points and 3 refers to the columns (multi-variables).\n",
    "for i in range(n_past, len(df_for_training_scaled) - n_future +1):\n",
    "    trainX.append(df_for_training_scaled[i - n_past:i, 0:df_for_training.shape[1]])\n",
    "    trainY.append(df_for_training_scaled[i + n_future - 1:i + n_future, 0])\n",
    "\n",
    "trainX, trainY = np.array(trainX), np.array(trainY)\n",
    "\n",
    "print('trainX shape == {}.'.format(trainX.shape))\n",
    "print('trainY shape == {}.'.format(trainY.shape))"
   ]
  },
  {
   "cell_type": "code",
   "execution_count": 199,
   "id": "45b4da49",
   "metadata": {},
   "outputs": [
    {
     "name": "stdout",
     "output_type": "stream",
     "text": [
      "Model: \"sequential_4\"\n",
      "_________________________________________________________________\n",
      " Layer (type)                Output Shape              Param #   \n",
      "=================================================================\n",
      " lstm_8 (LSTM)               (None, 14, 64)            17408     \n",
      "                                                                 \n",
      " lstm_9 (LSTM)               (None, 32)                12416     \n",
      "                                                                 \n",
      " dropout_4 (Dropout)         (None, 32)                0         \n",
      "                                                                 \n",
      " dense_4 (Dense)             (None, 1)                 33        \n",
      "                                                                 \n",
      "=================================================================\n",
      "Total params: 29,857\n",
      "Trainable params: 29,857\n",
      "Non-trainable params: 0\n",
      "_________________________________________________________________\n"
     ]
    }
   ],
   "source": [
    "# define the Autoencoder model\n",
    "\n",
    "model = Sequential()\n",
    "model.add(LSTM(64, activation='relu', input_shape=(trainX.shape[1], trainX.shape[2]), return_sequences=True))\n",
    "model.add(LSTM(32, activation='relu', return_sequences=False))\n",
    "model.add(Dropout(0.2))\n",
    "model.add(Dense(trainY.shape[1]))\n",
    "\n",
    "model.compile(optimizer='adam', loss='mse')\n",
    "model.summary()"
   ]
  },
  {
   "cell_type": "code",
   "execution_count": 200,
   "id": "4d39877f",
   "metadata": {},
   "outputs": [
    {
     "name": "stdout",
     "output_type": "stream",
     "text": [
      "Epoch 1/100\n",
      "31/31 [==============================] - 5s 40ms/step - loss: 0.4065 - val_loss: 0.0431\n",
      "Epoch 2/100\n",
      "31/31 [==============================] - 1s 20ms/step - loss: 0.0866 - val_loss: 0.0214\n",
      "Epoch 3/100\n",
      "31/31 [==============================] - 1s 20ms/step - loss: 0.0690 - val_loss: 0.0180\n",
      "Epoch 4/100\n",
      "31/31 [==============================] - 1s 21ms/step - loss: 0.0554 - val_loss: 0.0160\n",
      "Epoch 5/100\n",
      "31/31 [==============================] - 1s 20ms/step - loss: 0.0457 - val_loss: 0.0132\n",
      "Epoch 6/100\n",
      "31/31 [==============================] - 1s 21ms/step - loss: 0.0455 - val_loss: 0.0119\n",
      "Epoch 7/100\n",
      "31/31 [==============================] - 1s 20ms/step - loss: 0.0427 - val_loss: 0.0111\n",
      "Epoch 8/100\n",
      "31/31 [==============================] - 1s 20ms/step - loss: 0.0400 - val_loss: 0.0100\n",
      "Epoch 9/100\n",
      "31/31 [==============================] - 1s 21ms/step - loss: 0.0394 - val_loss: 0.0109\n",
      "Epoch 10/100\n",
      "31/31 [==============================] - 1s 21ms/step - loss: 0.0428 - val_loss: 0.0101\n",
      "Epoch 11/100\n",
      "31/31 [==============================] - 1s 21ms/step - loss: 0.0424 - val_loss: 0.0121\n",
      "Epoch 12/100\n",
      "31/31 [==============================] - 1s 21ms/step - loss: 0.0382 - val_loss: 0.0089\n",
      "Epoch 13/100\n",
      "31/31 [==============================] - 1s 21ms/step - loss: 0.0375 - val_loss: 0.0097\n",
      "Epoch 14/100\n",
      "31/31 [==============================] - 1s 21ms/step - loss: 0.0372 - val_loss: 0.0078\n",
      "Epoch 15/100\n",
      "31/31 [==============================] - 1s 21ms/step - loss: 0.0371 - val_loss: 0.0072\n",
      "Epoch 16/100\n",
      "31/31 [==============================] - 1s 21ms/step - loss: 0.0341 - val_loss: 0.0075\n",
      "Epoch 17/100\n",
      "31/31 [==============================] - 1s 22ms/step - loss: 0.0368 - val_loss: 0.0083\n",
      "Epoch 18/100\n",
      "31/31 [==============================] - 1s 21ms/step - loss: 0.0318 - val_loss: 0.0068\n",
      "Epoch 19/100\n",
      "31/31 [==============================] - 1s 21ms/step - loss: 0.0348 - val_loss: 0.0089\n",
      "Epoch 20/100\n",
      "31/31 [==============================] - 1s 21ms/step - loss: 0.0354 - val_loss: 0.0082\n",
      "Epoch 21/100\n",
      "31/31 [==============================] - 1s 21ms/step - loss: 0.0326 - val_loss: 0.0064\n",
      "Epoch 22/100\n",
      "31/31 [==============================] - 1s 21ms/step - loss: 0.0334 - val_loss: 0.0071\n",
      "Epoch 23/100\n",
      "31/31 [==============================] - 1s 21ms/step - loss: 0.0327 - val_loss: 0.0065\n",
      "Epoch 24/100\n",
      "31/31 [==============================] - 1s 21ms/step - loss: 0.0326 - val_loss: 0.0062\n",
      "Epoch 25/100\n",
      "31/31 [==============================] - 1s 20ms/step - loss: 0.0338 - val_loss: 0.0054\n",
      "Epoch 26/100\n",
      "31/31 [==============================] - 1s 21ms/step - loss: 0.0339 - val_loss: 0.0069\n",
      "Epoch 27/100\n",
      "31/31 [==============================] - 1s 20ms/step - loss: 0.0335 - val_loss: 0.0062\n",
      "Epoch 28/100\n",
      "31/31 [==============================] - 1s 20ms/step - loss: 0.0331 - val_loss: 0.0059\n",
      "Epoch 29/100\n",
      "31/31 [==============================] - 1s 20ms/step - loss: 0.0328 - val_loss: 0.0071\n",
      "Epoch 30/100\n",
      "31/31 [==============================] - 1s 20ms/step - loss: 0.0309 - val_loss: 0.0060\n",
      "Epoch 31/100\n",
      "31/31 [==============================] - 1s 20ms/step - loss: 0.0317 - val_loss: 0.0055\n",
      "Epoch 32/100\n",
      "31/31 [==============================] - 1s 20ms/step - loss: 0.0327 - val_loss: 0.0070\n",
      "Epoch 33/100\n",
      "31/31 [==============================] - 1s 20ms/step - loss: 0.0314 - val_loss: 0.0051\n",
      "Epoch 34/100\n",
      "31/31 [==============================] - 1s 21ms/step - loss: 0.0310 - val_loss: 0.0062\n",
      "Epoch 35/100\n",
      "31/31 [==============================] - 1s 21ms/step - loss: 0.0315 - val_loss: 0.0056\n",
      "Epoch 36/100\n",
      "31/31 [==============================] - 1s 21ms/step - loss: 0.0289 - val_loss: 0.0058\n",
      "Epoch 37/100\n",
      "31/31 [==============================] - 1s 21ms/step - loss: 0.0296 - val_loss: 0.0050\n",
      "Epoch 38/100\n",
      "31/31 [==============================] - 1s 21ms/step - loss: 0.0303 - val_loss: 0.0041\n",
      "Epoch 39/100\n",
      "31/31 [==============================] - 1s 21ms/step - loss: 0.0296 - val_loss: 0.0052\n",
      "Epoch 40/100\n",
      "31/31 [==============================] - 1s 21ms/step - loss: 0.0296 - val_loss: 0.0039\n",
      "Epoch 41/100\n",
      "31/31 [==============================] - 1s 21ms/step - loss: 0.0298 - val_loss: 0.0086\n",
      "Epoch 42/100\n",
      "31/31 [==============================] - 1s 21ms/step - loss: 0.0339 - val_loss: 0.0047\n",
      "Epoch 43/100\n",
      "31/31 [==============================] - 1s 21ms/step - loss: 0.0279 - val_loss: 0.0053\n",
      "Epoch 44/100\n",
      "31/31 [==============================] - 1s 21ms/step - loss: 0.0283 - val_loss: 0.0037\n",
      "Epoch 45/100\n",
      "31/31 [==============================] - 1s 21ms/step - loss: 0.0281 - val_loss: 0.0047\n",
      "Epoch 46/100\n",
      "31/31 [==============================] - 1s 21ms/step - loss: 0.0277 - val_loss: 0.0038\n",
      "Epoch 47/100\n",
      "31/31 [==============================] - 1s 20ms/step - loss: 0.0303 - val_loss: 0.0041\n",
      "Epoch 48/100\n",
      "31/31 [==============================] - 1s 21ms/step - loss: 0.0279 - val_loss: 0.0039\n",
      "Epoch 49/100\n",
      "31/31 [==============================] - 1s 21ms/step - loss: 0.0281 - val_loss: 0.0049\n",
      "Epoch 50/100\n",
      "31/31 [==============================] - 1s 21ms/step - loss: 0.0284 - val_loss: 0.0038\n",
      "Epoch 51/100\n",
      "31/31 [==============================] - 1s 21ms/step - loss: 0.0284 - val_loss: 0.0066\n",
      "Epoch 52/100\n",
      "31/31 [==============================] - 1s 21ms/step - loss: 0.0298 - val_loss: 0.0039\n",
      "Epoch 53/100\n",
      "31/31 [==============================] - 1s 21ms/step - loss: 0.0267 - val_loss: 0.0038\n",
      "Epoch 54/100\n",
      "31/31 [==============================] - 1s 21ms/step - loss: 0.0264 - val_loss: 0.0034\n",
      "Epoch 55/100\n",
      "31/31 [==============================] - 1s 21ms/step - loss: 0.0279 - val_loss: 0.0049\n",
      "Epoch 56/100\n",
      "31/31 [==============================] - 1s 21ms/step - loss: 0.0261 - val_loss: 0.0028\n",
      "Epoch 57/100\n",
      "31/31 [==============================] - 1s 20ms/step - loss: 0.0282 - val_loss: 0.0035\n",
      "Epoch 58/100\n",
      "31/31 [==============================] - 1s 20ms/step - loss: 0.0287 - val_loss: 0.0045\n",
      "Epoch 59/100\n",
      "31/31 [==============================] - 1s 21ms/step - loss: 0.0289 - val_loss: 0.0036\n",
      "Epoch 60/100\n",
      "31/31 [==============================] - 1s 21ms/step - loss: 0.0280 - val_loss: 0.0033\n",
      "Epoch 61/100\n",
      "31/31 [==============================] - 1s 20ms/step - loss: 0.0301 - val_loss: 0.0039\n",
      "Epoch 62/100\n",
      "31/31 [==============================] - 1s 20ms/step - loss: 0.0272 - val_loss: 0.0036\n",
      "Epoch 63/100\n",
      "31/31 [==============================] - 1s 20ms/step - loss: 0.0269 - val_loss: 0.0029\n",
      "Epoch 64/100\n",
      "31/31 [==============================] - 1s 21ms/step - loss: 0.0280 - val_loss: 0.0039\n",
      "Epoch 65/100\n",
      "31/31 [==============================] - 1s 21ms/step - loss: 0.0285 - val_loss: 0.0047\n",
      "Epoch 66/100\n",
      "31/31 [==============================] - 1s 21ms/step - loss: 0.0273 - val_loss: 0.0038\n",
      "Epoch 67/100\n",
      "31/31 [==============================] - 1s 20ms/step - loss: 0.0295 - val_loss: 0.0063\n",
      "Epoch 68/100\n",
      "31/31 [==============================] - 1s 21ms/step - loss: 0.0281 - val_loss: 0.0039\n",
      "Epoch 69/100\n",
      "31/31 [==============================] - 1s 21ms/step - loss: 0.0268 - val_loss: 0.0032\n",
      "Epoch 70/100\n",
      "31/31 [==============================] - 1s 21ms/step - loss: 0.0264 - val_loss: 0.0070\n",
      "Epoch 71/100\n",
      "31/31 [==============================] - 1s 21ms/step - loss: 0.0281 - val_loss: 0.0028\n",
      "Epoch 72/100\n",
      "31/31 [==============================] - 1s 21ms/step - loss: 0.0252 - val_loss: 0.0044\n",
      "Epoch 73/100\n",
      "31/31 [==============================] - 1s 22ms/step - loss: 0.0296 - val_loss: 0.0036\n",
      "Epoch 74/100\n",
      "31/31 [==============================] - 1s 22ms/step - loss: 0.0266 - val_loss: 0.0049\n",
      "Epoch 75/100\n",
      "31/31 [==============================] - 1s 21ms/step - loss: 0.0303 - val_loss: 0.0028\n",
      "Epoch 76/100\n",
      "31/31 [==============================] - 1s 21ms/step - loss: 0.0286 - val_loss: 0.0042\n",
      "Epoch 77/100\n",
      "31/31 [==============================] - 1s 21ms/step - loss: 0.0267 - val_loss: 0.0030\n",
      "Epoch 78/100\n",
      "31/31 [==============================] - 1s 21ms/step - loss: 0.0296 - val_loss: 0.0059\n",
      "Epoch 79/100\n",
      "31/31 [==============================] - 1s 21ms/step - loss: 0.0282 - val_loss: 0.0029\n",
      "Epoch 80/100\n",
      "31/31 [==============================] - 1s 21ms/step - loss: 0.0260 - val_loss: 0.0026\n",
      "Epoch 81/100\n",
      "31/31 [==============================] - 1s 22ms/step - loss: 0.0275 - val_loss: 0.0024\n",
      "Epoch 82/100\n"
     ]
    },
    {
     "name": "stdout",
     "output_type": "stream",
     "text": [
      "31/31 [==============================] - 1s 19ms/step - loss: 0.0267 - val_loss: 0.0024\n",
      "Epoch 83/100\n",
      "31/31 [==============================] - 1s 20ms/step - loss: 0.0266 - val_loss: 0.0029\n",
      "Epoch 84/100\n",
      "31/31 [==============================] - 1s 20ms/step - loss: 0.0270 - val_loss: 0.0027\n",
      "Epoch 85/100\n",
      "31/31 [==============================] - 1s 19ms/step - loss: 0.0291 - val_loss: 0.0033\n",
      "Epoch 86/100\n",
      "31/31 [==============================] - 1s 20ms/step - loss: 0.0287 - val_loss: 0.0028\n",
      "Epoch 87/100\n",
      "31/31 [==============================] - 1s 20ms/step - loss: 0.0262 - val_loss: 0.0022\n",
      "Epoch 88/100\n",
      "31/31 [==============================] - 1s 21ms/step - loss: 0.0268 - val_loss: 0.0031\n",
      "Epoch 89/100\n",
      "31/31 [==============================] - 1s 21ms/step - loss: 0.0268 - val_loss: 0.0022\n",
      "Epoch 90/100\n",
      "31/31 [==============================] - 1s 21ms/step - loss: 0.0253 - val_loss: 0.0033\n",
      "Epoch 91/100\n",
      "31/31 [==============================] - 1s 21ms/step - loss: 0.0268 - val_loss: 0.0030\n",
      "Epoch 92/100\n",
      "31/31 [==============================] - 1s 21ms/step - loss: 0.0257 - val_loss: 0.0033\n",
      "Epoch 93/100\n",
      "31/31 [==============================] - 1s 21ms/step - loss: 0.0284 - val_loss: 0.0033\n",
      "Epoch 94/100\n",
      "31/31 [==============================] - 1s 21ms/step - loss: 0.0275 - val_loss: 0.0024\n",
      "Epoch 95/100\n",
      "31/31 [==============================] - 1s 21ms/step - loss: 0.0264 - val_loss: 0.0036\n",
      "Epoch 96/100\n",
      "31/31 [==============================] - 1s 21ms/step - loss: 0.0293 - val_loss: 0.0034\n",
      "Epoch 97/100\n",
      "31/31 [==============================] - 1s 21ms/step - loss: 0.0261 - val_loss: 0.0022\n",
      "Epoch 98/100\n",
      "31/31 [==============================] - 1s 21ms/step - loss: 0.0275 - val_loss: 0.0042\n",
      "Epoch 99/100\n",
      "31/31 [==============================] - 1s 21ms/step - loss: 0.0263 - val_loss: 0.0021\n",
      "Epoch 100/100\n",
      "31/31 [==============================] - 1s 21ms/step - loss: 0.0264 - val_loss: 0.0028\n"
     ]
    }
   ],
   "source": [
    "# fit the model\n",
    "history = model.fit(trainX, trainY, epochs=100, batch_size=64, validation_split=0.1, verbose=1)\n"
   ]
  },
  {
   "cell_type": "code",
   "execution_count": 202,
   "id": "201acd9e",
   "metadata": {},
   "outputs": [
    {
     "data": {
      "text/plain": [
       "<matplotlib.legend.Legend at 0x16b6056bd60>"
      ]
     },
     "execution_count": 202,
     "metadata": {},
     "output_type": "execute_result"
    },
    {
     "data": {
      "image/png": "[encoded data removed]",
      "text/plain": [
       "<Figure size 640x480 with 1 Axes>"
      ]
     },
     "metadata": {},
     "output_type": "display_data"
    }
   ],
   "source": [
    "plt.plot(history.history['loss'], label='Training loss')\n",
    "plt.plot(history.history['val_loss'], label='Validation loss')\n",
    "plt.legend()"
   ]
  },
  {
   "cell_type": "code",
   "execution_count": 203,
   "id": "11ebdf21",
   "metadata": {},
   "outputs": [
    {
     "name": "stdout",
     "output_type": "stream",
     "text": [
      "WARNING:tensorflow:5 out of the last 88 calls to <function Model.make_predict_function.<locals>.predict_function at 0x0000016B68323250> triggered tf.function retracing. Tracing is expensive and the excessive number of tracings could be due to (1) creating @tf.function repeatedly in a loop, (2) passing tensors with different shapes, (3) passing Python objects instead of tensors. For (1), please define your @tf.function outside of the loop. For (2), @tf.function has reduce_retracing=True option that can avoid unnecessary retracing. For (3), please refer to https://www.tensorflow.org/guide/function#controlling_retracing and https://www.tensorflow.org/api_docs/python/tf/function for  more details.\n",
      "3/3 [==============================] - 0s 8ms/step\n"
     ]
    }
   ],
   "source": [
    "#forecasting\n",
    "n_future = 90\n",
    "forecast_period_dates=pd.date_range(list(train_dates)[-1],periods=n_future,freq='1d').tolist()\n",
    "forecast = model.predict(trainX[-n_future:])#forecast\n"
   ]
  },
  {
   "cell_type": "code",
   "execution_count": 205,
   "id": "5148f3d7",
   "metadata": {},
   "outputs": [
    {
     "name": "stdout",
     "output_type": "stream",
     "text": [
      "[609.36816 613.893   607.79034 608.0989  610.04095 615.1396  628.09467\n",
      " 624.13654 612.0453  610.28766 610.10046 610.57    609.14764 612.83167\n",
      " 614.26666 615.985   647.89777 679.8826  690.6409  686.8357  688.62537\n",
      " 684.5719  678.2996  674.75006 665.3915  660.8495  665.20435 666.96466\n",
      " 672.7041  681.78906 684.853   682.03357 684.9205  691.59045 689.8572\n",
      " 685.282   689.3869  700.74603 706.61487 700.12006 694.45483 688.3709\n",
      " 673.84515 676.22076 677.05585 675.2263  672.51526 665.8932  664.013\n",
      " 668.06226 668.42633 665.6814  684.56384 698.9109  695.65674 712.86017\n",
      " 730.4551  752.8597  765.02905 774.04285 788.3179  787.29443 799.94305\n",
      " 804.6521  804.6984  811.1183  810.1187  831.811   835.7301  831.6476\n",
      " 825.1016  820.1104  818.0202  807.33307 802.01544 803.8952  802.8971\n",
      " 805.9688  812.63495 820.3244  826.6323  830.2259  813.07367 805.1194\n",
      " 805.11316 801.9964  802.94403 807.3769  802.1671  798.7834 ]\n"
     ]
    }
   ],
   "source": [
    "#Perform inverse transformation to rescale back to original range\n",
    "#Since we used 3 variables for transform, the inverse expects same dimensions\n",
    "#Therefore, let us copy our values 3 times and discard them after inverse transform\n",
    "forecast_copies = np.repeat(forecast, df_for_training.shape[1], axis=-1)\n",
    "y_pred_future = scaler.inverse_transform(forecast_copies)[:,0]\n",
    "print(y_pred_future)\n"
   ]
  },
  {
   "cell_type": "code",
   "execution_count": 206,
   "id": "ba232b46",
   "metadata": {},
   "outputs": [],
   "source": [
    "# Convert timestamp to date\n",
    "forecast_dates = []\n",
    "for time_i in forecast_period_dates:\n",
    "    forecast_dates.append(time_i.date())\n",
    "    \n",
    "df_forecast = pd.DataFrame({'Date':np.array(forecast_dates), 'Close':y_pred_future})\n",
    "df_forecast['Date']=pd.to_datetime(df_forecast['Date'])\n"
   ]
  },
  {
   "cell_type": "code",
   "execution_count": 207,
   "id": "21529c91",
   "metadata": {},
   "outputs": [
    {
     "name": "stdout",
     "output_type": "stream",
     "text": [
      "0    2023-02-27\n",
      "1    2023-02-28\n",
      "2    2023-03-01\n",
      "3    2023-03-02\n",
      "4    2023-03-03\n",
      "        ...    \n",
      "85   2023-05-23\n",
      "86   2023-05-24\n",
      "87   2023-05-25\n",
      "88   2023-05-26\n",
      "89   2023-05-27\n",
      "Name: Date, Length: 90, dtype: datetime64[ns]\n"
     ]
    }
   ],
   "source": [
    "print(df_forecast['Date'])"
   ]
  },
  {
   "cell_type": "code",
   "execution_count": 208,
   "id": "ea69cc0c",
   "metadata": {},
   "outputs": [
    {
     "name": "stderr",
     "output_type": "stream",
     "text": [
      "C:\\Users\\shubu\\AppData\\Local\\Temp\\ipykernel_8672\\2894329927.py:2: SettingWithCopyWarning: \n",
      "A value is trying to be set on a copy of a slice from a DataFrame.\n",
      "Try using .loc[row_indexer,col_indexer] = value instead\n",
      "\n",
      "See the caveats in the documentation: https://pandas.pydata.org/pandas-docs/stable/user_guide/indexing.html#returning-a-view-versus-a-copy\n",
      "  original['Date']=pd.to_datetime(original['Date'])\n"
     ]
    }
   ],
   "source": [
    "original = df[['Date', 'Close']]\n",
    "original['Date']=pd.to_datetime(original['Date'])\n",
    "original = original.loc[original['Date'] >= '2022-05-1']\n"
   ]
  },
  {
   "cell_type": "code",
   "execution_count": null,
   "id": "8a9dce92",
   "metadata": {},
   "outputs": [],
   "source": []
  },
  {
   "cell_type": "code",
   "execution_count": 98,
   "id": "717b5bf9",
   "metadata": {},
   "outputs": [
    {
     "name": "stderr",
     "output_type": "stream",
     "text": [
      "C:\\Users\\shubu\\AppData\\Local\\Temp\\ipykernel_8672\\1563425839.py:2: SettingWithCopyWarning: \n",
      "A value is trying to be set on a copy of a slice from a DataFrame.\n",
      "Try using .loc[row_indexer,col_indexer] = value instead\n",
      "\n",
      "See the caveats in the documentation: https://pandas.pydata.org/pandas-docs/stable/user_guide/indexing.html#returning-a-view-versus-a-copy\n",
      "  original['Date']=pd.to_datetime(original['Date'])\n"
     ]
    }
   ],
   "source": []
  },
  {
   "cell_type": "code",
   "execution_count": 209,
   "id": "ea92b465",
   "metadata": {},
   "outputs": [
    {
     "data": {
      "image/png": "[encoded data removed]",
      "text/plain": [
       "<Figure size 640x480 with 1 Axes>"
      ]
     },
     "metadata": {},
     "output_type": "display_data"
    }
   ],
   "source": [
    "import matplotlib.pyplot as plt\n",
    "\n",
    "# Plot the original data\n",
    "plt.plot(original['Date'], original['Close'], label='Original')\n",
    "\n",
    "# Plot the forecast data\n",
    "plt.plot(df_forecast['Date'], df_forecast['Close'], label='Forecast')\n",
    "\n",
    "# Set the x-axis label\n",
    "plt.xlabel('Date')\n",
    "\n",
    "# Set the y-axis label\n",
    "plt.ylabel('Close')\n",
    "\n",
    "# Add a legend\n",
    "plt.legend()\n",
    "\n",
    "# Show the plot\n",
    "plt.show()\n"
   ]
  },
  {
   "cell_type": "code",
   "execution_count": 210,
   "id": "d3f61cfa",
   "metadata": {},
   "outputs": [
    {
     "name": "stderr",
     "output_type": "stream",
     "text": [
      "C:\\Users\\shubu\\AppData\\Local\\Temp\\ipykernel_8672\\2894329927.py:2: SettingWithCopyWarning: \n",
      "A value is trying to be set on a copy of a slice from a DataFrame.\n",
      "Try using .loc[row_indexer,col_indexer] = value instead\n",
      "\n",
      "See the caveats in the documentation: https://pandas.pydata.org/pandas-docs/stable/user_guide/indexing.html#returning-a-view-versus-a-copy\n",
      "  original['Date']=pd.to_datetime(original['Date'])\n"
     ]
    }
   ],
   "source": [
    "original = df[['Date', 'Close']]\n",
    "original['Date']=pd.to_datetime(original['Date'])\n",
    "original = original.loc[original['Date'] >= '2022-05-1']\n"
   ]
  },
  {
   "cell_type": "code",
   "execution_count": 211,
   "id": "2bf8a064",
   "metadata": {},
   "outputs": [],
   "source": [
    "model.save(\"NEPSE_NICA.h5\")"
   ]
  },
  {
   "cell_type": "code",
   "execution_count": 121,
   "id": "db5a941a",
   "metadata": {},
   "outputs": [
    {
     "ename": "ValueError",
     "evalue": "non-broadcastable output operand with shape (2266,1) doesn't match the broadcast shape (2266,3)",
     "output_type": "error",
     "traceback": [
      "\u001b[1;31m---------------------------------------------------------------------------\u001b[0m",
      "\u001b[1;31mValueError\u001b[0m                                Traceback (most recent call last)",
      "Cell \u001b[1;32mIn[121], line 3\u001b[0m\n\u001b[0;32m      1\u001b[0m \u001b[38;5;66;03m##Transformback to original form\u001b[39;00m\n\u001b[0;32m      2\u001b[0m \u001b[38;5;66;03m#forecast_copies = np.repeat(forecast, df_for_training.shape[1], axis=-1)\u001b[39;00m\n\u001b[1;32m----> 3\u001b[0m y_pred_future \u001b[38;5;241m=\u001b[39m \u001b[43mscaler\u001b[49m\u001b[38;5;241;43m.\u001b[39;49m\u001b[43minverse_transform\u001b[49m\u001b[43m(\u001b[49m\u001b[43mtrain_predict\u001b[49m\u001b[43m)\u001b[49m[:,\u001b[38;5;241m0\u001b[39m]\n\u001b[0;32m      4\u001b[0m \u001b[38;5;28mprint\u001b[39m(y_pred_future)\n",
      "File \u001b[1;32m~\\.conda\\envs\\tensorflow_env\\lib\\site-packages\\sklearn\\preprocessing\\_data.py:1052\u001b[0m, in \u001b[0;36mStandardScaler.inverse_transform\u001b[1;34m(self, X, copy)\u001b[0m\n\u001b[0;32m   1050\u001b[0m \u001b[38;5;28;01melse\u001b[39;00m:\n\u001b[0;32m   1051\u001b[0m     \u001b[38;5;28;01mif\u001b[39;00m \u001b[38;5;28mself\u001b[39m\u001b[38;5;241m.\u001b[39mwith_std:\n\u001b[1;32m-> 1052\u001b[0m         X \u001b[38;5;241m*\u001b[39m\u001b[38;5;241m=\u001b[39m \u001b[38;5;28mself\u001b[39m\u001b[38;5;241m.\u001b[39mscale_\n\u001b[0;32m   1053\u001b[0m     \u001b[38;5;28;01mif\u001b[39;00m \u001b[38;5;28mself\u001b[39m\u001b[38;5;241m.\u001b[39mwith_mean:\n\u001b[0;32m   1054\u001b[0m         X \u001b[38;5;241m+\u001b[39m\u001b[38;5;241m=\u001b[39m \u001b[38;5;28mself\u001b[39m\u001b[38;5;241m.\u001b[39mmean_\n",
      "\u001b[1;31mValueError\u001b[0m: non-broadcastable output operand with shape (2266,1) doesn't match the broadcast shape (2266,3)"
     ]
    }
   ],
   "source": []
  },
  {
   "cell_type": "code",
   "execution_count": null,
   "id": "bd2e41ab",
   "metadata": {},
   "outputs": [],
   "source": []
  }
 ],
 "metadata": {
  "kernelspec": {
   "display_name": "Python 3 (ipykernel)",
   "language": "python",
   "name": "python3"
  },
  "language_info": {
   "codemirror_mode": {
    "name": "ipython",
    "version": 3
   },
   "file_extension": ".py",
   "mimetype": "text/x-python",
   "name": "python",
   "nbconvert_exporter": "python",
   "pygments_lexer": "ipython3",
   "version": "3.10.9"
  }
 },
 "nbformat": 4,
 "nbformat_minor": 5
}
