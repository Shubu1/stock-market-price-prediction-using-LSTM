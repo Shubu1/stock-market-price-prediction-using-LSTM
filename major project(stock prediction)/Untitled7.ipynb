{
 "cells": [
  {
   "cell_type": "code",
   "execution_count": 126,
   "id": "648afd49",
   "metadata": {},
   "outputs": [],
   "source": [
    "### Data Collection\n",
    "import pandas_datareader as pdr\n",
    "key=\"\""
   ]
  },
  {
   "cell_type": "code",
   "execution_count": 127,
   "id": "b8f8ba64",
   "metadata": {},
   "outputs": [
    {
     "name": "stdout",
     "output_type": "stream",
     "text": [
      "Defaulting to user installation because normal site-packages is not writeable\n",
      "Requirement already satisfied: pandas_datareader in c:\\users\\shubu\\appdata\\roaming\\python\\python39\\site-packages (0.10.0)\n",
      "Requirement already satisfied: lxml in c:\\programdata\\anaconda3\\lib\\site-packages (from pandas_datareader) (4.9.1)\n",
      "Requirement already satisfied: requests>=2.19.0 in c:\\programdata\\anaconda3\\lib\\site-packages (from pandas_datareader) (2.28.1)\n",
      "Requirement already satisfied: pandas>=0.23 in c:\\programdata\\anaconda3\\lib\\site-packages (from pandas_datareader) (1.4.4)\n",
      "Requirement already satisfied: pytz>=2020.1 in c:\\users\\shubu\\appdata\\roaming\\python\\python39\\site-packages (from pandas>=0.23->pandas_datareader) (2022.7)\n",
      "Requirement already satisfied: numpy>=1.18.5 in c:\\programdata\\anaconda3\\lib\\site-packages (from pandas>=0.23->pandas_datareader) (1.21.5)\n",
      "Requirement already satisfied: python-dateutil>=2.8.1 in c:\\programdata\\anaconda3\\lib\\site-packages (from pandas>=0.23->pandas_datareader) (2.8.2)\n",
      "Requirement already satisfied: urllib3<1.27,>=1.21.1 in c:\\programdata\\anaconda3\\lib\\site-packages (from requests>=2.19.0->pandas_datareader) (1.26.11)\n",
      "Requirement already satisfied: certifi>=2017.4.17 in c:\\programdata\\anaconda3\\lib\\site-packages (from requests>=2.19.0->pandas_datareader) (2022.9.14)\n",
      "Requirement already satisfied: charset-normalizer<3,>=2 in c:\\programdata\\anaconda3\\lib\\site-packages (from requests>=2.19.0->pandas_datareader) (2.0.4)\n",
      "Requirement already satisfied: idna<4,>=2.5 in c:\\programdata\\anaconda3\\lib\\site-packages (from requests>=2.19.0->pandas_datareader) (3.3)\n",
      "Requirement already satisfied: six>=1.5 in c:\\programdata\\anaconda3\\lib\\site-packages (from python-dateutil>=2.8.1->pandas>=0.23->pandas_datareader) (1.16.0)\n",
      "Note: you may need to restart the kernel to use updated packages.\n"
     ]
    },
    {
     "name": "stderr",
     "output_type": "stream",
     "text": [
      "WARNING: Ignoring invalid distribution -rotobuf (c:\\users\\shubu\\appdata\\roaming\\python\\python39\\site-packages)\n",
      "WARNING: Ignoring invalid distribution -rotobuf (c:\\users\\shubu\\appdata\\roaming\\python\\python39\\site-packages)\n",
      "WARNING: Ignoring invalid distribution -rotobuf (c:\\users\\shubu\\appdata\\roaming\\python\\python39\\site-packages)\n",
      "WARNING: Ignoring invalid distribution -rotobuf (c:\\users\\shubu\\appdata\\roaming\\python\\python39\\site-packages)\n",
      "WARNING: Ignoring invalid distribution -rotobuf (c:\\users\\shubu\\appdata\\roaming\\python\\python39\\site-packages)\n",
      "WARNING: Ignoring invalid distribution -rotobuf (c:\\users\\shubu\\appdata\\roaming\\python\\python39\\site-packages)\n"
     ]
    }
   ],
   "source": [
    "pip install pandas_datareader"
   ]
  },
  {
   "cell_type": "code",
   "execution_count": 128,
   "id": "87937a9f",
   "metadata": {},
   "outputs": [],
   "source": [
    "from keras.models import Sequential\n",
    "from keras.layers import LSTM, Dense, Dropout\n",
    "from sklearn.preprocessing import MinMaxScaler\n",
    "\n",
    "import matplotlib.pyplot as plt\n",
    "import numpy as np\n",
    "import pandas as pd"
   ]
  },
  {
   "cell_type": "code",
   "execution_count": 129,
   "id": "ffa2d1a2",
   "metadata": {},
   "outputs": [
    {
     "name": "stdout",
     "output_type": "stream",
     "text": [
      "  Symbol        Date   Open   High    Low  Close Percent Change  Volume\n",
      "0   ADBL  2023-02-14  300.0  302.0  298.0  298.5          -0.57   22019\n",
      "1   ADBL  2023-02-12  312.0  312.0  300.0  300.2          -2.53   28593\n",
      "2   ADBL  2023-02-09  306.0  309.9  305.0  308.0           0.33   29687\n",
      "3   ADBL  2023-02-08  308.0  312.2  305.3  307.0           0.85   66790\n",
      "4   ADBL  2023-02-07  300.0  305.9  299.0  304.4           2.15   41141\n",
      "\n"
     ]
    }
   ],
   "source": [
    "# Read Six Flags Stock History CSV into DataFrame\n",
    "df = pd.read_csv(\"ADBL(2013-2023).csv\")\n",
    "print(df.head())\n",
    "print()\n",
    "# Change Data column into Python Datetime\n",
    "df[\"Date\"] = pd.to_datetime(df.Date, format=\"%Y-%m-%d\")\n",
    "df.index = df[\"Date\"]"
   ]
  },
  {
   "cell_type": "code",
   "execution_count": 130,
   "id": "d27ceb7e",
   "metadata": {},
   "outputs": [
    {
     "data": {
      "text/html": [
       "<div>\n",
       "<style scoped>\n",
       "    .dataframe tbody tr th:only-of-type {\n",
       "        vertical-align: middle;\n",
       "    }\n",
       "\n",
       "    .dataframe tbody tr th {\n",
       "        vertical-align: top;\n",
       "    }\n",
       "\n",
       "    .dataframe thead th {\n",
       "        text-align: right;\n",
       "    }\n",
       "</style>\n",
       "<table border=\"1\" class=\"dataframe\">\n",
       "  <thead>\n",
       "    <tr style=\"text-align: right;\">\n",
       "      <th></th>\n",
       "      <th>Symbol</th>\n",
       "      <th>Date</th>\n",
       "      <th>Open</th>\n",
       "      <th>High</th>\n",
       "      <th>Low</th>\n",
       "      <th>Close</th>\n",
       "      <th>Percent Change</th>\n",
       "      <th>Volume</th>\n",
       "    </tr>\n",
       "    <tr>\n",
       "      <th>Date</th>\n",
       "      <th></th>\n",
       "      <th></th>\n",
       "      <th></th>\n",
       "      <th></th>\n",
       "      <th></th>\n",
       "      <th></th>\n",
       "      <th></th>\n",
       "      <th></th>\n",
       "    </tr>\n",
       "  </thead>\n",
       "  <tbody>\n",
       "    <tr>\n",
       "      <th>2023-02-14</th>\n",
       "      <td>ADBL</td>\n",
       "      <td>2023-02-14</td>\n",
       "      <td>300.0</td>\n",
       "      <td>302.0</td>\n",
       "      <td>298.0</td>\n",
       "      <td>298.5</td>\n",
       "      <td>-0.57</td>\n",
       "      <td>22019</td>\n",
       "    </tr>\n",
       "    <tr>\n",
       "      <th>2023-02-12</th>\n",
       "      <td>ADBL</td>\n",
       "      <td>2023-02-12</td>\n",
       "      <td>312.0</td>\n",
       "      <td>312.0</td>\n",
       "      <td>300.0</td>\n",
       "      <td>300.2</td>\n",
       "      <td>-2.53</td>\n",
       "      <td>28593</td>\n",
       "    </tr>\n",
       "    <tr>\n",
       "      <th>2023-02-09</th>\n",
       "      <td>ADBL</td>\n",
       "      <td>2023-02-09</td>\n",
       "      <td>306.0</td>\n",
       "      <td>309.9</td>\n",
       "      <td>305.0</td>\n",
       "      <td>308.0</td>\n",
       "      <td>0.33</td>\n",
       "      <td>29687</td>\n",
       "    </tr>\n",
       "    <tr>\n",
       "      <th>2023-02-08</th>\n",
       "      <td>ADBL</td>\n",
       "      <td>2023-02-08</td>\n",
       "      <td>308.0</td>\n",
       "      <td>312.2</td>\n",
       "      <td>305.3</td>\n",
       "      <td>307.0</td>\n",
       "      <td>0.85</td>\n",
       "      <td>66790</td>\n",
       "    </tr>\n",
       "    <tr>\n",
       "      <th>2023-02-07</th>\n",
       "      <td>ADBL</td>\n",
       "      <td>2023-02-07</td>\n",
       "      <td>300.0</td>\n",
       "      <td>305.9</td>\n",
       "      <td>299.0</td>\n",
       "      <td>304.4</td>\n",
       "      <td>2.15</td>\n",
       "      <td>41141</td>\n",
       "    </tr>\n",
       "  </tbody>\n",
       "</table>\n",
       "</div>"
      ],
      "text/plain": [
       "           Symbol       Date   Open   High    Low  Close Percent Change  \\\n",
       "Date                                                                      \n",
       "2023-02-14   ADBL 2023-02-14  300.0  302.0  298.0  298.5          -0.57   \n",
       "2023-02-12   ADBL 2023-02-12  312.0  312.0  300.0  300.2          -2.53   \n",
       "2023-02-09   ADBL 2023-02-09  306.0  309.9  305.0  308.0           0.33   \n",
       "2023-02-08   ADBL 2023-02-08  308.0  312.2  305.3  307.0           0.85   \n",
       "2023-02-07   ADBL 2023-02-07  300.0  305.9  299.0  304.4           2.15   \n",
       "\n",
       "            Volume  \n",
       "Date                \n",
       "2023-02-14   22019  \n",
       "2023-02-12   28593  \n",
       "2023-02-09   29687  \n",
       "2023-02-08   66790  \n",
       "2023-02-07   41141  "
      ]
     },
     "execution_count": 130,
     "metadata": {},
     "output_type": "execute_result"
    }
   ],
   "source": [
    "df.head()"
   ]
  },
  {
   "cell_type": "code",
   "execution_count": 131,
   "id": "2beea2c7",
   "metadata": {},
   "outputs": [
    {
     "data": {
      "text/html": [
       "<div>\n",
       "<style scoped>\n",
       "    .dataframe tbody tr th:only-of-type {\n",
       "        vertical-align: middle;\n",
       "    }\n",
       "\n",
       "    .dataframe tbody tr th {\n",
       "        vertical-align: top;\n",
       "    }\n",
       "\n",
       "    .dataframe thead th {\n",
       "        text-align: right;\n",
       "    }\n",
       "</style>\n",
       "<table border=\"1\" class=\"dataframe\">\n",
       "  <thead>\n",
       "    <tr style=\"text-align: right;\">\n",
       "      <th></th>\n",
       "      <th>Symbol</th>\n",
       "      <th>Date</th>\n",
       "      <th>Open</th>\n",
       "      <th>High</th>\n",
       "      <th>Low</th>\n",
       "      <th>Close</th>\n",
       "      <th>Percent Change</th>\n",
       "      <th>Volume</th>\n",
       "    </tr>\n",
       "    <tr>\n",
       "      <th>Date</th>\n",
       "      <th></th>\n",
       "      <th></th>\n",
       "      <th></th>\n",
       "      <th></th>\n",
       "      <th></th>\n",
       "      <th></th>\n",
       "      <th></th>\n",
       "      <th></th>\n",
       "    </tr>\n",
       "  </thead>\n",
       "  <tbody>\n",
       "    <tr>\n",
       "      <th>2013-03-03</th>\n",
       "      <td>ADBL</td>\n",
       "      <td>2013-03-03</td>\n",
       "      <td>250.0</td>\n",
       "      <td>255.0</td>\n",
       "      <td>248.0</td>\n",
       "      <td>250.0</td>\n",
       "      <td>0.00</td>\n",
       "      <td>7283</td>\n",
       "    </tr>\n",
       "    <tr>\n",
       "      <th>2013-02-28</th>\n",
       "      <td>ADBL</td>\n",
       "      <td>2013-02-28</td>\n",
       "      <td>250.0</td>\n",
       "      <td>252.0</td>\n",
       "      <td>249.0</td>\n",
       "      <td>250.0</td>\n",
       "      <td>0.00</td>\n",
       "      <td>9283</td>\n",
       "    </tr>\n",
       "    <tr>\n",
       "      <th>2013-02-27</th>\n",
       "      <td>ADBL</td>\n",
       "      <td>2013-02-27</td>\n",
       "      <td>250.0</td>\n",
       "      <td>250.0</td>\n",
       "      <td>245.0</td>\n",
       "      <td>250.0</td>\n",
       "      <td>0.00</td>\n",
       "      <td>3682</td>\n",
       "    </tr>\n",
       "    <tr>\n",
       "      <th>2013-02-26</th>\n",
       "      <td>ADBL</td>\n",
       "      <td>2013-02-26</td>\n",
       "      <td>255.0</td>\n",
       "      <td>260.0</td>\n",
       "      <td>245.0</td>\n",
       "      <td>250.0</td>\n",
       "      <td>-1.96</td>\n",
       "      <td>2202</td>\n",
       "    </tr>\n",
       "    <tr>\n",
       "      <th>2013-02-25</th>\n",
       "      <td>ADBL</td>\n",
       "      <td>2013-02-25</td>\n",
       "      <td>250.0</td>\n",
       "      <td>255.0</td>\n",
       "      <td>246.0</td>\n",
       "      <td>255.0</td>\n",
       "      <td>2.00</td>\n",
       "      <td>2352</td>\n",
       "    </tr>\n",
       "  </tbody>\n",
       "</table>\n",
       "</div>"
      ],
      "text/plain": [
       "           Symbol       Date   Open   High    Low  Close Percent Change  \\\n",
       "Date                                                                      \n",
       "2013-03-03   ADBL 2013-03-03  250.0  255.0  248.0  250.0           0.00   \n",
       "2013-02-28   ADBL 2013-02-28  250.0  252.0  249.0  250.0           0.00   \n",
       "2013-02-27   ADBL 2013-02-27  250.0  250.0  245.0  250.0           0.00   \n",
       "2013-02-26   ADBL 2013-02-26  255.0  260.0  245.0  250.0          -1.96   \n",
       "2013-02-25   ADBL 2013-02-25  250.0  255.0  246.0  255.0           2.00   \n",
       "\n",
       "            Volume  \n",
       "Date                \n",
       "2013-03-03    7283  \n",
       "2013-02-28    9283  \n",
       "2013-02-27    3682  \n",
       "2013-02-26    2202  \n",
       "2013-02-25    2352  "
      ]
     },
     "execution_count": 131,
     "metadata": {},
     "output_type": "execute_result"
    }
   ],
   "source": [
    "df.tail()"
   ]
  },
  {
   "cell_type": "code",
   "execution_count": 132,
   "id": "070f9f78",
   "metadata": {},
   "outputs": [],
   "source": [
    "data = df.sort_index(ascending=True, axis=0)"
   ]
  },
  {
   "cell_type": "code",
   "execution_count": 50,
   "id": "4480e3b7",
   "metadata": {},
   "outputs": [
    {
     "ename": "ValueError",
     "evalue": "cannot insert Date, already exists",
     "output_type": "error",
     "traceback": [
      "\u001b[1;31m---------------------------------------------------------------------------\u001b[0m",
      "\u001b[1;31mValueError\u001b[0m                                Traceback (most recent call last)",
      "\u001b[1;32m~\\AppData\\Local\\Temp\\ipykernel_9760\\2035099574.py\u001b[0m in \u001b[0;36m<module>\u001b[1;34m\u001b[0m\n\u001b[1;32m----> 1\u001b[1;33m \u001b[0mdf1\u001b[0m \u001b[1;33m=\u001b[0m \u001b[0mdf\u001b[0m\u001b[1;33m.\u001b[0m\u001b[0mreset_index\u001b[0m\u001b[1;33m(\u001b[0m\u001b[1;33m)\u001b[0m\u001b[1;33m.\u001b[0m\u001b[0mrename\u001b[0m\u001b[1;33m(\u001b[0m\u001b[0mcolumns\u001b[0m\u001b[1;33m=\u001b[0m\u001b[1;33m{\u001b[0m\u001b[1;34m'close'\u001b[0m\u001b[1;33m:\u001b[0m \u001b[1;34m'Close'\u001b[0m\u001b[1;33m}\u001b[0m\u001b[1;33m)\u001b[0m\u001b[1;33m[\u001b[0m\u001b[1;34m'Close'\u001b[0m\u001b[1;33m]\u001b[0m\u001b[1;33m\u001b[0m\u001b[1;33m\u001b[0m\u001b[0m\n\u001b[0m\u001b[0;32m      2\u001b[0m \u001b[0mdf1\u001b[0m \u001b[1;33m=\u001b[0m \u001b[0mdf\u001b[0m\u001b[1;33m.\u001b[0m\u001b[0mreset_index\u001b[0m\u001b[1;33m(\u001b[0m\u001b[1;33m)\u001b[0m\u001b[1;33m.\u001b[0m\u001b[0mdrop\u001b[0m\u001b[1;33m(\u001b[0m\u001b[0mcolumns\u001b[0m\u001b[1;33m=\u001b[0m\u001b[1;33m[\u001b[0m\u001b[1;34m'Date'\u001b[0m\u001b[1;33m]\u001b[0m\u001b[1;33m)\u001b[0m\u001b[1;33m[\u001b[0m\u001b[1;34m'close'\u001b[0m\u001b[1;33m]\u001b[0m\u001b[1;33m\u001b[0m\u001b[1;33m\u001b[0m\u001b[0m\n\u001b[0;32m      3\u001b[0m \u001b[1;33m\u001b[0m\u001b[0m\n",
      "\u001b[1;32mC:\\ProgramData\\Anaconda3\\lib\\site-packages\\pandas\\util\\_decorators.py\u001b[0m in \u001b[0;36mwrapper\u001b[1;34m(*args, **kwargs)\u001b[0m\n\u001b[0;32m    309\u001b[0m                     \u001b[0mstacklevel\u001b[0m\u001b[1;33m=\u001b[0m\u001b[0mstacklevel\u001b[0m\u001b[1;33m,\u001b[0m\u001b[1;33m\u001b[0m\u001b[1;33m\u001b[0m\u001b[0m\n\u001b[0;32m    310\u001b[0m                 )\n\u001b[1;32m--> 311\u001b[1;33m             \u001b[1;32mreturn\u001b[0m \u001b[0mfunc\u001b[0m\u001b[1;33m(\u001b[0m\u001b[1;33m*\u001b[0m\u001b[0margs\u001b[0m\u001b[1;33m,\u001b[0m \u001b[1;33m**\u001b[0m\u001b[0mkwargs\u001b[0m\u001b[1;33m)\u001b[0m\u001b[1;33m\u001b[0m\u001b[1;33m\u001b[0m\u001b[0m\n\u001b[0m\u001b[0;32m    312\u001b[0m \u001b[1;33m\u001b[0m\u001b[0m\n\u001b[0;32m    313\u001b[0m         \u001b[1;32mreturn\u001b[0m \u001b[0mwrapper\u001b[0m\u001b[1;33m\u001b[0m\u001b[1;33m\u001b[0m\u001b[0m\n",
      "\u001b[1;32mC:\\ProgramData\\Anaconda3\\lib\\site-packages\\pandas\\core\\frame.py\u001b[0m in \u001b[0;36mreset_index\u001b[1;34m(self, level, drop, inplace, col_level, col_fill)\u001b[0m\n\u001b[0;32m   5846\u001b[0m                     )\n\u001b[0;32m   5847\u001b[0m \u001b[1;33m\u001b[0m\u001b[0m\n\u001b[1;32m-> 5848\u001b[1;33m                 \u001b[0mnew_obj\u001b[0m\u001b[1;33m.\u001b[0m\u001b[0minsert\u001b[0m\u001b[1;33m(\u001b[0m\u001b[1;36m0\u001b[0m\u001b[1;33m,\u001b[0m \u001b[0mname\u001b[0m\u001b[1;33m,\u001b[0m \u001b[0mlevel_values\u001b[0m\u001b[1;33m)\u001b[0m\u001b[1;33m\u001b[0m\u001b[1;33m\u001b[0m\u001b[0m\n\u001b[0m\u001b[0;32m   5849\u001b[0m \u001b[1;33m\u001b[0m\u001b[0m\n\u001b[0;32m   5850\u001b[0m         \u001b[0mnew_obj\u001b[0m\u001b[1;33m.\u001b[0m\u001b[0mindex\u001b[0m \u001b[1;33m=\u001b[0m \u001b[0mnew_index\u001b[0m\u001b[1;33m\u001b[0m\u001b[1;33m\u001b[0m\u001b[0m\n",
      "\u001b[1;32mC:\\ProgramData\\Anaconda3\\lib\\site-packages\\pandas\\core\\frame.py\u001b[0m in \u001b[0;36minsert\u001b[1;34m(self, loc, column, value, allow_duplicates)\u001b[0m\n\u001b[0;32m   4441\u001b[0m         \u001b[1;32mif\u001b[0m \u001b[1;32mnot\u001b[0m \u001b[0mallow_duplicates\u001b[0m \u001b[1;32mand\u001b[0m \u001b[0mcolumn\u001b[0m \u001b[1;32min\u001b[0m \u001b[0mself\u001b[0m\u001b[1;33m.\u001b[0m\u001b[0mcolumns\u001b[0m\u001b[1;33m:\u001b[0m\u001b[1;33m\u001b[0m\u001b[1;33m\u001b[0m\u001b[0m\n\u001b[0;32m   4442\u001b[0m             \u001b[1;31m# Should this be a different kind of error??\u001b[0m\u001b[1;33m\u001b[0m\u001b[1;33m\u001b[0m\u001b[0m\n\u001b[1;32m-> 4443\u001b[1;33m             \u001b[1;32mraise\u001b[0m \u001b[0mValueError\u001b[0m\u001b[1;33m(\u001b[0m\u001b[1;34mf\"cannot insert {column}, already exists\"\u001b[0m\u001b[1;33m)\u001b[0m\u001b[1;33m\u001b[0m\u001b[1;33m\u001b[0m\u001b[0m\n\u001b[0m\u001b[0;32m   4444\u001b[0m         \u001b[1;32mif\u001b[0m \u001b[1;32mnot\u001b[0m \u001b[0misinstance\u001b[0m\u001b[1;33m(\u001b[0m\u001b[0mloc\u001b[0m\u001b[1;33m,\u001b[0m \u001b[0mint\u001b[0m\u001b[1;33m)\u001b[0m\u001b[1;33m:\u001b[0m\u001b[1;33m\u001b[0m\u001b[1;33m\u001b[0m\u001b[0m\n\u001b[0;32m   4445\u001b[0m             \u001b[1;32mraise\u001b[0m \u001b[0mTypeError\u001b[0m\u001b[1;33m(\u001b[0m\u001b[1;34m\"loc must be int\"\u001b[0m\u001b[1;33m)\u001b[0m\u001b[1;33m\u001b[0m\u001b[1;33m\u001b[0m\u001b[0m\n",
      "\u001b[1;31mValueError\u001b[0m: cannot insert Date, already exists"
     ]
    }
   ],
   "source": [
    "df1 = df.reset_index().rename(columns={'close': 'Close'})['Close']\n",
    "df1 = df.reset_index().drop(columns=['Date'])['close']\n",
    "\n"
   ]
  },
  {
   "cell_type": "code",
   "execution_count": 133,
   "id": "78292c98",
   "metadata": {},
   "outputs": [],
   "source": [
    "df1 = df.drop('Date', axis=1).reset_index()['Close']\n"
   ]
  },
  {
   "cell_type": "code",
   "execution_count": 134,
   "id": "0ba4ac8d",
   "metadata": {},
   "outputs": [
    {
     "data": {
      "text/plain": [
       "0       298.5\n",
       "1       300.2\n",
       "2       308.0\n",
       "3       307.0\n",
       "4       304.4\n",
       "        ...  \n",
       "2265    250.0\n",
       "2266    250.0\n",
       "2267    250.0\n",
       "2268    250.0\n",
       "2269    255.0\n",
       "Name: Close, Length: 2270, dtype: float64"
      ]
     },
     "execution_count": 134,
     "metadata": {},
     "output_type": "execute_result"
    }
   ],
   "source": [
    "df1"
   ]
  },
  {
   "cell_type": "code",
   "execution_count": 135,
   "id": "a51374c3",
   "metadata": {},
   "outputs": [
    {
     "data": {
      "text/plain": [
       "[<matplotlib.lines.Line2D at 0x1efc3a1cc70>]"
      ]
     },
     "execution_count": 135,
     "metadata": {},
     "output_type": "execute_result"
    },
    {
     "data": {
      "image/png": "[encoded data removed]",
      "text/plain": [
       "<Figure size 640x480 with 1 Axes>"
      ]
     },
     "metadata": {},
     "output_type": "display_data"
    }
   ],
   "source": [
    "import matplotlib.pyplot as plt\n",
    "plt.plot(df1)"
   ]
  },
  {
   "cell_type": "code",
   "execution_count": 136,
   "id": "195d09f0",
   "metadata": {},
   "outputs": [
    {
     "data": {
      "text/plain": [
       "0       298.5\n",
       "1       300.2\n",
       "2       308.0\n",
       "3       307.0\n",
       "4       304.4\n",
       "        ...  \n",
       "2265    250.0\n",
       "2266    250.0\n",
       "2267    250.0\n",
       "2268    250.0\n",
       "2269    255.0\n",
       "Name: Close, Length: 2270, dtype: float64"
      ]
     },
     "execution_count": 136,
     "metadata": {},
     "output_type": "execute_result"
    }
   ],
   "source": [
    "df1"
   ]
  },
  {
   "cell_type": "code",
   "execution_count": 137,
   "id": "854bcb73",
   "metadata": {},
   "outputs": [],
   "source": [
    "from sklearn.preprocessing import MinMaxScaler\n",
    "scaler=MinMaxScaler(feature_range=(0,1))\n",
    "df1=scaler.fit_transform(np.array(df1).reshape(-1,1))"
   ]
  },
  {
   "cell_type": "code",
   "execution_count": 138,
   "id": "c5ce847d",
   "metadata": {},
   "outputs": [
    {
     "name": "stdout",
     "output_type": "stream",
     "text": [
      "[[0.10965909]\n",
      " [0.11159091]\n",
      " [0.12045455]\n",
      " ...\n",
      " [0.05454545]\n",
      " [0.05454545]\n",
      " [0.06022727]]\n"
     ]
    }
   ],
   "source": [
    "print(df1)"
   ]
  },
  {
   "cell_type": "code",
   "execution_count": 139,
   "id": "de39d942",
   "metadata": {},
   "outputs": [],
   "source": [
    "##splitting dataset into train and test split\n",
    "training_size=int(len(df1)*0.65)\n",
    "test_size=len(df1)-training_size\n",
    "train_data,test_data=df1[0:training_size,:],df1[training_size:len(df1),:1]"
   ]
  },
  {
   "cell_type": "code",
   "execution_count": 140,
   "id": "58f3df34",
   "metadata": {},
   "outputs": [
    {
     "data": {
      "text/plain": [
       "(1475, 795)"
      ]
     },
     "execution_count": 140,
     "metadata": {},
     "output_type": "execute_result"
    }
   ],
   "source": [
    "training_size,test_size"
   ]
  },
  {
   "cell_type": "code",
   "execution_count": 141,
   "id": "3d0c1d6b",
   "metadata": {},
   "outputs": [
    {
     "data": {
      "text/plain": [
       "array([[0.10965909],\n",
       "       [0.11159091],\n",
       "       [0.12045455],\n",
       "       ...,\n",
       "       [0.8875    ],\n",
       "       [0.86704545],\n",
       "       [0.87272727]])"
      ]
     },
     "execution_count": 141,
     "metadata": {},
     "output_type": "execute_result"
    }
   ],
   "source": [
    "train_data"
   ]
  },
  {
   "cell_type": "code",
   "execution_count": 142,
   "id": "c0beba56",
   "metadata": {},
   "outputs": [],
   "source": [
    "# convert an array of values into a dataset matrix\n",
    "def create_dataset(dataset, time_step=1):\n",
    "\tdataX, dataY = [], []\n",
    "\tfor i in range(len(dataset)-time_step-1):\n",
    "\t\ta = dataset[i:(i+time_step), 0]   ###i=0, 0,1,2,3-----99   100 \n",
    "\t\tdataX.append(a)\n",
    "\t\tdataY.append(dataset[i + time_step, 0])\n",
    "\treturn np.array(dataX), np.array(dataY)"
   ]
  },
  {
   "cell_type": "code",
   "execution_count": 143,
   "id": "77e1c34c",
   "metadata": {},
   "outputs": [],
   "source": [
    "# reshape into X=t,t+1,t+2,t+3 and Y=t+4\n",
    "time_step = 100\n",
    "X_train, y_train = create_dataset(train_data, time_step)\n",
    "X_test, ytest = create_dataset(test_data, time_step)"
   ]
  },
  {
   "cell_type": "code",
   "execution_count": 144,
   "id": "40d6d12c",
   "metadata": {},
   "outputs": [
    {
     "name": "stdout",
     "output_type": "stream",
     "text": [
      "(1374, 100)\n",
      "(1374,)\n"
     ]
    },
    {
     "data": {
      "text/plain": [
       "(None, None)"
      ]
     },
     "execution_count": 144,
     "metadata": {},
     "output_type": "execute_result"
    }
   ],
   "source": [
    "print(X_train.shape), print(y_train.shape)"
   ]
  },
  {
   "cell_type": "code",
   "execution_count": 145,
   "id": "129f3362",
   "metadata": {},
   "outputs": [
    {
     "name": "stdout",
     "output_type": "stream",
     "text": [
      "(694, 100)\n",
      "(694,)\n"
     ]
    },
    {
     "data": {
      "text/plain": [
       "(None, None)"
      ]
     },
     "execution_count": 145,
     "metadata": {},
     "output_type": "execute_result"
    }
   ],
   "source": [
    "print(X_test.shape), print(ytest.shape)"
   ]
  },
  {
   "cell_type": "code",
   "execution_count": 146,
   "id": "e91929ef",
   "metadata": {},
   "outputs": [],
   "source": [
    "# reshape input to be [samples, time steps, features] which is required for LSTM\n",
    "X_train =X_train.reshape(X_train.shape[0],X_train.shape[1] , 1)\n",
    "X_test = X_test.reshape(X_test.shape[0],X_test.shape[1] , 1)"
   ]
  },
  {
   "cell_type": "code",
   "execution_count": 147,
   "id": "eb8c298e",
   "metadata": {},
   "outputs": [],
   "source": [
    "### Create the Stacked LSTM model\n",
    "from tensorflow.keras.models import Sequential\n",
    "from tensorflow.keras.layers import Dense\n",
    "from tensorflow.keras.layers import LSTM"
   ]
  },
  {
   "cell_type": "code",
   "execution_count": 148,
   "id": "bd7753b2",
   "metadata": {},
   "outputs": [],
   "source": [
    "model=Sequential()\n",
    "model.add(LSTM(50,return_sequences=True,input_shape=(100,1)))\n",
    "model.add(LSTM(50,return_sequences=True))\n",
    "model.add(LSTM(50))\n",
    "model.add(Dense(1))\n",
    "model.compile(loss='mean_squared_error',optimizer='adam')"
   ]
  },
  {
   "cell_type": "code",
   "execution_count": 149,
   "id": "92106566",
   "metadata": {},
   "outputs": [
    {
     "name": "stdout",
     "output_type": "stream",
     "text": [
      "Model: \"sequential_2\"\n",
      "_________________________________________________________________\n",
      " Layer (type)                Output Shape              Param #   \n",
      "=================================================================\n",
      " lstm_6 (LSTM)               (None, 100, 50)           10400     \n",
      "                                                                 \n",
      " lstm_7 (LSTM)               (None, 100, 50)           20200     \n",
      "                                                                 \n",
      " lstm_8 (LSTM)               (None, 50)                20200     \n",
      "                                                                 \n",
      " dense_2 (Dense)             (None, 1)                 51        \n",
      "                                                                 \n",
      "=================================================================\n",
      "Total params: 50,851\n",
      "Trainable params: 50,851\n",
      "Non-trainable params: 0\n",
      "_________________________________________________________________\n"
     ]
    }
   ],
   "source": [
    "model.summary()"
   ]
  },
  {
   "cell_type": "code",
   "execution_count": 150,
   "id": "ebfb70d0",
   "metadata": {},
   "outputs": [
    {
     "name": "stdout",
     "output_type": "stream",
     "text": [
      "Model: \"sequential_2\"\n",
      "_________________________________________________________________\n",
      " Layer (type)                Output Shape              Param #   \n",
      "=================================================================\n",
      " lstm_6 (LSTM)               (None, 100, 50)           10400     \n",
      "                                                                 \n",
      " lstm_7 (LSTM)               (None, 100, 50)           20200     \n",
      "                                                                 \n",
      " lstm_8 (LSTM)               (None, 50)                20200     \n",
      "                                                                 \n",
      " dense_2 (Dense)             (None, 1)                 51        \n",
      "                                                                 \n",
      "=================================================================\n",
      "Total params: 50,851\n",
      "Trainable params: 50,851\n",
      "Non-trainable params: 0\n",
      "_________________________________________________________________\n"
     ]
    }
   ],
   "source": [
    "model.summary()"
   ]
  },
  {
   "cell_type": "code",
   "execution_count": 151,
   "id": "4e74da21",
   "metadata": {},
   "outputs": [
    {
     "name": "stdout",
     "output_type": "stream",
     "text": [
      "Epoch 1/100\n",
      "22/22 [==============================] - 12s 346ms/step - loss: 0.0157 - val_loss: 0.0053\n",
      "Epoch 2/100\n",
      "22/22 [==============================] - 7s 319ms/step - loss: 0.0029 - val_loss: 0.0021\n",
      "Epoch 3/100\n",
      "22/22 [==============================] - 6s 294ms/step - loss: 0.0017 - val_loss: 0.0025\n",
      "Epoch 4/100\n",
      "22/22 [==============================] - 6s 262ms/step - loss: 0.0015 - val_loss: 0.0023\n",
      "Epoch 5/100\n",
      "22/22 [==============================] - 4s 181ms/step - loss: 0.0014 - val_loss: 0.0018\n",
      "Epoch 6/100\n",
      "22/22 [==============================] - 6s 260ms/step - loss: 0.0015 - val_loss: 0.0017\n",
      "Epoch 7/100\n",
      "22/22 [==============================] - 4s 201ms/step - loss: 0.0014 - val_loss: 0.0017\n",
      "Epoch 8/100\n",
      "22/22 [==============================] - 5s 215ms/step - loss: 0.0014 - val_loss: 0.0017\n",
      "Epoch 9/100\n",
      "22/22 [==============================] - 3s 141ms/step - loss: 0.0014 - val_loss: 0.0017\n",
      "Epoch 10/100\n",
      "22/22 [==============================] - 4s 162ms/step - loss: 0.0013 - val_loss: 0.0013\n",
      "Epoch 11/100\n",
      "22/22 [==============================] - 4s 166ms/step - loss: 0.0014 - val_loss: 0.0013\n",
      "Epoch 12/100\n",
      "22/22 [==============================] - 6s 293ms/step - loss: 0.0011 - val_loss: 0.0014\n",
      "Epoch 13/100\n",
      "22/22 [==============================] - 7s 330ms/step - loss: 0.0012 - val_loss: 0.0019\n",
      "Epoch 14/100\n",
      "22/22 [==============================] - 7s 309ms/step - loss: 0.0012 - val_loss: 0.0010\n",
      "Epoch 15/100\n",
      "22/22 [==============================] - 7s 313ms/step - loss: 0.0011 - val_loss: 9.7447e-04\n",
      "Epoch 16/100\n",
      "22/22 [==============================] - 5s 213ms/step - loss: 9.8993e-04 - val_loss: 0.0011\n",
      "Epoch 17/100\n",
      "22/22 [==============================] - 3s 151ms/step - loss: 8.9966e-04 - val_loss: 0.0012\n",
      "Epoch 18/100\n",
      "22/22 [==============================] - 6s 288ms/step - loss: 8.7605e-04 - val_loss: 9.6620e-04\n",
      "Epoch 19/100\n",
      "22/22 [==============================] - 5s 200ms/step - loss: 8.7562e-04 - val_loss: 0.0021\n",
      "Epoch 20/100\n",
      "22/22 [==============================] - 4s 162ms/step - loss: 9.8492e-04 - val_loss: 0.0014\n",
      "Epoch 21/100\n",
      "22/22 [==============================] - 5s 219ms/step - loss: 7.3296e-04 - val_loss: 8.0041e-04\n",
      "Epoch 22/100\n",
      "22/22 [==============================] - 5s 232ms/step - loss: 6.9977e-04 - val_loss: 7.8042e-04\n",
      "Epoch 23/100\n",
      "22/22 [==============================] - 7s 330ms/step - loss: 6.9829e-04 - val_loss: 7.7441e-04\n",
      "Epoch 24/100\n",
      "22/22 [==============================] - 4s 184ms/step - loss: 6.8604e-04 - val_loss: 7.6354e-04\n",
      "Epoch 25/100\n",
      "22/22 [==============================] - 4s 203ms/step - loss: 6.4019e-04 - val_loss: 7.3781e-04\n",
      "Epoch 26/100\n",
      "22/22 [==============================] - 3s 149ms/step - loss: 6.6249e-04 - val_loss: 7.6323e-04\n",
      "Epoch 27/100\n",
      "22/22 [==============================] - 6s 260ms/step - loss: 6.1037e-04 - val_loss: 9.2470e-04\n",
      "Epoch 28/100\n",
      "22/22 [==============================] - 6s 288ms/step - loss: 5.8952e-04 - val_loss: 9.3693e-04\n",
      "Epoch 29/100\n",
      "22/22 [==============================] - 5s 209ms/step - loss: 5.9705e-04 - val_loss: 7.0332e-04\n",
      "Epoch 30/100\n",
      "22/22 [==============================] - 5s 213ms/step - loss: 5.5802e-04 - val_loss: 6.6082e-04\n",
      "Epoch 31/100\n",
      "22/22 [==============================] - 6s 269ms/step - loss: 5.4747e-04 - val_loss: 7.0564e-04\n",
      "Epoch 32/100\n",
      "22/22 [==============================] - 4s 201ms/step - loss: 5.5767e-04 - val_loss: 6.5588e-04\n",
      "Epoch 33/100\n",
      "22/22 [==============================] - 4s 197ms/step - loss: 5.4397e-04 - val_loss: 6.5232e-04\n",
      "Epoch 34/100\n",
      "22/22 [==============================] - 5s 208ms/step - loss: 5.5971e-04 - val_loss: 7.3287e-04\n",
      "Epoch 35/100\n",
      "22/22 [==============================] - 5s 205ms/step - loss: 4.9801e-04 - val_loss: 6.1388e-04\n",
      "Epoch 36/100\n",
      "22/22 [==============================] - 5s 223ms/step - loss: 4.9582e-04 - val_loss: 6.0373e-04\n",
      "Epoch 37/100\n",
      "22/22 [==============================] - 5s 238ms/step - loss: 4.9919e-04 - val_loss: 8.3273e-04\n",
      "Epoch 38/100\n",
      "22/22 [==============================] - 5s 212ms/step - loss: 4.7429e-04 - val_loss: 6.0314e-04\n",
      "Epoch 39/100\n",
      "22/22 [==============================] - 5s 243ms/step - loss: 4.6130e-04 - val_loss: 8.7892e-04\n",
      "Epoch 40/100\n",
      "22/22 [==============================] - 5s 213ms/step - loss: 4.9141e-04 - val_loss: 6.0815e-04\n",
      "Epoch 41/100\n",
      "22/22 [==============================] - 5s 207ms/step - loss: 4.3384e-04 - val_loss: 5.7852e-04\n",
      "Epoch 42/100\n",
      "22/22 [==============================] - 4s 203ms/step - loss: 4.5429e-04 - val_loss: 5.7185e-04\n",
      "Epoch 43/100\n",
      "22/22 [==============================] - 5s 214ms/step - loss: 4.6000e-04 - val_loss: 6.3531e-04\n",
      "Epoch 44/100\n",
      "22/22 [==============================] - 5s 225ms/step - loss: 4.0525e-04 - val_loss: 4.9663e-04\n",
      "Epoch 45/100\n",
      "22/22 [==============================] - 4s 205ms/step - loss: 4.3431e-04 - val_loss: 0.0011\n",
      "Epoch 46/100\n",
      "22/22 [==============================] - 5s 235ms/step - loss: 4.6960e-04 - val_loss: 5.3301e-04\n",
      "Epoch 47/100\n",
      "22/22 [==============================] - 4s 185ms/step - loss: 4.1810e-04 - val_loss: 6.0855e-04\n",
      "Epoch 48/100\n",
      "22/22 [==============================] - 4s 203ms/step - loss: 4.0722e-04 - val_loss: 5.1403e-04\n",
      "Epoch 49/100\n",
      "22/22 [==============================] - 5s 208ms/step - loss: 4.1912e-04 - val_loss: 6.9727e-04\n",
      "Epoch 50/100\n",
      "22/22 [==============================] - 6s 266ms/step - loss: 3.9788e-04 - val_loss: 5.1153e-04\n",
      "Epoch 51/100\n",
      "22/22 [==============================] - 4s 188ms/step - loss: 3.7359e-04 - val_loss: 4.9159e-04\n",
      "Epoch 52/100\n",
      "22/22 [==============================] - 5s 218ms/step - loss: 3.7401e-04 - val_loss: 5.1986e-04\n",
      "Epoch 53/100\n",
      "22/22 [==============================] - 5s 239ms/step - loss: 3.7419e-04 - val_loss: 4.4905e-04\n",
      "Epoch 54/100\n",
      "22/22 [==============================] - 5s 218ms/step - loss: 3.8794e-04 - val_loss: 4.3840e-04\n",
      "Epoch 55/100\n",
      "22/22 [==============================] - 4s 187ms/step - loss: 3.3868e-04 - val_loss: 4.2212e-04\n",
      "Epoch 56/100\n",
      "22/22 [==============================] - 5s 209ms/step - loss: 3.5447e-04 - val_loss: 7.2947e-04\n",
      "Epoch 57/100\n",
      "22/22 [==============================] - 5s 212ms/step - loss: 3.3639e-04 - val_loss: 5.7331e-04\n",
      "Epoch 58/100\n",
      "22/22 [==============================] - 5s 211ms/step - loss: 3.5197e-04 - val_loss: 5.2313e-04\n",
      "Epoch 59/100\n",
      "22/22 [==============================] - 6s 280ms/step - loss: 3.4380e-04 - val_loss: 4.2302e-04\n",
      "Epoch 60/100\n",
      "22/22 [==============================] - 6s 255ms/step - loss: 3.2309e-04 - val_loss: 4.4972e-04\n",
      "Epoch 61/100\n",
      "22/22 [==============================] - 7s 303ms/step - loss: 4.0920e-04 - val_loss: 3.8389e-04\n",
      "Epoch 62/100\n",
      "22/22 [==============================] - 4s 181ms/step - loss: 3.3706e-04 - val_loss: 3.9437e-04\n",
      "Epoch 63/100\n",
      "22/22 [==============================] - 4s 208ms/step - loss: 3.3710e-04 - val_loss: 4.8084e-04\n",
      "Epoch 64/100\n",
      "22/22 [==============================] - 7s 307ms/step - loss: 4.1418e-04 - val_loss: 3.6029e-04\n",
      "Epoch 65/100\n",
      "22/22 [==============================] - 7s 336ms/step - loss: 3.1420e-04 - val_loss: 4.3145e-04\n",
      "Epoch 66/100\n",
      "22/22 [==============================] - 6s 268ms/step - loss: 3.0946e-04 - val_loss: 3.7982e-04\n",
      "Epoch 67/100\n",
      "22/22 [==============================] - 7s 301ms/step - loss: 3.2055e-04 - val_loss: 3.4477e-04\n",
      "Epoch 68/100\n",
      "22/22 [==============================] - 7s 325ms/step - loss: 3.0259e-04 - val_loss: 5.2015e-04\n",
      "Epoch 69/100\n",
      "22/22 [==============================] - 7s 330ms/step - loss: 2.8662e-04 - val_loss: 3.5596e-04\n",
      "Epoch 70/100\n",
      "22/22 [==============================] - 7s 327ms/step - loss: 2.7754e-04 - val_loss: 3.8192e-04\n",
      "Epoch 71/100\n",
      "22/22 [==============================] - 7s 316ms/step - loss: 2.8386e-04 - val_loss: 3.5910e-04\n",
      "Epoch 72/100\n",
      "22/22 [==============================] - 6s 289ms/step - loss: 3.0133e-04 - val_loss: 6.1445e-04\n",
      "Epoch 73/100\n",
      "22/22 [==============================] - 7s 340ms/step - loss: 3.0267e-04 - val_loss: 3.2606e-04\n",
      "Epoch 74/100\n",
      "22/22 [==============================] - 7s 323ms/step - loss: 3.2251e-04 - val_loss: 3.1850e-04\n",
      "Epoch 75/100\n",
      "22/22 [==============================] - 6s 290ms/step - loss: 3.0213e-04 - val_loss: 3.3523e-04\n",
      "Epoch 76/100\n",
      "22/22 [==============================] - 7s 318ms/step - loss: 2.9101e-04 - val_loss: 5.1152e-04\n"
     ]
    },
    {
     "name": "stdout",
     "output_type": "stream",
     "text": [
      "Epoch 77/100\n",
      "22/22 [==============================] - 7s 297ms/step - loss: 2.7768e-04 - val_loss: 3.5015e-04\n",
      "Epoch 78/100\n",
      "22/22 [==============================] - 5s 240ms/step - loss: 2.6202e-04 - val_loss: 3.1956e-04\n",
      "Epoch 79/100\n",
      "22/22 [==============================] - 5s 231ms/step - loss: 3.1350e-04 - val_loss: 3.1525e-04\n",
      "Epoch 80/100\n",
      "22/22 [==============================] - 6s 286ms/step - loss: 2.6068e-04 - val_loss: 2.9821e-04\n",
      "Epoch 81/100\n",
      "22/22 [==============================] - 7s 334ms/step - loss: 2.8550e-04 - val_loss: 3.8135e-04\n",
      "Epoch 82/100\n",
      "22/22 [==============================] - 7s 326ms/step - loss: 2.9891e-04 - val_loss: 5.5185e-04\n",
      "Epoch 83/100\n",
      "22/22 [==============================] - 7s 346ms/step - loss: 3.0985e-04 - val_loss: 4.3082e-04\n",
      "Epoch 84/100\n",
      "22/22 [==============================] - 6s 273ms/step - loss: 3.2018e-04 - val_loss: 3.4614e-04\n",
      "Epoch 85/100\n",
      "22/22 [==============================] - 7s 328ms/step - loss: 2.7455e-04 - val_loss: 3.2116e-04\n",
      "Epoch 86/100\n",
      "22/22 [==============================] - 7s 320ms/step - loss: 3.6359e-04 - val_loss: 5.9157e-04\n",
      "Epoch 87/100\n",
      "22/22 [==============================] - 7s 310ms/step - loss: 2.9535e-04 - val_loss: 3.0829e-04\n",
      "Epoch 88/100\n",
      "22/22 [==============================] - 8s 353ms/step - loss: 2.7989e-04 - val_loss: 3.1653e-04\n",
      "Epoch 89/100\n",
      "22/22 [==============================] - 7s 318ms/step - loss: 2.9356e-04 - val_loss: 3.2776e-04\n",
      "Epoch 90/100\n",
      "22/22 [==============================] - 7s 315ms/step - loss: 2.7182e-04 - val_loss: 3.0319e-04\n",
      "Epoch 91/100\n",
      "22/22 [==============================] - 5s 224ms/step - loss: 3.2644e-04 - val_loss: 4.5289e-04\n",
      "Epoch 92/100\n",
      "22/22 [==============================] - 6s 295ms/step - loss: 2.9798e-04 - val_loss: 3.4510e-04\n",
      "Epoch 93/100\n",
      "22/22 [==============================] - 6s 296ms/step - loss: 2.7847e-04 - val_loss: 4.3583e-04\n",
      "Epoch 94/100\n",
      "22/22 [==============================] - 6s 286ms/step - loss: 2.5334e-04 - val_loss: 2.7858e-04\n",
      "Epoch 95/100\n",
      "22/22 [==============================] - 7s 342ms/step - loss: 2.4826e-04 - val_loss: 3.8328e-04\n",
      "Epoch 96/100\n",
      "22/22 [==============================] - 8s 340ms/step - loss: 2.8978e-04 - val_loss: 2.6883e-04\n",
      "Epoch 97/100\n",
      "22/22 [==============================] - 7s 329ms/step - loss: 2.9698e-04 - val_loss: 2.9000e-04\n",
      "Epoch 98/100\n",
      "22/22 [==============================] - 7s 324ms/step - loss: 2.5929e-04 - val_loss: 2.8236e-04\n",
      "Epoch 99/100\n",
      "22/22 [==============================] - 7s 341ms/step - loss: 2.6975e-04 - val_loss: 2.8556e-04\n",
      "Epoch 100/100\n",
      "22/22 [==============================] - 7s 323ms/step - loss: 2.6732e-04 - val_loss: 2.9651e-04\n"
     ]
    }
   ],
   "source": [
    "history=model.fit(X_train,y_train,validation_data=(X_test,ytest),epochs=100,batch_size=64,verbose=1)"
   ]
  },
  {
   "cell_type": "code",
   "execution_count": 159,
   "id": "9ebbf43e",
   "metadata": {},
   "outputs": [],
   "source": [
    "import tensorflow as tf"
   ]
  },
  {
   "cell_type": "code",
   "execution_count": 160,
   "id": "35effd9e",
   "metadata": {},
   "outputs": [
    {
     "name": "stdout",
     "output_type": "stream",
     "text": [
      "43/43 [==============================] - 1s 19ms/step\n",
      "22/22 [==============================] - 0s 21ms/step\n"
     ]
    }
   ],
   "source": [
    "### Lets Do the prediction and check performance metrics\n",
    "train_predict=model.predict(X_train)\n",
    "test_predict=model.predict(X_test)"
   ]
  },
  {
   "cell_type": "code",
   "execution_count": 161,
   "id": "0264553a",
   "metadata": {},
   "outputs": [],
   "source": [
    "##Transformback to original form\n",
    "train_predict=scaler.inverse_transform(train_predict)\n",
    "test_predict=scaler.inverse_transform(test_predict)"
   ]
  },
  {
   "cell_type": "code",
   "execution_count": 162,
   "id": "e4bab3ea",
   "metadata": {},
   "outputs": [
    {
     "data": {
      "text/plain": [
       "437.99859702649184"
      ]
     },
     "execution_count": 162,
     "metadata": {},
     "output_type": "execute_result"
    }
   ],
   "source": [
    "### Calculate RMSE performance metrics\n",
    "import math\n",
    "from sklearn.metrics import mean_squared_error\n",
    "math.sqrt(mean_squared_error(y_train,train_predict))"
   ]
  },
  {
   "cell_type": "code",
   "execution_count": 164,
   "id": "af103d02",
   "metadata": {},
   "outputs": [
    {
     "data": {
      "text/plain": [
       "455.0737287839201"
      ]
     },
     "execution_count": 164,
     "metadata": {},
     "output_type": "execute_result"
    }
   ],
   "source": [
    "### Test Data RMSE\n",
    "math.sqrt(mean_squared_error(ytest,test_predict))"
   ]
  },
  {
   "cell_type": "code",
   "execution_count": 165,
   "id": "6971fa7c",
   "metadata": {},
   "outputs": [
    {
     "data": {
      "image/png": "[encoded data removed]",
      "text/plain": [
       "<Figure size 640x480 with 1 Axes>"
      ]
     },
     "metadata": {},
     "output_type": "display_data"
    }
   ],
   "source": [
    "### Plotting \n",
    "# shift train predictions for plotting\n",
    "look_back=100\n",
    "trainPredictPlot = np.empty_like(df1)\n",
    "trainPredictPlot[:, :] = np.nan\n",
    "trainPredictPlot[look_back:len(train_predict)+look_back, :] = train_predict\n",
    "# shift test predictions for plotting\n",
    "testPredictPlot = np.empty_like(df1)\n",
    "testPredictPlot[:, :] = np.nan\n",
    "testPredictPlot[len(train_predict)+(look_back*2)+1:len(df1)-1, :] = test_predict\n",
    "# plot baseline and predictions\n",
    "plt.plot(scaler.inverse_transform(df1))\n",
    "plt.plot(trainPredictPlot)\n",
    "plt.plot(testPredictPlot)\n",
    "plt.show()"
   ]
  },
  {
   "cell_type": "code",
   "execution_count": 166,
   "id": "686d0e05",
   "metadata": {},
   "outputs": [
    {
     "data": {
      "text/plain": [
       "(795, 1475)"
      ]
     },
     "execution_count": 166,
     "metadata": {},
     "output_type": "execute_result"
    }
   ],
   "source": [
    "len(test_data),len(train_data)"
   ]
  },
  {
   "cell_type": "code",
   "execution_count": 167,
   "id": "6b3bfc10",
   "metadata": {},
   "outputs": [
    {
     "data": {
      "text/plain": [
       "(1, 100)"
      ]
     },
     "execution_count": 167,
     "metadata": {},
     "output_type": "execute_result"
    }
   ],
   "source": [
    "x_input=test_data[695:].reshape(1,-1)\n",
    "x_input.shape"
   ]
  },
  {
   "cell_type": "code",
   "execution_count": 168,
   "id": "5f085ea6",
   "metadata": {},
   "outputs": [],
   "source": [
    "temp_input=list(x_input)\n",
    "temp_input=temp_input[0].tolist()"
   ]
  },
  {
   "cell_type": "code",
   "execution_count": 169,
   "id": "22a2b0e3",
   "metadata": {},
   "outputs": [
    {
     "data": {
      "text/plain": [
       "[0.020454545454545475,\n",
       " 0.020454545454545475,\n",
       " 0.019318181818181818,\n",
       " 0.020454545454545475,\n",
       " 0.01477272727272727,\n",
       " 0.018181818181818188,\n",
       " 0.011363636363636381,\n",
       " 0.011363636363636381,\n",
       " 0.012500000000000011,\n",
       " 0.010227272727272724,\n",
       " 0.01477272727272727,\n",
       " 0.01590909090909093,\n",
       " 0.012500000000000011,\n",
       " 0.011363636363636381,\n",
       " 0.01590909090909093,\n",
       " 0.017045454545454558,\n",
       " 0.013636363636363641,\n",
       " 0.0022727272727272874,\n",
       " 0.0022727272727272874,\n",
       " 0.0022727272727272874,\n",
       " 0.009090909090909094,\n",
       " 0.011363636363636381,\n",
       " 0.0022727272727272874,\n",
       " 0.0,\n",
       " 0.0,\n",
       " 0.0022727272727272874,\n",
       " 0.0011363636363636576,\n",
       " 0.004545454545454547,\n",
       " 0.003409090909090917,\n",
       " 0.004545454545454547,\n",
       " 0.012500000000000011,\n",
       " 0.012500000000000011,\n",
       " 0.01477272727272727,\n",
       " 0.020454545454545475,\n",
       " 0.021590909090909077,\n",
       " 0.026136363636363652,\n",
       " 0.026136363636363652,\n",
       " 0.026136363636363652,\n",
       " 0.023863636363636392,\n",
       " 0.027272727272727254,\n",
       " 0.026136363636363652,\n",
       " 0.026136363636363652,\n",
       " 0.021590909090909077,\n",
       " 0.018181818181818188,\n",
       " 0.03409090909090909,\n",
       " 0.037500000000000006,\n",
       " 0.023863636363636392,\n",
       " 0.022727272727272735,\n",
       " 0.03409090909090909,\n",
       " 0.03636363636363635,\n",
       " 0.022727272727272735,\n",
       " 0.021590909090909077,\n",
       " 0.01590909090909093,\n",
       " 0.009090909090909094,\n",
       " 0.01477272727272727,\n",
       " 0.01477272727272727,\n",
       " 0.0011363636363636576,\n",
       " 0.010227272727272724,\n",
       " 0.021590909090909077,\n",
       " 0.03181818181818183,\n",
       " 0.02840909090909091,\n",
       " 0.027272727272727254,\n",
       " 0.03181818181818183,\n",
       " 0.04090909090909092,\n",
       " 0.037500000000000006,\n",
       " 0.037500000000000006,\n",
       " 0.04318181818181818,\n",
       " 0.0465909090909091,\n",
       " 0.04431818181818184,\n",
       " 0.04431818181818184,\n",
       " 0.04886363636363636,\n",
       " 0.04886363636363636,\n",
       " 0.04772727272727276,\n",
       " 0.05000000000000002,\n",
       " 0.04772727272727276,\n",
       " 0.04886363636363636,\n",
       " 0.05000000000000002,\n",
       " 0.04545454545454544,\n",
       " 0.04318181818181818,\n",
       " 0.05000000000000002,\n",
       " 0.05113636363636362,\n",
       " 0.052272727272727276,\n",
       " 0.04886363636363636,\n",
       " 0.054545454545454536,\n",
       " 0.05795454545454545,\n",
       " 0.06590909090909089,\n",
       " 0.06136363636363637,\n",
       " 0.06590909090909089,\n",
       " 0.07159090909090912,\n",
       " 0.0772727272727273,\n",
       " 0.06590909090909089,\n",
       " 0.06590909090909089,\n",
       " 0.06136363636363637,\n",
       " 0.05681818181818185,\n",
       " 0.054545454545454536,\n",
       " 0.054545454545454536,\n",
       " 0.054545454545454536,\n",
       " 0.054545454545454536,\n",
       " 0.054545454545454536,\n",
       " 0.06022727272727271]"
      ]
     },
     "execution_count": 169,
     "metadata": {},
     "output_type": "execute_result"
    }
   ],
   "source": [
    "temp_input"
   ]
  },
  {
   "cell_type": "code",
   "execution_count": 170,
   "id": "e356c517",
   "metadata": {},
   "outputs": [
    {
     "name": "stdout",
     "output_type": "stream",
     "text": [
      "[0.06253571]\n",
      "101\n",
      "1 day input [0.02045455 0.01931818 0.02045455 0.01477273 0.01818182 0.01136364\n",
      " 0.01136364 0.0125     0.01022727 0.01477273 0.01590909 0.0125\n",
      " 0.01136364 0.01590909 0.01704545 0.01363636 0.00227273 0.00227273\n",
      " 0.00227273 0.00909091 0.01136364 0.00227273 0.         0.\n",
      " 0.00227273 0.00113636 0.00454545 0.00340909 0.00454545 0.0125\n",
      " 0.0125     0.01477273 0.02045455 0.02159091 0.02613636 0.02613636\n",
      " 0.02613636 0.02386364 0.02727273 0.02613636 0.02613636 0.02159091\n",
      " 0.01818182 0.03409091 0.0375     0.02386364 0.02272727 0.03409091\n",
      " 0.03636364 0.02272727 0.02159091 0.01590909 0.00909091 0.01477273\n",
      " 0.01477273 0.00113636 0.01022727 0.02159091 0.03181818 0.02840909\n",
      " 0.02727273 0.03181818 0.04090909 0.0375     0.0375     0.04318182\n",
      " 0.04659091 0.04431818 0.04431818 0.04886364 0.04886364 0.04772727\n",
      " 0.05       0.04772727 0.04886364 0.05       0.04545455 0.04318182\n",
      " 0.05       0.05113636 0.05227273 0.04886364 0.05454545 0.05795455\n",
      " 0.06590909 0.06136364 0.06590909 0.07159091 0.07727273 0.06590909\n",
      " 0.06590909 0.06136364 0.05681818 0.05454545 0.05454545 0.05454545\n",
      " 0.05454545 0.05454545 0.06022727 0.06253571]\n",
      "1 day output [[0.06463711]]\n",
      "2 day input [0.01931818 0.02045455 0.01477273 0.01818182 0.01136364 0.01136364\n",
      " 0.0125     0.01022727 0.01477273 0.01590909 0.0125     0.01136364\n",
      " 0.01590909 0.01704545 0.01363636 0.00227273 0.00227273 0.00227273\n",
      " 0.00909091 0.01136364 0.00227273 0.         0.         0.00227273\n",
      " 0.00113636 0.00454545 0.00340909 0.00454545 0.0125     0.0125\n",
      " 0.01477273 0.02045455 0.02159091 0.02613636 0.02613636 0.02613636\n",
      " 0.02386364 0.02727273 0.02613636 0.02613636 0.02159091 0.01818182\n",
      " 0.03409091 0.0375     0.02386364 0.02272727 0.03409091 0.03636364\n",
      " 0.02272727 0.02159091 0.01590909 0.00909091 0.01477273 0.01477273\n",
      " 0.00113636 0.01022727 0.02159091 0.03181818 0.02840909 0.02727273\n",
      " 0.03181818 0.04090909 0.0375     0.0375     0.04318182 0.04659091\n",
      " 0.04431818 0.04431818 0.04886364 0.04886364 0.04772727 0.05\n",
      " 0.04772727 0.04886364 0.05       0.04545455 0.04318182 0.05\n",
      " 0.05113636 0.05227273 0.04886364 0.05454545 0.05795455 0.06590909\n",
      " 0.06136364 0.06590909 0.07159091 0.07727273 0.06590909 0.06590909\n",
      " 0.06136364 0.05681818 0.05454545 0.05454545 0.05454545 0.05454545\n",
      " 0.05454545 0.06022727 0.06253571 0.06463711]\n",
      "2 day output [[0.06699273]]\n",
      "3 day input [0.02045455 0.01477273 0.01818182 0.01136364 0.01136364 0.0125\n",
      " 0.01022727 0.01477273 0.01590909 0.0125     0.01136364 0.01590909\n",
      " 0.01704545 0.01363636 0.00227273 0.00227273 0.00227273 0.00909091\n",
      " 0.01136364 0.00227273 0.         0.         0.00227273 0.00113636\n",
      " 0.00454545 0.00340909 0.00454545 0.0125     0.0125     0.01477273\n",
      " 0.02045455 0.02159091 0.02613636 0.02613636 0.02613636 0.02386364\n",
      " 0.02727273 0.02613636 0.02613636 0.02159091 0.01818182 0.03409091\n",
      " 0.0375     0.02386364 0.02272727 0.03409091 0.03636364 0.02272727\n",
      " 0.02159091 0.01590909 0.00909091 0.01477273 0.01477273 0.00113636\n",
      " 0.01022727 0.02159091 0.03181818 0.02840909 0.02727273 0.03181818\n",
      " 0.04090909 0.0375     0.0375     0.04318182 0.04659091 0.04431818\n",
      " 0.04431818 0.04886364 0.04886364 0.04772727 0.05       0.04772727\n",
      " 0.04886364 0.05       0.04545455 0.04318182 0.05       0.05113636\n",
      " 0.05227273 0.04886364 0.05454545 0.05795455 0.06590909 0.06136364\n",
      " 0.06590909 0.07159091 0.07727273 0.06590909 0.06590909 0.06136364\n",
      " 0.05681818 0.05454545 0.05454545 0.05454545 0.05454545 0.05454545\n",
      " 0.06022727 0.06253571 0.06463711 0.06699273]\n",
      "3 day output [[0.06934302]]\n",
      "4 day input [0.01477273 0.01818182 0.01136364 0.01136364 0.0125     0.01022727\n",
      " 0.01477273 0.01590909 0.0125     0.01136364 0.01590909 0.01704545\n",
      " 0.01363636 0.00227273 0.00227273 0.00227273 0.00909091 0.01136364\n",
      " 0.00227273 0.         0.         0.00227273 0.00113636 0.00454545\n",
      " 0.00340909 0.00454545 0.0125     0.0125     0.01477273 0.02045455\n",
      " 0.02159091 0.02613636 0.02613636 0.02613636 0.02386364 0.02727273\n",
      " 0.02613636 0.02613636 0.02159091 0.01818182 0.03409091 0.0375\n",
      " 0.02386364 0.02272727 0.03409091 0.03636364 0.02272727 0.02159091\n",
      " 0.01590909 0.00909091 0.01477273 0.01477273 0.00113636 0.01022727\n",
      " 0.02159091 0.03181818 0.02840909 0.02727273 0.03181818 0.04090909\n",
      " 0.0375     0.0375     0.04318182 0.04659091 0.04431818 0.04431818\n",
      " 0.04886364 0.04886364 0.04772727 0.05       0.04772727 0.04886364\n",
      " 0.05       0.04545455 0.04318182 0.05       0.05113636 0.05227273\n",
      " 0.04886364 0.05454545 0.05795455 0.06590909 0.06136364 0.06590909\n",
      " 0.07159091 0.07727273 0.06590909 0.06590909 0.06136364 0.05681818\n",
      " 0.05454545 0.05454545 0.05454545 0.05454545 0.05454545 0.06022727\n",
      " 0.06253571 0.06463711 0.06699273 0.06934302]\n",
      "4 day output [[0.07162353]]\n",
      "5 day input [0.01818182 0.01136364 0.01136364 0.0125     0.01022727 0.01477273\n",
      " 0.01590909 0.0125     0.01136364 0.01590909 0.01704545 0.01363636\n",
      " 0.00227273 0.00227273 0.00227273 0.00909091 0.01136364 0.00227273\n",
      " 0.         0.         0.00227273 0.00113636 0.00454545 0.00340909\n",
      " 0.00454545 0.0125     0.0125     0.01477273 0.02045455 0.02159091\n",
      " 0.02613636 0.02613636 0.02613636 0.02386364 0.02727273 0.02613636\n",
      " 0.02613636 0.02159091 0.01818182 0.03409091 0.0375     0.02386364\n",
      " 0.02272727 0.03409091 0.03636364 0.02272727 0.02159091 0.01590909\n",
      " 0.00909091 0.01477273 0.01477273 0.00113636 0.01022727 0.02159091\n",
      " 0.03181818 0.02840909 0.02727273 0.03181818 0.04090909 0.0375\n",
      " 0.0375     0.04318182 0.04659091 0.04431818 0.04431818 0.04886364\n",
      " 0.04886364 0.04772727 0.05       0.04772727 0.04886364 0.05\n",
      " 0.04545455 0.04318182 0.05       0.05113636 0.05227273 0.04886364\n",
      " 0.05454545 0.05795455 0.06590909 0.06136364 0.06590909 0.07159091\n",
      " 0.07727273 0.06590909 0.06590909 0.06136364 0.05681818 0.05454545\n",
      " 0.05454545 0.05454545 0.05454545 0.05454545 0.06022727 0.06253571\n",
      " 0.06463711 0.06699273 0.06934302 0.07162353]\n",
      "5 day output [[0.0738351]]\n",
      "6 day input [0.01136364 0.01136364 0.0125     0.01022727 0.01477273 0.01590909\n",
      " 0.0125     0.01136364 0.01590909 0.01704545 0.01363636 0.00227273\n",
      " 0.00227273 0.00227273 0.00909091 0.01136364 0.00227273 0.\n",
      " 0.         0.00227273 0.00113636 0.00454545 0.00340909 0.00454545\n",
      " 0.0125     0.0125     0.01477273 0.02045455 0.02159091 0.02613636\n",
      " 0.02613636 0.02613636 0.02386364 0.02727273 0.02613636 0.02613636\n",
      " 0.02159091 0.01818182 0.03409091 0.0375     0.02386364 0.02272727\n",
      " 0.03409091 0.03636364 0.02272727 0.02159091 0.01590909 0.00909091\n",
      " 0.01477273 0.01477273 0.00113636 0.01022727 0.02159091 0.03181818\n",
      " 0.02840909 0.02727273 0.03181818 0.04090909 0.0375     0.0375\n",
      " 0.04318182 0.04659091 0.04431818 0.04431818 0.04886364 0.04886364\n",
      " 0.04772727 0.05       0.04772727 0.04886364 0.05       0.04545455\n",
      " 0.04318182 0.05       0.05113636 0.05227273 0.04886364 0.05454545\n",
      " 0.05795455 0.06590909 0.06136364 0.06590909 0.07159091 0.07727273\n",
      " 0.06590909 0.06590909 0.06136364 0.05681818 0.05454545 0.05454545\n",
      " 0.05454545 0.05454545 0.05454545 0.06022727 0.06253571 0.06463711\n",
      " 0.06699273 0.06934302 0.07162353 0.0738351 ]\n",
      "6 day output [[0.07599184]]\n",
      "7 day input [0.01136364 0.0125     0.01022727 0.01477273 0.01590909 0.0125\n",
      " 0.01136364 0.01590909 0.01704545 0.01363636 0.00227273 0.00227273\n",
      " 0.00227273 0.00909091 0.01136364 0.00227273 0.         0.\n",
      " 0.00227273 0.00113636 0.00454545 0.00340909 0.00454545 0.0125\n",
      " 0.0125     0.01477273 0.02045455 0.02159091 0.02613636 0.02613636\n",
      " 0.02613636 0.02386364 0.02727273 0.02613636 0.02613636 0.02159091\n",
      " 0.01818182 0.03409091 0.0375     0.02386364 0.02272727 0.03409091\n",
      " 0.03636364 0.02272727 0.02159091 0.01590909 0.00909091 0.01477273\n",
      " 0.01477273 0.00113636 0.01022727 0.02159091 0.03181818 0.02840909\n",
      " 0.02727273 0.03181818 0.04090909 0.0375     0.0375     0.04318182\n",
      " 0.04659091 0.04431818 0.04431818 0.04886364 0.04886364 0.04772727\n",
      " 0.05       0.04772727 0.04886364 0.05       0.04545455 0.04318182\n",
      " 0.05       0.05113636 0.05227273 0.04886364 0.05454545 0.05795455\n",
      " 0.06590909 0.06136364 0.06590909 0.07159091 0.07727273 0.06590909\n",
      " 0.06590909 0.06136364 0.05681818 0.05454545 0.05454545 0.05454545\n",
      " 0.05454545 0.05454545 0.06022727 0.06253571 0.06463711 0.06699273\n",
      " 0.06934302 0.07162353 0.0738351  0.07599184]\n",
      "7 day output [[0.07810679]]\n",
      "8 day input [0.0125     0.01022727 0.01477273 0.01590909 0.0125     0.01136364\n",
      " 0.01590909 0.01704545 0.01363636 0.00227273 0.00227273 0.00227273\n",
      " 0.00909091 0.01136364 0.00227273 0.         0.         0.00227273\n",
      " 0.00113636 0.00454545 0.00340909 0.00454545 0.0125     0.0125\n",
      " 0.01477273 0.02045455 0.02159091 0.02613636 0.02613636 0.02613636\n",
      " 0.02386364 0.02727273 0.02613636 0.02613636 0.02159091 0.01818182\n",
      " 0.03409091 0.0375     0.02386364 0.02272727 0.03409091 0.03636364\n",
      " 0.02272727 0.02159091 0.01590909 0.00909091 0.01477273 0.01477273\n",
      " 0.00113636 0.01022727 0.02159091 0.03181818 0.02840909 0.02727273\n",
      " 0.03181818 0.04090909 0.0375     0.0375     0.04318182 0.04659091\n",
      " 0.04431818 0.04431818 0.04886364 0.04886364 0.04772727 0.05\n",
      " 0.04772727 0.04886364 0.05       0.04545455 0.04318182 0.05\n",
      " 0.05113636 0.05227273 0.04886364 0.05454545 0.05795455 0.06590909\n",
      " 0.06136364 0.06590909 0.07159091 0.07727273 0.06590909 0.06590909\n",
      " 0.06136364 0.05681818 0.05454545 0.05454545 0.05454545 0.05454545\n",
      " 0.05454545 0.06022727 0.06253571 0.06463711 0.06699273 0.06934302\n",
      " 0.07162353 0.0738351  0.07599184 0.07810679]\n",
      "8 day output [[0.08018933]]\n",
      "9 day input [0.01022727 0.01477273 0.01590909 0.0125     0.01136364 0.01590909\n",
      " 0.01704545 0.01363636 0.00227273 0.00227273 0.00227273 0.00909091\n",
      " 0.01136364 0.00227273 0.         0.         0.00227273 0.00113636\n",
      " 0.00454545 0.00340909 0.00454545 0.0125     0.0125     0.01477273\n",
      " 0.02045455 0.02159091 0.02613636 0.02613636 0.02613636 0.02386364\n",
      " 0.02727273 0.02613636 0.02613636 0.02159091 0.01818182 0.03409091\n",
      " 0.0375     0.02386364 0.02272727 0.03409091 0.03636364 0.02272727\n",
      " 0.02159091 0.01590909 0.00909091 0.01477273 0.01477273 0.00113636\n",
      " 0.01022727 0.02159091 0.03181818 0.02840909 0.02727273 0.03181818\n",
      " 0.04090909 0.0375     0.0375     0.04318182 0.04659091 0.04431818\n",
      " 0.04431818 0.04886364 0.04886364 0.04772727 0.05       0.04772727\n",
      " 0.04886364 0.05       0.04545455 0.04318182 0.05       0.05113636\n",
      " 0.05227273 0.04886364 0.05454545 0.05795455 0.06590909 0.06136364\n",
      " 0.06590909 0.07159091 0.07727273 0.06590909 0.06590909 0.06136364\n",
      " 0.05681818 0.05454545 0.05454545 0.05454545 0.05454545 0.05454545\n",
      " 0.06022727 0.06253571 0.06463711 0.06699273 0.06934302 0.07162353\n",
      " 0.0738351  0.07599184 0.07810679 0.08018933]\n",
      "9 day output [[0.08224532]]\n",
      "10 day input [0.01477273 0.01590909 0.0125     0.01136364 0.01590909 0.01704545\n",
      " 0.01363636 0.00227273 0.00227273 0.00227273 0.00909091 0.01136364\n",
      " 0.00227273 0.         0.         0.00227273 0.00113636 0.00454545\n",
      " 0.00340909 0.00454545 0.0125     0.0125     0.01477273 0.02045455\n",
      " 0.02159091 0.02613636 0.02613636 0.02613636 0.02386364 0.02727273\n",
      " 0.02613636 0.02613636 0.02159091 0.01818182 0.03409091 0.0375\n",
      " 0.02386364 0.02272727 0.03409091 0.03636364 0.02272727 0.02159091\n",
      " 0.01590909 0.00909091 0.01477273 0.01477273 0.00113636 0.01022727\n",
      " 0.02159091 0.03181818 0.02840909 0.02727273 0.03181818 0.04090909\n",
      " 0.0375     0.0375     0.04318182 0.04659091 0.04431818 0.04431818\n",
      " 0.04886364 0.04886364 0.04772727 0.05       0.04772727 0.04886364\n",
      " 0.05       0.04545455 0.04318182 0.05       0.05113636 0.05227273\n",
      " 0.04886364 0.05454545 0.05795455 0.06590909 0.06136364 0.06590909\n",
      " 0.07159091 0.07727273 0.06590909 0.06590909 0.06136364 0.05681818\n",
      " 0.05454545 0.05454545 0.05454545 0.05454545 0.05454545 0.06022727\n",
      " 0.06253571 0.06463711 0.06699273 0.06934302 0.07162353 0.0738351\n",
      " 0.07599184 0.07810679 0.08018933 0.08224532]\n",
      "10 day output [[0.08427756]]\n",
      "11 day input [0.01590909 0.0125     0.01136364 0.01590909 0.01704545 0.01363636\n",
      " 0.00227273 0.00227273 0.00227273 0.00909091 0.01136364 0.00227273\n",
      " 0.         0.         0.00227273 0.00113636 0.00454545 0.00340909\n",
      " 0.00454545 0.0125     0.0125     0.01477273 0.02045455 0.02159091\n",
      " 0.02613636 0.02613636 0.02613636 0.02386364 0.02727273 0.02613636\n",
      " 0.02613636 0.02159091 0.01818182 0.03409091 0.0375     0.02386364\n",
      " 0.02272727 0.03409091 0.03636364 0.02272727 0.02159091 0.01590909\n",
      " 0.00909091 0.01477273 0.01477273 0.00113636 0.01022727 0.02159091\n",
      " 0.03181818 0.02840909 0.02727273 0.03181818 0.04090909 0.0375\n",
      " 0.0375     0.04318182 0.04659091 0.04431818 0.04431818 0.04886364\n",
      " 0.04886364 0.04772727 0.05       0.04772727 0.04886364 0.05\n",
      " 0.04545455 0.04318182 0.05       0.05113636 0.05227273 0.04886364\n",
      " 0.05454545 0.05795455 0.06590909 0.06136364 0.06590909 0.07159091\n",
      " 0.07727273 0.06590909 0.06590909 0.06136364 0.05681818 0.05454545\n",
      " 0.05454545 0.05454545 0.05454545 0.05454545 0.06022727 0.06253571\n",
      " 0.06463711 0.06699273 0.06934302 0.07162353 0.0738351  0.07599184\n",
      " 0.07810679 0.08018933 0.08224532 0.08427756]\n"
     ]
    },
    {
     "name": "stdout",
     "output_type": "stream",
     "text": [
      "11 day output [[0.08628651]]\n",
      "12 day input [0.0125     0.01136364 0.01590909 0.01704545 0.01363636 0.00227273\n",
      " 0.00227273 0.00227273 0.00909091 0.01136364 0.00227273 0.\n",
      " 0.         0.00227273 0.00113636 0.00454545 0.00340909 0.00454545\n",
      " 0.0125     0.0125     0.01477273 0.02045455 0.02159091 0.02613636\n",
      " 0.02613636 0.02613636 0.02386364 0.02727273 0.02613636 0.02613636\n",
      " 0.02159091 0.01818182 0.03409091 0.0375     0.02386364 0.02272727\n",
      " 0.03409091 0.03636364 0.02272727 0.02159091 0.01590909 0.00909091\n",
      " 0.01477273 0.01477273 0.00113636 0.01022727 0.02159091 0.03181818\n",
      " 0.02840909 0.02727273 0.03181818 0.04090909 0.0375     0.0375\n",
      " 0.04318182 0.04659091 0.04431818 0.04431818 0.04886364 0.04886364\n",
      " 0.04772727 0.05       0.04772727 0.04886364 0.05       0.04545455\n",
      " 0.04318182 0.05       0.05113636 0.05227273 0.04886364 0.05454545\n",
      " 0.05795455 0.06590909 0.06136364 0.06590909 0.07159091 0.07727273\n",
      " 0.06590909 0.06590909 0.06136364 0.05681818 0.05454545 0.05454545\n",
      " 0.05454545 0.05454545 0.05454545 0.06022727 0.06253571 0.06463711\n",
      " 0.06699273 0.06934302 0.07162353 0.0738351  0.07599184 0.07810679\n",
      " 0.08018933 0.08224532 0.08427756 0.08628651]\n",
      "12 day output [[0.08827107]]\n",
      "13 day input [0.01136364 0.01590909 0.01704545 0.01363636 0.00227273 0.00227273\n",
      " 0.00227273 0.00909091 0.01136364 0.00227273 0.         0.\n",
      " 0.00227273 0.00113636 0.00454545 0.00340909 0.00454545 0.0125\n",
      " 0.0125     0.01477273 0.02045455 0.02159091 0.02613636 0.02613636\n",
      " 0.02613636 0.02386364 0.02727273 0.02613636 0.02613636 0.02159091\n",
      " 0.01818182 0.03409091 0.0375     0.02386364 0.02272727 0.03409091\n",
      " 0.03636364 0.02272727 0.02159091 0.01590909 0.00909091 0.01477273\n",
      " 0.01477273 0.00113636 0.01022727 0.02159091 0.03181818 0.02840909\n",
      " 0.02727273 0.03181818 0.04090909 0.0375     0.0375     0.04318182\n",
      " 0.04659091 0.04431818 0.04431818 0.04886364 0.04886364 0.04772727\n",
      " 0.05       0.04772727 0.04886364 0.05       0.04545455 0.04318182\n",
      " 0.05       0.05113636 0.05227273 0.04886364 0.05454545 0.05795455\n",
      " 0.06590909 0.06136364 0.06590909 0.07159091 0.07727273 0.06590909\n",
      " 0.06590909 0.06136364 0.05681818 0.05454545 0.05454545 0.05454545\n",
      " 0.05454545 0.05454545 0.06022727 0.06253571 0.06463711 0.06699273\n",
      " 0.06934302 0.07162353 0.0738351  0.07599184 0.07810679 0.08018933\n",
      " 0.08224532 0.08427756 0.08628651 0.08827107]\n",
      "13 day output [[0.09022915]]\n",
      "14 day input [0.01590909 0.01704545 0.01363636 0.00227273 0.00227273 0.00227273\n",
      " 0.00909091 0.01136364 0.00227273 0.         0.         0.00227273\n",
      " 0.00113636 0.00454545 0.00340909 0.00454545 0.0125     0.0125\n",
      " 0.01477273 0.02045455 0.02159091 0.02613636 0.02613636 0.02613636\n",
      " 0.02386364 0.02727273 0.02613636 0.02613636 0.02159091 0.01818182\n",
      " 0.03409091 0.0375     0.02386364 0.02272727 0.03409091 0.03636364\n",
      " 0.02272727 0.02159091 0.01590909 0.00909091 0.01477273 0.01477273\n",
      " 0.00113636 0.01022727 0.02159091 0.03181818 0.02840909 0.02727273\n",
      " 0.03181818 0.04090909 0.0375     0.0375     0.04318182 0.04659091\n",
      " 0.04431818 0.04431818 0.04886364 0.04886364 0.04772727 0.05\n",
      " 0.04772727 0.04886364 0.05       0.04545455 0.04318182 0.05\n",
      " 0.05113636 0.05227273 0.04886364 0.05454545 0.05795455 0.06590909\n",
      " 0.06136364 0.06590909 0.07159091 0.07727273 0.06590909 0.06590909\n",
      " 0.06136364 0.05681818 0.05454545 0.05454545 0.05454545 0.05454545\n",
      " 0.05454545 0.06022727 0.06253571 0.06463711 0.06699273 0.06934302\n",
      " 0.07162353 0.0738351  0.07599184 0.07810679 0.08018933 0.08224532\n",
      " 0.08427756 0.08628651 0.08827107 0.09022915]\n",
      "14 day output [[0.09215835]]\n",
      "15 day input [0.01704545 0.01363636 0.00227273 0.00227273 0.00227273 0.00909091\n",
      " 0.01136364 0.00227273 0.         0.         0.00227273 0.00113636\n",
      " 0.00454545 0.00340909 0.00454545 0.0125     0.0125     0.01477273\n",
      " 0.02045455 0.02159091 0.02613636 0.02613636 0.02613636 0.02386364\n",
      " 0.02727273 0.02613636 0.02613636 0.02159091 0.01818182 0.03409091\n",
      " 0.0375     0.02386364 0.02272727 0.03409091 0.03636364 0.02272727\n",
      " 0.02159091 0.01590909 0.00909091 0.01477273 0.01477273 0.00113636\n",
      " 0.01022727 0.02159091 0.03181818 0.02840909 0.02727273 0.03181818\n",
      " 0.04090909 0.0375     0.0375     0.04318182 0.04659091 0.04431818\n",
      " 0.04431818 0.04886364 0.04886364 0.04772727 0.05       0.04772727\n",
      " 0.04886364 0.05       0.04545455 0.04318182 0.05       0.05113636\n",
      " 0.05227273 0.04886364 0.05454545 0.05795455 0.06590909 0.06136364\n",
      " 0.06590909 0.07159091 0.07727273 0.06590909 0.06590909 0.06136364\n",
      " 0.05681818 0.05454545 0.05454545 0.05454545 0.05454545 0.05454545\n",
      " 0.06022727 0.06253571 0.06463711 0.06699273 0.06934302 0.07162353\n",
      " 0.0738351  0.07599184 0.07810679 0.08018933 0.08224532 0.08427756\n",
      " 0.08628651 0.08827107 0.09022915 0.09215835]\n",
      "15 day output [[0.09405628]]\n",
      "16 day input [0.01363636 0.00227273 0.00227273 0.00227273 0.00909091 0.01136364\n",
      " 0.00227273 0.         0.         0.00227273 0.00113636 0.00454545\n",
      " 0.00340909 0.00454545 0.0125     0.0125     0.01477273 0.02045455\n",
      " 0.02159091 0.02613636 0.02613636 0.02613636 0.02386364 0.02727273\n",
      " 0.02613636 0.02613636 0.02159091 0.01818182 0.03409091 0.0375\n",
      " 0.02386364 0.02272727 0.03409091 0.03636364 0.02272727 0.02159091\n",
      " 0.01590909 0.00909091 0.01477273 0.01477273 0.00113636 0.01022727\n",
      " 0.02159091 0.03181818 0.02840909 0.02727273 0.03181818 0.04090909\n",
      " 0.0375     0.0375     0.04318182 0.04659091 0.04431818 0.04431818\n",
      " 0.04886364 0.04886364 0.04772727 0.05       0.04772727 0.04886364\n",
      " 0.05       0.04545455 0.04318182 0.05       0.05113636 0.05227273\n",
      " 0.04886364 0.05454545 0.05795455 0.06590909 0.06136364 0.06590909\n",
      " 0.07159091 0.07727273 0.06590909 0.06590909 0.06136364 0.05681818\n",
      " 0.05454545 0.05454545 0.05454545 0.05454545 0.05454545 0.06022727\n",
      " 0.06253571 0.06463711 0.06699273 0.06934302 0.07162353 0.0738351\n",
      " 0.07599184 0.07810679 0.08018933 0.08224532 0.08427756 0.08628651\n",
      " 0.08827107 0.09022915 0.09215835 0.09405628]\n",
      "16 day output [[0.09592105]]\n",
      "17 day input [0.00227273 0.00227273 0.00227273 0.00909091 0.01136364 0.00227273\n",
      " 0.         0.         0.00227273 0.00113636 0.00454545 0.00340909\n",
      " 0.00454545 0.0125     0.0125     0.01477273 0.02045455 0.02159091\n",
      " 0.02613636 0.02613636 0.02613636 0.02386364 0.02727273 0.02613636\n",
      " 0.02613636 0.02159091 0.01818182 0.03409091 0.0375     0.02386364\n",
      " 0.02272727 0.03409091 0.03636364 0.02272727 0.02159091 0.01590909\n",
      " 0.00909091 0.01477273 0.01477273 0.00113636 0.01022727 0.02159091\n",
      " 0.03181818 0.02840909 0.02727273 0.03181818 0.04090909 0.0375\n",
      " 0.0375     0.04318182 0.04659091 0.04431818 0.04431818 0.04886364\n",
      " 0.04886364 0.04772727 0.05       0.04772727 0.04886364 0.05\n",
      " 0.04545455 0.04318182 0.05       0.05113636 0.05227273 0.04886364\n",
      " 0.05454545 0.05795455 0.06590909 0.06136364 0.06590909 0.07159091\n",
      " 0.07727273 0.06590909 0.06590909 0.06136364 0.05681818 0.05454545\n",
      " 0.05454545 0.05454545 0.05454545 0.05454545 0.06022727 0.06253571\n",
      " 0.06463711 0.06699273 0.06934302 0.07162353 0.0738351  0.07599184\n",
      " 0.07810679 0.08018933 0.08224532 0.08427756 0.08628651 0.08827107\n",
      " 0.09022915 0.09215835 0.09405628 0.09592105]\n",
      "17 day output [[0.09775124]]\n",
      "18 day input [0.00227273 0.00227273 0.00909091 0.01136364 0.00227273 0.\n",
      " 0.         0.00227273 0.00113636 0.00454545 0.00340909 0.00454545\n",
      " 0.0125     0.0125     0.01477273 0.02045455 0.02159091 0.02613636\n",
      " 0.02613636 0.02613636 0.02386364 0.02727273 0.02613636 0.02613636\n",
      " 0.02159091 0.01818182 0.03409091 0.0375     0.02386364 0.02272727\n",
      " 0.03409091 0.03636364 0.02272727 0.02159091 0.01590909 0.00909091\n",
      " 0.01477273 0.01477273 0.00113636 0.01022727 0.02159091 0.03181818\n",
      " 0.02840909 0.02727273 0.03181818 0.04090909 0.0375     0.0375\n",
      " 0.04318182 0.04659091 0.04431818 0.04431818 0.04886364 0.04886364\n",
      " 0.04772727 0.05       0.04772727 0.04886364 0.05       0.04545455\n",
      " 0.04318182 0.05       0.05113636 0.05227273 0.04886364 0.05454545\n",
      " 0.05795455 0.06590909 0.06136364 0.06590909 0.07159091 0.07727273\n",
      " 0.06590909 0.06590909 0.06136364 0.05681818 0.05454545 0.05454545\n",
      " 0.05454545 0.05454545 0.05454545 0.06022727 0.06253571 0.06463711\n",
      " 0.06699273 0.06934302 0.07162353 0.0738351  0.07599184 0.07810679\n",
      " 0.08018933 0.08224532 0.08427756 0.08628651 0.08827107 0.09022915\n",
      " 0.09215835 0.09405628 0.09592105 0.09775124]\n",
      "18 day output [[0.09954602]]\n",
      "19 day input [0.00227273 0.00909091 0.01136364 0.00227273 0.         0.\n",
      " 0.00227273 0.00113636 0.00454545 0.00340909 0.00454545 0.0125\n",
      " 0.0125     0.01477273 0.02045455 0.02159091 0.02613636 0.02613636\n",
      " 0.02613636 0.02386364 0.02727273 0.02613636 0.02613636 0.02159091\n",
      " 0.01818182 0.03409091 0.0375     0.02386364 0.02272727 0.03409091\n",
      " 0.03636364 0.02272727 0.02159091 0.01590909 0.00909091 0.01477273\n",
      " 0.01477273 0.00113636 0.01022727 0.02159091 0.03181818 0.02840909\n",
      " 0.02727273 0.03181818 0.04090909 0.0375     0.0375     0.04318182\n",
      " 0.04659091 0.04431818 0.04431818 0.04886364 0.04886364 0.04772727\n",
      " 0.05       0.04772727 0.04886364 0.05       0.04545455 0.04318182\n",
      " 0.05       0.05113636 0.05227273 0.04886364 0.05454545 0.05795455\n",
      " 0.06590909 0.06136364 0.06590909 0.07159091 0.07727273 0.06590909\n",
      " 0.06590909 0.06136364 0.05681818 0.05454545 0.05454545 0.05454545\n",
      " 0.05454545 0.05454545 0.06022727 0.06253571 0.06463711 0.06699273\n",
      " 0.06934302 0.07162353 0.0738351  0.07599184 0.07810679 0.08018933\n",
      " 0.08224532 0.08427756 0.08628651 0.08827107 0.09022915 0.09215835\n",
      " 0.09405628 0.09592105 0.09775124 0.09954602]\n"
     ]
    },
    {
     "name": "stdout",
     "output_type": "stream",
     "text": [
      "19 day output [[0.1013051]]\n",
      "20 day input [0.00909091 0.01136364 0.00227273 0.         0.         0.00227273\n",
      " 0.00113636 0.00454545 0.00340909 0.00454545 0.0125     0.0125\n",
      " 0.01477273 0.02045455 0.02159091 0.02613636 0.02613636 0.02613636\n",
      " 0.02386364 0.02727273 0.02613636 0.02613636 0.02159091 0.01818182\n",
      " 0.03409091 0.0375     0.02386364 0.02272727 0.03409091 0.03636364\n",
      " 0.02272727 0.02159091 0.01590909 0.00909091 0.01477273 0.01477273\n",
      " 0.00113636 0.01022727 0.02159091 0.03181818 0.02840909 0.02727273\n",
      " 0.03181818 0.04090909 0.0375     0.0375     0.04318182 0.04659091\n",
      " 0.04431818 0.04431818 0.04886364 0.04886364 0.04772727 0.05\n",
      " 0.04772727 0.04886364 0.05       0.04545455 0.04318182 0.05\n",
      " 0.05113636 0.05227273 0.04886364 0.05454545 0.05795455 0.06590909\n",
      " 0.06136364 0.06590909 0.07159091 0.07727273 0.06590909 0.06590909\n",
      " 0.06136364 0.05681818 0.05454545 0.05454545 0.05454545 0.05454545\n",
      " 0.05454545 0.06022727 0.06253571 0.06463711 0.06699273 0.06934302\n",
      " 0.07162353 0.0738351  0.07599184 0.07810679 0.08018933 0.08224532\n",
      " 0.08427756 0.08628651 0.08827107 0.09022915 0.09215835 0.09405628\n",
      " 0.09592105 0.09775124 0.09954602 0.1013051 ]\n",
      "20 day output [[0.10302868]]\n",
      "21 day input [0.01136364 0.00227273 0.         0.         0.00227273 0.00113636\n",
      " 0.00454545 0.00340909 0.00454545 0.0125     0.0125     0.01477273\n",
      " 0.02045455 0.02159091 0.02613636 0.02613636 0.02613636 0.02386364\n",
      " 0.02727273 0.02613636 0.02613636 0.02159091 0.01818182 0.03409091\n",
      " 0.0375     0.02386364 0.02272727 0.03409091 0.03636364 0.02272727\n",
      " 0.02159091 0.01590909 0.00909091 0.01477273 0.01477273 0.00113636\n",
      " 0.01022727 0.02159091 0.03181818 0.02840909 0.02727273 0.03181818\n",
      " 0.04090909 0.0375     0.0375     0.04318182 0.04659091 0.04431818\n",
      " 0.04431818 0.04886364 0.04886364 0.04772727 0.05       0.04772727\n",
      " 0.04886364 0.05       0.04545455 0.04318182 0.05       0.05113636\n",
      " 0.05227273 0.04886364 0.05454545 0.05795455 0.06590909 0.06136364\n",
      " 0.06590909 0.07159091 0.07727273 0.06590909 0.06590909 0.06136364\n",
      " 0.05681818 0.05454545 0.05454545 0.05454545 0.05454545 0.05454545\n",
      " 0.06022727 0.06253571 0.06463711 0.06699273 0.06934302 0.07162353\n",
      " 0.0738351  0.07599184 0.07810679 0.08018933 0.08224532 0.08427756\n",
      " 0.08628651 0.08827107 0.09022915 0.09215835 0.09405628 0.09592105\n",
      " 0.09775124 0.09954602 0.1013051  0.10302868]\n",
      "21 day output [[0.10471731]]\n",
      "22 day input [0.00227273 0.         0.         0.00227273 0.00113636 0.00454545\n",
      " 0.00340909 0.00454545 0.0125     0.0125     0.01477273 0.02045455\n",
      " 0.02159091 0.02613636 0.02613636 0.02613636 0.02386364 0.02727273\n",
      " 0.02613636 0.02613636 0.02159091 0.01818182 0.03409091 0.0375\n",
      " 0.02386364 0.02272727 0.03409091 0.03636364 0.02272727 0.02159091\n",
      " 0.01590909 0.00909091 0.01477273 0.01477273 0.00113636 0.01022727\n",
      " 0.02159091 0.03181818 0.02840909 0.02727273 0.03181818 0.04090909\n",
      " 0.0375     0.0375     0.04318182 0.04659091 0.04431818 0.04431818\n",
      " 0.04886364 0.04886364 0.04772727 0.05       0.04772727 0.04886364\n",
      " 0.05       0.04545455 0.04318182 0.05       0.05113636 0.05227273\n",
      " 0.04886364 0.05454545 0.05795455 0.06590909 0.06136364 0.06590909\n",
      " 0.07159091 0.07727273 0.06590909 0.06590909 0.06136364 0.05681818\n",
      " 0.05454545 0.05454545 0.05454545 0.05454545 0.05454545 0.06022727\n",
      " 0.06253571 0.06463711 0.06699273 0.06934302 0.07162353 0.0738351\n",
      " 0.07599184 0.07810679 0.08018933 0.08224532 0.08427756 0.08628651\n",
      " 0.08827107 0.09022915 0.09215835 0.09405628 0.09592105 0.09775124\n",
      " 0.09954602 0.1013051  0.10302868 0.10471731]\n",
      "22 day output [[0.10637185]]\n",
      "23 day input [0.         0.         0.00227273 0.00113636 0.00454545 0.00340909\n",
      " 0.00454545 0.0125     0.0125     0.01477273 0.02045455 0.02159091\n",
      " 0.02613636 0.02613636 0.02613636 0.02386364 0.02727273 0.02613636\n",
      " 0.02613636 0.02159091 0.01818182 0.03409091 0.0375     0.02386364\n",
      " 0.02272727 0.03409091 0.03636364 0.02272727 0.02159091 0.01590909\n",
      " 0.00909091 0.01477273 0.01477273 0.00113636 0.01022727 0.02159091\n",
      " 0.03181818 0.02840909 0.02727273 0.03181818 0.04090909 0.0375\n",
      " 0.0375     0.04318182 0.04659091 0.04431818 0.04431818 0.04886364\n",
      " 0.04886364 0.04772727 0.05       0.04772727 0.04886364 0.05\n",
      " 0.04545455 0.04318182 0.05       0.05113636 0.05227273 0.04886364\n",
      " 0.05454545 0.05795455 0.06590909 0.06136364 0.06590909 0.07159091\n",
      " 0.07727273 0.06590909 0.06590909 0.06136364 0.05681818 0.05454545\n",
      " 0.05454545 0.05454545 0.05454545 0.05454545 0.06022727 0.06253571\n",
      " 0.06463711 0.06699273 0.06934302 0.07162353 0.0738351  0.07599184\n",
      " 0.07810679 0.08018933 0.08224532 0.08427756 0.08628651 0.08827107\n",
      " 0.09022915 0.09215835 0.09405628 0.09592105 0.09775124 0.09954602\n",
      " 0.1013051  0.10302868 0.10471731 0.10637185]\n",
      "23 day output [[0.10799322]]\n",
      "24 day input [0.         0.00227273 0.00113636 0.00454545 0.00340909 0.00454545\n",
      " 0.0125     0.0125     0.01477273 0.02045455 0.02159091 0.02613636\n",
      " 0.02613636 0.02613636 0.02386364 0.02727273 0.02613636 0.02613636\n",
      " 0.02159091 0.01818182 0.03409091 0.0375     0.02386364 0.02272727\n",
      " 0.03409091 0.03636364 0.02272727 0.02159091 0.01590909 0.00909091\n",
      " 0.01477273 0.01477273 0.00113636 0.01022727 0.02159091 0.03181818\n",
      " 0.02840909 0.02727273 0.03181818 0.04090909 0.0375     0.0375\n",
      " 0.04318182 0.04659091 0.04431818 0.04431818 0.04886364 0.04886364\n",
      " 0.04772727 0.05       0.04772727 0.04886364 0.05       0.04545455\n",
      " 0.04318182 0.05       0.05113636 0.05227273 0.04886364 0.05454545\n",
      " 0.05795455 0.06590909 0.06136364 0.06590909 0.07159091 0.07727273\n",
      " 0.06590909 0.06590909 0.06136364 0.05681818 0.05454545 0.05454545\n",
      " 0.05454545 0.05454545 0.05454545 0.06022727 0.06253571 0.06463711\n",
      " 0.06699273 0.06934302 0.07162353 0.0738351  0.07599184 0.07810679\n",
      " 0.08018933 0.08224532 0.08427756 0.08628651 0.08827107 0.09022915\n",
      " 0.09215835 0.09405628 0.09592105 0.09775124 0.09954602 0.1013051\n",
      " 0.10302868 0.10471731 0.10637185 0.10799322]\n",
      "24 day output [[0.10958251]]\n",
      "25 day input [0.00227273 0.00113636 0.00454545 0.00340909 0.00454545 0.0125\n",
      " 0.0125     0.01477273 0.02045455 0.02159091 0.02613636 0.02613636\n",
      " 0.02613636 0.02386364 0.02727273 0.02613636 0.02613636 0.02159091\n",
      " 0.01818182 0.03409091 0.0375     0.02386364 0.02272727 0.03409091\n",
      " 0.03636364 0.02272727 0.02159091 0.01590909 0.00909091 0.01477273\n",
      " 0.01477273 0.00113636 0.01022727 0.02159091 0.03181818 0.02840909\n",
      " 0.02727273 0.03181818 0.04090909 0.0375     0.0375     0.04318182\n",
      " 0.04659091 0.04431818 0.04431818 0.04886364 0.04886364 0.04772727\n",
      " 0.05       0.04772727 0.04886364 0.05       0.04545455 0.04318182\n",
      " 0.05       0.05113636 0.05227273 0.04886364 0.05454545 0.05795455\n",
      " 0.06590909 0.06136364 0.06590909 0.07159091 0.07727273 0.06590909\n",
      " 0.06590909 0.06136364 0.05681818 0.05454545 0.05454545 0.05454545\n",
      " 0.05454545 0.05454545 0.06022727 0.06253571 0.06463711 0.06699273\n",
      " 0.06934302 0.07162353 0.0738351  0.07599184 0.07810679 0.08018933\n",
      " 0.08224532 0.08427756 0.08628651 0.08827107 0.09022915 0.09215835\n",
      " 0.09405628 0.09592105 0.09775124 0.09954602 0.1013051  0.10302868\n",
      " 0.10471731 0.10637185 0.10799322 0.10958251]\n",
      "25 day output [[0.11114083]]\n",
      "26 day input [0.00113636 0.00454545 0.00340909 0.00454545 0.0125     0.0125\n",
      " 0.01477273 0.02045455 0.02159091 0.02613636 0.02613636 0.02613636\n",
      " 0.02386364 0.02727273 0.02613636 0.02613636 0.02159091 0.01818182\n",
      " 0.03409091 0.0375     0.02386364 0.02272727 0.03409091 0.03636364\n",
      " 0.02272727 0.02159091 0.01590909 0.00909091 0.01477273 0.01477273\n",
      " 0.00113636 0.01022727 0.02159091 0.03181818 0.02840909 0.02727273\n",
      " 0.03181818 0.04090909 0.0375     0.0375     0.04318182 0.04659091\n",
      " 0.04431818 0.04431818 0.04886364 0.04886364 0.04772727 0.05\n",
      " 0.04772727 0.04886364 0.05       0.04545455 0.04318182 0.05\n",
      " 0.05113636 0.05227273 0.04886364 0.05454545 0.05795455 0.06590909\n",
      " 0.06136364 0.06590909 0.07159091 0.07727273 0.06590909 0.06590909\n",
      " 0.06136364 0.05681818 0.05454545 0.05454545 0.05454545 0.05454545\n",
      " 0.05454545 0.06022727 0.06253571 0.06463711 0.06699273 0.06934302\n",
      " 0.07162353 0.0738351  0.07599184 0.07810679 0.08018933 0.08224532\n",
      " 0.08427756 0.08628651 0.08827107 0.09022915 0.09215835 0.09405628\n",
      " 0.09592105 0.09775124 0.09954602 0.1013051  0.10302868 0.10471731\n",
      " 0.10637185 0.10799322 0.10958251 0.11114083]\n",
      "26 day output [[0.11266924]]\n",
      "27 day input [0.00454545 0.00340909 0.00454545 0.0125     0.0125     0.01477273\n",
      " 0.02045455 0.02159091 0.02613636 0.02613636 0.02613636 0.02386364\n",
      " 0.02727273 0.02613636 0.02613636 0.02159091 0.01818182 0.03409091\n",
      " 0.0375     0.02386364 0.02272727 0.03409091 0.03636364 0.02272727\n",
      " 0.02159091 0.01590909 0.00909091 0.01477273 0.01477273 0.00113636\n",
      " 0.01022727 0.02159091 0.03181818 0.02840909 0.02727273 0.03181818\n",
      " 0.04090909 0.0375     0.0375     0.04318182 0.04659091 0.04431818\n",
      " 0.04431818 0.04886364 0.04886364 0.04772727 0.05       0.04772727\n",
      " 0.04886364 0.05       0.04545455 0.04318182 0.05       0.05113636\n",
      " 0.05227273 0.04886364 0.05454545 0.05795455 0.06590909 0.06136364\n",
      " 0.06590909 0.07159091 0.07727273 0.06590909 0.06590909 0.06136364\n",
      " 0.05681818 0.05454545 0.05454545 0.05454545 0.05454545 0.05454545\n",
      " 0.06022727 0.06253571 0.06463711 0.06699273 0.06934302 0.07162353\n",
      " 0.0738351  0.07599184 0.07810679 0.08018933 0.08224532 0.08427756\n",
      " 0.08628651 0.08827107 0.09022915 0.09215835 0.09405628 0.09592105\n",
      " 0.09775124 0.09954602 0.1013051  0.10302868 0.10471731 0.10637185\n",
      " 0.10799322 0.10958251 0.11114083 0.11266924]\n"
     ]
    },
    {
     "name": "stdout",
     "output_type": "stream",
     "text": [
      "27 day output [[0.11416874]]\n",
      "28 day input [0.00340909 0.00454545 0.0125     0.0125     0.01477273 0.02045455\n",
      " 0.02159091 0.02613636 0.02613636 0.02613636 0.02386364 0.02727273\n",
      " 0.02613636 0.02613636 0.02159091 0.01818182 0.03409091 0.0375\n",
      " 0.02386364 0.02272727 0.03409091 0.03636364 0.02272727 0.02159091\n",
      " 0.01590909 0.00909091 0.01477273 0.01477273 0.00113636 0.01022727\n",
      " 0.02159091 0.03181818 0.02840909 0.02727273 0.03181818 0.04090909\n",
      " 0.0375     0.0375     0.04318182 0.04659091 0.04431818 0.04431818\n",
      " 0.04886364 0.04886364 0.04772727 0.05       0.04772727 0.04886364\n",
      " 0.05       0.04545455 0.04318182 0.05       0.05113636 0.05227273\n",
      " 0.04886364 0.05454545 0.05795455 0.06590909 0.06136364 0.06590909\n",
      " 0.07159091 0.07727273 0.06590909 0.06590909 0.06136364 0.05681818\n",
      " 0.05454545 0.05454545 0.05454545 0.05454545 0.05454545 0.06022727\n",
      " 0.06253571 0.06463711 0.06699273 0.06934302 0.07162353 0.0738351\n",
      " 0.07599184 0.07810679 0.08018933 0.08224532 0.08427756 0.08628651\n",
      " 0.08827107 0.09022915 0.09215835 0.09405628 0.09592105 0.09775124\n",
      " 0.09954602 0.1013051  0.10302868 0.10471731 0.10637185 0.10799322\n",
      " 0.10958251 0.11114083 0.11266924 0.11416874]\n",
      "28 day output [[0.11564032]]\n",
      "29 day input [0.00454545 0.0125     0.0125     0.01477273 0.02045455 0.02159091\n",
      " 0.02613636 0.02613636 0.02613636 0.02386364 0.02727273 0.02613636\n",
      " 0.02613636 0.02159091 0.01818182 0.03409091 0.0375     0.02386364\n",
      " 0.02272727 0.03409091 0.03636364 0.02272727 0.02159091 0.01590909\n",
      " 0.00909091 0.01477273 0.01477273 0.00113636 0.01022727 0.02159091\n",
      " 0.03181818 0.02840909 0.02727273 0.03181818 0.04090909 0.0375\n",
      " 0.0375     0.04318182 0.04659091 0.04431818 0.04431818 0.04886364\n",
      " 0.04886364 0.04772727 0.05       0.04772727 0.04886364 0.05\n",
      " 0.04545455 0.04318182 0.05       0.05113636 0.05227273 0.04886364\n",
      " 0.05454545 0.05795455 0.06590909 0.06136364 0.06590909 0.07159091\n",
      " 0.07727273 0.06590909 0.06590909 0.06136364 0.05681818 0.05454545\n",
      " 0.05454545 0.05454545 0.05454545 0.05454545 0.06022727 0.06253571\n",
      " 0.06463711 0.06699273 0.06934302 0.07162353 0.0738351  0.07599184\n",
      " 0.07810679 0.08018933 0.08224532 0.08427756 0.08628651 0.08827107\n",
      " 0.09022915 0.09215835 0.09405628 0.09592105 0.09775124 0.09954602\n",
      " 0.1013051  0.10302868 0.10471731 0.10637185 0.10799322 0.10958251\n",
      " 0.11114083 0.11266924 0.11416874 0.11564032]\n",
      "29 day output [[0.11708485]]\n",
      "[[0.06253571063280106], [0.06463710963726044], [0.06699272990226746], [0.06934301555156708], [0.0716235339641571], [0.0738351047039032], [0.07599183917045593], [0.07810679078102112], [0.08018933236598969], [0.08224532008171082], [0.08427755534648895], [0.0862865075469017], [0.08827107399702072], [0.09022914618253708], [0.09215834736824036], [0.09405627846717834], [0.09592105448246002], [0.09775123745203018], [0.09954601526260376], [0.10130510479211807], [0.10302868485450745], [0.10471731424331665], [0.10637184977531433], [0.1079932153224945], [0.10958250612020493], [0.11114083230495453], [0.11266923695802689], [0.11416874080896378], [0.1156403198838234], [0.11708485335111618]]\n"
     ]
    }
   ],
   "source": [
    "# demonstrate prediction for next 10 days\n",
    "from numpy import array\n",
    "\n",
    "lst_output=[]\n",
    "n_steps=100\n",
    "i=0\n",
    "while(i<30):\n",
    "    \n",
    "    if(len(temp_input)>100):\n",
    "        #print(temp_input)\n",
    "        x_input=np.array(temp_input[1:])\n",
    "        print(\"{} day input {}\".format(i,x_input))\n",
    "        x_input=x_input.reshape(1,-1)\n",
    "        x_input = x_input.reshape((1, n_steps, 1))\n",
    "        #print(x_input)\n",
    "        yhat = model.predict(x_input, verbose=0)\n",
    "        print(\"{} day output {}\".format(i,yhat))\n",
    "        temp_input.extend(yhat[0].tolist())\n",
    "        temp_input=temp_input[1:]\n",
    "        #print(temp_input)\n",
    "        lst_output.extend(yhat.tolist())\n",
    "        i=i+1\n",
    "    else:\n",
    "        x_input = x_input.reshape((1, n_steps,1))\n",
    "        yhat = model.predict(x_input, verbose=0)\n",
    "        print(yhat[0])\n",
    "        temp_input.extend(yhat[0].tolist())\n",
    "        print(len(temp_input))\n",
    "        lst_output.extend(yhat.tolist())\n",
    "        i=i+1\n",
    "    \n",
    "\n",
    "print(lst_output)"
   ]
  },
  {
   "cell_type": "code",
   "execution_count": 171,
   "id": "589b856d",
   "metadata": {},
   "outputs": [],
   "source": [
    "day_new=np.arange(1,101)\n",
    "day_pred=np.arange(101,131)"
   ]
  },
  {
   "cell_type": "code",
   "execution_count": 172,
   "id": "b465bcbc",
   "metadata": {},
   "outputs": [],
   "source": [
    "import matplotlib.pyplot as plt"
   ]
  },
  {
   "cell_type": "code",
   "execution_count": 173,
   "id": "91976bd1",
   "metadata": {},
   "outputs": [
    {
     "data": {
      "text/plain": [
       "2270"
      ]
     },
     "execution_count": 173,
     "metadata": {},
     "output_type": "execute_result"
    }
   ],
   "source": [
    "len(df1)"
   ]
  },
  {
   "cell_type": "code",
   "execution_count": 175,
   "id": "cd64841b",
   "metadata": {},
   "outputs": [
    {
     "data": {
      "text/plain": [
       "[<matplotlib.lines.Line2D at 0x1efab444100>]"
      ]
     },
     "execution_count": 175,
     "metadata": {},
     "output_type": "execute_result"
    },
    {
     "data": {
      "image/png": "[encoded data removed]",
      "text/plain": [
       "<Figure size 640x480 with 1 Axes>"
      ]
     },
     "metadata": {},
     "output_type": "display_data"
    }
   ],
   "source": [
    "plt.plot(day_new,scaler.inverse_transform(df1[2170:]))\n",
    "plt.plot(day_pred,scaler.inverse_transform(lst_output))"
   ]
  },
  {
   "cell_type": "code",
   "execution_count": 176,
   "id": "1b227c51",
   "metadata": {},
   "outputs": [
    {
     "data": {
      "text/plain": [
       "[<matplotlib.lines.Line2D at 0x1efc3ba50d0>]"
      ]
     },
     "execution_count": 176,
     "metadata": {},
     "output_type": "execute_result"
    },
    {
     "data": {
      "image/png": "[encoded data removed]",
      "text/plain": [
       "<Figure size 640x480 with 1 Axes>"
      ]
     },
     "metadata": {},
     "output_type": "display_data"
    }
   ],
   "source": [
    "df3=df1.tolist()\n",
    "df3.extend(lst_output)\n",
    "plt.plot(df3[1000:])"
   ]
  },
  {
   "cell_type": "code",
   "execution_count": 177,
   "id": "c16a6682",
   "metadata": {},
   "outputs": [],
   "source": [
    "df3=scaler.inverse_transform(df3).tolist()"
   ]
  },
  {
   "cell_type": "code",
   "execution_count": 178,
   "id": "62751d34",
   "metadata": {},
   "outputs": [
    {
     "data": {
      "text/plain": [
       "[<matplotlib.lines.Line2D at 0x1efc3bf3850>]"
      ]
     },
     "execution_count": 178,
     "metadata": {},
     "output_type": "execute_result"
    },
    {
     "data": {
      "image/png": "[encoded data removed]",
      "text/plain": [
       "<Figure size 640x480 with 1 Axes>"
      ]
     },
     "metadata": {},
     "output_type": "display_data"
    }
   ],
   "source": [
    "plt.plot(df3)"
   ]
  },
  {
   "cell_type": "code",
   "execution_count": 179,
   "id": "c210e488",
   "metadata": {},
   "outputs": [
    {
     "data": {
      "image/png": "[encoded data removed]",
      "text/plain": [
       "<Figure size 640x480 with 1 Axes>"
      ]
     },
     "metadata": {},
     "output_type": "display_data"
    }
   ],
   "source": [
    "#to show the loss curve\n",
    "plt.plot(history.history['loss'])\n",
    "\n",
    "plt.title('model loss')\n",
    "plt.ylabel('loss')\n",
    "plt.xlabel('epoch')\n",
    "plt.legend(['train'], loc='upper left')\n",
    "plt.show()"
   ]
  },
  {
   "cell_type": "code",
   "execution_count": null,
   "id": "36a341e1",
   "metadata": {},
   "outputs": [],
   "source": []
  }
 ],
 "metadata": {
  "kernelspec": {
   "display_name": "Python 3 (ipykernel)",
   "language": "python",
   "name": "python3"
  },
  "language_info": {
   "codemirror_mode": {
    "name": "ipython",
    "version": 3
   },
   "file_extension": ".py",
   "mimetype": "text/x-python",
   "name": "python",
   "nbconvert_exporter": "python",
   "pygments_lexer": "ipython3",
   "version": "3.9.13"
  }
 },
 "nbformat": 4,
 "nbformat_minor": 5
}
