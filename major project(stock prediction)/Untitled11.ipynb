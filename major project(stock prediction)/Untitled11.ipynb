{
 "cells": [
  {
   "cell_type": "code",
   "execution_count": 13,
   "id": "dc9d4389",
   "metadata": {},
   "outputs": [],
   "source": [
    "import numpy as np\n",
    "from tensorflow.keras.models import Sequential\n",
    "from tensorflow.keras.layers import LSTM\n",
    "from tensorflow.keras.layers import Dense, Dropout\n",
    "from sklearn.preprocessing import MinMaxScaler\n",
    "import pandas as pd\n",
    "from matplotlib import pyplot as plt\n",
    "from sklearn.preprocessing import StandardScaler\n",
    "import seaborn as sns"
   ]
  },
  {
   "cell_type": "code",
   "execution_count": 2,
   "id": "c76a0b25",
   "metadata": {},
   "outputs": [
    {
     "name": "stdout",
     "output_type": "stream",
     "text": [
      "  Symbol       Date    Open   Close  Volume    High     Low\n",
      "0    EBL  2/28/2013  1591.0  1599.0    2037  1599.0  1580.0\n",
      "1    EBL   3/3/2013  1599.0  1590.0    6263  1600.0  1580.0\n",
      "2    EBL   3/4/2013  1590.0  1591.0    7242  1605.0  1590.0\n",
      "3    EBL   3/5/2013  1591.0  1590.0    2952  1601.0  1560.0\n",
      "4    EBL   3/6/2013  1590.0  1600.0    4885  1609.0  1571.0\n"
     ]
    }
   ],
   "source": [
    "#Read the csv file\n",
    "df = pd.read_csv('.csv files/nepse_EBL.csv')\n",
    "print(df.head()) #7 columns, including the Date. "
   ]
  },
  {
   "cell_type": "code",
   "execution_count": 3,
   "id": "8187b785",
   "metadata": {},
   "outputs": [
    {
     "name": "stdout",
     "output_type": "stream",
     "text": [
      "2265   2023-02-02\n",
      "2266   2023-02-05\n",
      "2267   2023-02-06\n",
      "2268   2023-02-07\n",
      "2269   2023-02-08\n",
      "2270   2023-02-09\n",
      "2271   2023-02-12\n",
      "2272   2023-02-14\n",
      "2273   2023-02-15\n",
      "2274   2023-02-16\n",
      "2275   2023-02-20\n",
      "2276   2023-02-22\n",
      "2277   2023-02-23\n",
      "2278   2023-02-26\n",
      "2279   2023-02-27\n",
      "Name: Date, dtype: datetime64[ns]\n"
     ]
    }
   ],
   "source": [
    "#Separate dates for future plotting\n",
    "train_dates = pd.to_datetime(df['Date'])\n",
    "print(train_dates.tail(15)) #Check last few dates. "
   ]
  },
  {
   "cell_type": "code",
   "execution_count": 4,
   "id": "caad3ab0",
   "metadata": {},
   "outputs": [],
   "source": [
    "#Variables for training\n",
    "cols = list(df)[2:5]\n"
   ]
  },
  {
   "cell_type": "code",
   "execution_count": 5,
   "id": "b984f55f",
   "metadata": {},
   "outputs": [
    {
     "name": "stdout",
     "output_type": "stream",
     "text": [
      "['Open', 'Close', 'Volume']\n"
     ]
    }
   ],
   "source": [
    "#Date and change columns are not used in training. \n",
    "print(cols) #['Open', 'Close', 'Volume']"
   ]
  },
  {
   "cell_type": "code",
   "execution_count": 6,
   "id": "73261024",
   "metadata": {},
   "outputs": [],
   "source": [
    "#New dataframe with only training data - 3 columns\n",
    "df_for_training = df[cols].astype(float)"
   ]
  },
  {
   "cell_type": "code",
   "execution_count": 8,
   "id": "4f20fcdd",
   "metadata": {},
   "outputs": [
    {
     "data": {
      "text/plain": [
       "<Axes: >"
      ]
     },
     "execution_count": 8,
     "metadata": {},
     "output_type": "execute_result"
    },
    {
     "data": {
      "image/png": "[encoded data removed]",
      "text/plain": [
       "<Figure size 640x480 with 1 Axes>"
      ]
     },
     "metadata": {},
     "output_type": "display_data"
    }
   ],
   "source": [
    "df_for_plot=df_for_training.tail(5000)\n",
    "df_for_plot.plot.line()"
   ]
  },
  {
   "cell_type": "code",
   "execution_count": 9,
   "id": "92489544",
   "metadata": {},
   "outputs": [],
   "source": [
    "#LSTM uses sigmoid and tanh that are sensitive to magnitude so values need to be normalized\n",
    "# normalize the dataset\n",
    "scaler = StandardScaler()\n",
    "scaler = scaler.fit(df_for_training)\n",
    "df_for_training_scaled = scaler.transform(df_for_training)"
   ]
  },
  {
   "cell_type": "code",
   "execution_count": 10,
   "id": "07a77a8b",
   "metadata": {},
   "outputs": [],
   "source": [
    "#As required for LSTM networks, we require to reshape an input data into n_samples x timesteps x n_features. \n",
    "#In this example, the n_features is 3. We will make timesteps = 14 (past days data used for training). \n",
    "\n",
    "#Empty lists to be populated using formatted training data\n",
    "trainX = []\n",
    "trainY = []\n",
    "\n",
    "n_future = 1   # Number of days we want to look into the future based on the past days.\n",
    "n_past = 14  # Number of past days we want to use to predict the future.\n"
   ]
  },
  {
   "cell_type": "code",
   "execution_count": 11,
   "id": "9b88855f",
   "metadata": {},
   "outputs": [],
   "source": [
    "# Split data using an 80:20 split\n",
    "final_dataset = df_for_training.values\n",
    "train_data = final_dataset[0:203, :]\n",
    "valid_data = final_dataset[203:, :]"
   ]
  },
  {
   "cell_type": "code",
   "execution_count": 14,
   "id": "6febd2ad",
   "metadata": {},
   "outputs": [],
   "source": [
    "# Normalize the data\n",
    "scaler = MinMaxScaler(feature_range=(0, 1))\n",
    "scaled_data = scaler.fit_transform(final_dataset)"
   ]
  },
  {
   "cell_type": "code",
   "execution_count": 15,
   "id": "99855684",
   "metadata": {},
   "outputs": [],
   "source": [
    "x_train = []\n",
    "y_train = []\n",
    "for i in range(60, len(train_data)):\n",
    "    x_train.append(scaled_data[i-60:i, 0])\n",
    "    y_train.append(scaled_data[i, 0])"
   ]
  },
  {
   "cell_type": "code",
   "execution_count": 16,
   "id": "96fa94a1",
   "metadata": {},
   "outputs": [
    {
     "data": {
      "text/plain": [
       "array([[0.33942029, 0.34173913, 0.33913043, ..., 0.32753623, 0.32898551,\n",
       "        0.32608696],\n",
       "       [0.34173913, 0.33913043, 0.33942029, ..., 0.32898551, 0.32608696,\n",
       "        0.32753623],\n",
       "       [0.33913043, 0.33942029, 0.33913043, ..., 0.32608696, 0.32753623,\n",
       "        0.32637681],\n",
       "       ...,\n",
       "       [0.30405797, 0.30289855, 0.29855072, ..., 0.5173913 , 0.51362319,\n",
       "        0.52028986],\n",
       "       [0.30289855, 0.29855072, 0.29536232, ..., 0.51362319, 0.52028986,\n",
       "        0.52231884],\n",
       "       [0.29855072, 0.29536232, 0.30144928, ..., 0.52028986, 0.52231884,\n",
       "        0.53188406]])"
      ]
     },
     "execution_count": 16,
     "metadata": {},
     "output_type": "execute_result"
    }
   ],
   "source": [
    "x_train = np.array(x_train)\n",
    "y_train = np.array(y_train)\n",
    "x_train"
   ]
  },
  {
   "cell_type": "code",
   "execution_count": 17,
   "id": "78a523cb",
   "metadata": {},
   "outputs": [
    {
     "data": {
      "text/plain": [
       "(143, 60, 1)"
      ]
     },
     "execution_count": 17,
     "metadata": {},
     "output_type": "execute_result"
    }
   ],
   "source": [
    "x_train = np.reshape(x_train, (x_train.shape[0], x_train.shape[1], 1))\n",
    "x_train.shape"
   ]
  },
  {
   "cell_type": "code",
   "execution_count": 18,
   "id": "f8381c3a",
   "metadata": {},
   "outputs": [
    {
     "name": "stdout",
     "output_type": "stream",
     "text": [
      "Model: \"sequential\"\n",
      "_________________________________________________________________\n",
      " Layer (type)                Output Shape              Param #   \n",
      "=================================================================\n",
      " lstm (LSTM)                 (None, 60, 50)            10400     \n",
      "                                                                 \n",
      " dropout (Dropout)           (None, 60, 50)            0         \n",
      "                                                                 \n",
      " lstm_1 (LSTM)               (None, 60, 50)            20200     \n",
      "                                                                 \n",
      " dropout_1 (Dropout)         (None, 60, 50)            0         \n",
      "                                                                 \n",
      " lstm_2 (LSTM)               (None, 60, 50)            20200     \n",
      "                                                                 \n",
      " dropout_2 (Dropout)         (None, 60, 50)            0         \n",
      "                                                                 \n",
      " lstm_3 (LSTM)               (None, 50)                20200     \n",
      "                                                                 \n",
      " dropout_3 (Dropout)         (None, 50)                0         \n",
      "                                                                 \n",
      " dense (Dense)               (None, 1)                 51        \n",
      "                                                                 \n",
      "=================================================================\n",
      "Total params: 71,051\n",
      "Trainable params: 71,051\n",
      "Non-trainable params: 0\n",
      "_________________________________________________________________\n"
     ]
    }
   ],
   "source": [
    "# Create lstm neural network\n",
    "lstm_model = Sequential()\n",
    "lstm_model.add(LSTM(units=50, return_sequences=True, input_shape=(x_train.shape[1], 1)))\n",
    "lstm_model.add(Dropout(0.2))\n",
    "\n",
    "lstm_model.add(LSTM(units=50, return_sequences=True))\n",
    "lstm_model.add(Dropout(0.2))\n",
    "\n",
    "lstm_model.add(LSTM(units=50, return_sequences=True))\n",
    "lstm_model.add(Dropout(0.2))\n",
    "\n",
    "lstm_model.add(LSTM(units=50))\n",
    "lstm_model.add(Dropout(0.2))\n",
    "\n",
    "lstm_model.add(Dense(units=1))\n",
    "\n",
    "lstm_model.summary()"
   ]
  },
  {
   "cell_type": "code",
   "execution_count": 20,
   "id": "63754fb4",
   "metadata": {},
   "outputs": [
    {
     "name": "stdout",
     "output_type": "stream",
     "text": [
      "Epoch 1/100\n",
      "2/2 [==============================] - 13s 3s/step - loss: 0.0511 - val_loss: 0.0276\n",
      "Epoch 2/100\n",
      "2/2 [==============================] - 0s 229ms/step - loss: 0.0144 - val_loss: 0.0016\n",
      "Epoch 3/100\n",
      "2/2 [==============================] - 0s 219ms/step - loss: 0.0157 - val_loss: 0.0164\n",
      "Epoch 4/100\n",
      "2/2 [==============================] - 0s 226ms/step - loss: 0.0059 - val_loss: 0.0416\n",
      "Epoch 5/100\n",
      "2/2 [==============================] - 0s 237ms/step - loss: 0.0115 - val_loss: 0.0437\n",
      "Epoch 6/100\n",
      "2/2 [==============================] - 0s 233ms/step - loss: 0.0100 - val_loss: 0.0300\n",
      "Epoch 7/100\n",
      "2/2 [==============================] - 0s 227ms/step - loss: 0.0056 - val_loss: 0.0128\n",
      "Epoch 8/100\n",
      "2/2 [==============================] - 0s 218ms/step - loss: 0.0046 - val_loss: 0.0041\n",
      "Epoch 9/100\n",
      "2/2 [==============================] - 0s 219ms/step - loss: 0.0070 - val_loss: 0.0033\n",
      "Epoch 10/100\n",
      "2/2 [==============================] - 0s 224ms/step - loss: 0.0063 - val_loss: 0.0086\n",
      "Epoch 11/100\n",
      "2/2 [==============================] - 0s 214ms/step - loss: 0.0038 - val_loss: 0.0180\n",
      "Epoch 12/100\n",
      "2/2 [==============================] - 0s 210ms/step - loss: 0.0039 - val_loss: 0.0242\n",
      "Epoch 13/100\n",
      "2/2 [==============================] - 0s 212ms/step - loss: 0.0048 - val_loss: 0.0239\n",
      "Epoch 14/100\n",
      "2/2 [==============================] - 0s 227ms/step - loss: 0.0043 - val_loss: 0.0189\n",
      "Epoch 15/100\n",
      "2/2 [==============================] - 0s 220ms/step - loss: 0.0045 - val_loss: 0.0131\n",
      "Epoch 16/100\n",
      "2/2 [==============================] - 0s 226ms/step - loss: 0.0039 - val_loss: 0.0097\n",
      "Epoch 17/100\n",
      "2/2 [==============================] - 0s 227ms/step - loss: 0.0033 - val_loss: 0.0088\n",
      "Epoch 18/100\n",
      "2/2 [==============================] - 0s 219ms/step - loss: 0.0039 - val_loss: 0.0102\n",
      "Epoch 19/100\n",
      "2/2 [==============================] - 0s 220ms/step - loss: 0.0037 - val_loss: 0.0142\n",
      "Epoch 20/100\n",
      "2/2 [==============================] - 0s 237ms/step - loss: 0.0026 - val_loss: 0.0182\n",
      "Epoch 21/100\n",
      "2/2 [==============================] - 0s 221ms/step - loss: 0.0036 - val_loss: 0.0185\n",
      "Epoch 22/100\n",
      "2/2 [==============================] - 0s 243ms/step - loss: 0.0033 - val_loss: 0.0156\n",
      "Epoch 23/100\n",
      "2/2 [==============================] - 0s 231ms/step - loss: 0.0033 - val_loss: 0.0129\n",
      "Epoch 24/100\n",
      "2/2 [==============================] - 0s 236ms/step - loss: 0.0037 - val_loss: 0.0123\n",
      "Epoch 25/100\n",
      "2/2 [==============================] - 0s 216ms/step - loss: 0.0029 - val_loss: 0.0136\n",
      "Epoch 26/100\n",
      "2/2 [==============================] - 0s 212ms/step - loss: 0.0034 - val_loss: 0.0147\n",
      "Epoch 27/100\n",
      "2/2 [==============================] - 0s 205ms/step - loss: 0.0031 - val_loss: 0.0143\n",
      "Epoch 28/100\n",
      "2/2 [==============================] - 0s 213ms/step - loss: 0.0034 - val_loss: 0.0133\n",
      "Epoch 29/100\n",
      "2/2 [==============================] - 0s 226ms/step - loss: 0.0032 - val_loss: 0.0117\n",
      "Epoch 30/100\n",
      "2/2 [==============================] - 0s 242ms/step - loss: 0.0026 - val_loss: 0.0117\n",
      "Epoch 31/100\n",
      "2/2 [==============================] - 0s 220ms/step - loss: 0.0032 - val_loss: 0.0134\n",
      "Epoch 32/100\n",
      "2/2 [==============================] - 0s 231ms/step - loss: 0.0030 - val_loss: 0.0140\n",
      "Epoch 33/100\n",
      "2/2 [==============================] - 0s 213ms/step - loss: 0.0029 - val_loss: 0.0143\n",
      "Epoch 34/100\n",
      "2/2 [==============================] - 0s 218ms/step - loss: 0.0026 - val_loss: 0.0139\n",
      "Epoch 35/100\n",
      "2/2 [==============================] - 0s 219ms/step - loss: 0.0031 - val_loss: 0.0133\n",
      "Epoch 36/100\n",
      "2/2 [==============================] - 0s 227ms/step - loss: 0.0026 - val_loss: 0.0129\n",
      "Epoch 37/100\n",
      "2/2 [==============================] - 0s 230ms/step - loss: 0.0027 - val_loss: 0.0118\n",
      "Epoch 38/100\n",
      "2/2 [==============================] - 0s 218ms/step - loss: 0.0030 - val_loss: 0.0123\n",
      "Epoch 39/100\n",
      "2/2 [==============================] - 0s 228ms/step - loss: 0.0027 - val_loss: 0.0126\n",
      "Epoch 40/100\n",
      "2/2 [==============================] - 0s 221ms/step - loss: 0.0030 - val_loss: 0.0142\n",
      "Epoch 41/100\n",
      "2/2 [==============================] - 0s 219ms/step - loss: 0.0024 - val_loss: 0.0144\n",
      "Epoch 42/100\n",
      "2/2 [==============================] - 0s 228ms/step - loss: 0.0029 - val_loss: 0.0141\n",
      "Epoch 43/100\n",
      "2/2 [==============================] - 0s 230ms/step - loss: 0.0021 - val_loss: 0.0124\n",
      "Epoch 44/100\n",
      "2/2 [==============================] - 0s 219ms/step - loss: 0.0028 - val_loss: 0.0122\n",
      "Epoch 45/100\n",
      "2/2 [==============================] - 0s 216ms/step - loss: 0.0030 - val_loss: 0.0133\n",
      "Epoch 46/100\n",
      "2/2 [==============================] - 0s 219ms/step - loss: 0.0023 - val_loss: 0.0127\n",
      "Epoch 47/100\n",
      "2/2 [==============================] - 0s 219ms/step - loss: 0.0027 - val_loss: 0.0117\n",
      "Epoch 48/100\n",
      "2/2 [==============================] - 0s 224ms/step - loss: 0.0027 - val_loss: 0.0118\n",
      "Epoch 49/100\n",
      "2/2 [==============================] - 0s 234ms/step - loss: 0.0028 - val_loss: 0.0104\n",
      "Epoch 50/100\n",
      "2/2 [==============================] - 0s 234ms/step - loss: 0.0034 - val_loss: 0.0114\n",
      "Epoch 51/100\n",
      "2/2 [==============================] - 0s 234ms/step - loss: 0.0030 - val_loss: 0.0134\n",
      "Epoch 52/100\n",
      "2/2 [==============================] - 0s 234ms/step - loss: 0.0023 - val_loss: 0.0142\n",
      "Epoch 53/100\n",
      "2/2 [==============================] - 0s 234ms/step - loss: 0.0026 - val_loss: 0.0128\n",
      "Epoch 54/100\n",
      "2/2 [==============================] - 0s 234ms/step - loss: 0.0024 - val_loss: 0.0114\n",
      "Epoch 55/100\n",
      "2/2 [==============================] - 0s 219ms/step - loss: 0.0023 - val_loss: 0.0104\n",
      "Epoch 56/100\n",
      "2/2 [==============================] - 0s 219ms/step - loss: 0.0023 - val_loss: 0.0104\n",
      "Epoch 57/100\n",
      "2/2 [==============================] - 0s 234ms/step - loss: 0.0024 - val_loss: 0.0117\n",
      "Epoch 58/100\n",
      "2/2 [==============================] - 0s 234ms/step - loss: 0.0025 - val_loss: 0.0133\n",
      "Epoch 59/100\n",
      "2/2 [==============================] - 0s 219ms/step - loss: 0.0023 - val_loss: 0.0114\n",
      "Epoch 60/100\n",
      "2/2 [==============================] - 0s 234ms/step - loss: 0.0021 - val_loss: 0.0088\n",
      "Epoch 61/100\n",
      "2/2 [==============================] - 0s 234ms/step - loss: 0.0023 - val_loss: 0.0102\n",
      "Epoch 62/100\n",
      "2/2 [==============================] - 0s 234ms/step - loss: 0.0027 - val_loss: 0.0117\n",
      "Epoch 63/100\n",
      "2/2 [==============================] - 0s 234ms/step - loss: 0.0027 - val_loss: 0.0114\n",
      "Epoch 64/100\n",
      "2/2 [==============================] - 0s 234ms/step - loss: 0.0025 - val_loss: 0.0122\n",
      "Epoch 65/100\n",
      "2/2 [==============================] - 0s 234ms/step - loss: 0.0026 - val_loss: 0.0116\n",
      "Epoch 66/100\n",
      "2/2 [==============================] - 0s 234ms/step - loss: 0.0028 - val_loss: 0.0104\n",
      "Epoch 67/100\n",
      "2/2 [==============================] - 0s 219ms/step - loss: 0.0026 - val_loss: 0.0097\n",
      "Epoch 68/100\n",
      "2/2 [==============================] - 0s 234ms/step - loss: 0.0021 - val_loss: 0.0097\n",
      "Epoch 69/100\n",
      "2/2 [==============================] - 0s 219ms/step - loss: 0.0023 - val_loss: 0.0115\n",
      "Epoch 70/100\n",
      "2/2 [==============================] - 0s 219ms/step - loss: 0.0026 - val_loss: 0.0119\n",
      "Epoch 71/100\n",
      "2/2 [==============================] - 0s 234ms/step - loss: 0.0020 - val_loss: 0.0107\n",
      "Epoch 72/100\n",
      "2/2 [==============================] - 0s 234ms/step - loss: 0.0026 - val_loss: 0.0096\n",
      "Epoch 73/100\n",
      "2/2 [==============================] - 0s 234ms/step - loss: 0.0027 - val_loss: 0.0131\n",
      "Epoch 74/100\n",
      "2/2 [==============================] - 0s 208ms/step - loss: 0.0027 - val_loss: 0.0123\n",
      "Epoch 75/100\n",
      "2/2 [==============================] - 0s 230ms/step - loss: 0.0022 - val_loss: 0.0087\n",
      "Epoch 76/100\n",
      "2/2 [==============================] - 0s 204ms/step - loss: 0.0020 - val_loss: 0.0093\n",
      "Epoch 77/100\n",
      "2/2 [==============================] - 0s 214ms/step - loss: 0.0022 - val_loss: 0.0097\n",
      "Epoch 78/100\n",
      "2/2 [==============================] - 0s 226ms/step - loss: 0.0030 - val_loss: 0.0111\n",
      "Epoch 79/100\n",
      "2/2 [==============================] - 0s 228ms/step - loss: 0.0023 - val_loss: 0.0101\n",
      "Epoch 80/100\n",
      "2/2 [==============================] - 0s 230ms/step - loss: 0.0022 - val_loss: 0.0091\n",
      "Epoch 81/100\n",
      "2/2 [==============================] - 0s 214ms/step - loss: 0.0023 - val_loss: 0.0080\n",
      "Epoch 82/100\n",
      "2/2 [==============================] - 0s 230ms/step - loss: 0.0024 - val_loss: 0.0105\n",
      "Epoch 83/100\n"
     ]
    },
    {
     "name": "stdout",
     "output_type": "stream",
     "text": [
      "2/2 [==============================] - 0s 222ms/step - loss: 0.0017 - val_loss: 0.0097\n",
      "Epoch 84/100\n",
      "2/2 [==============================] - 0s 230ms/step - loss: 0.0021 - val_loss: 0.0080\n",
      "Epoch 85/100\n",
      "2/2 [==============================] - 0s 227ms/step - loss: 0.0023 - val_loss: 0.0087\n",
      "Epoch 86/100\n",
      "2/2 [==============================] - 0s 215ms/step - loss: 0.0021 - val_loss: 0.0081\n",
      "Epoch 87/100\n",
      "2/2 [==============================] - 0s 224ms/step - loss: 0.0021 - val_loss: 0.0080\n",
      "Epoch 88/100\n",
      "2/2 [==============================] - 0s 228ms/step - loss: 0.0021 - val_loss: 0.0066\n",
      "Epoch 89/100\n",
      "2/2 [==============================] - 0s 230ms/step - loss: 0.0021 - val_loss: 0.0076\n",
      "Epoch 90/100\n",
      "2/2 [==============================] - 0s 228ms/step - loss: 0.0024 - val_loss: 0.0110\n",
      "Epoch 91/100\n",
      "2/2 [==============================] - 0s 229ms/step - loss: 0.0023 - val_loss: 0.0057\n",
      "Epoch 92/100\n",
      "2/2 [==============================] - 0s 226ms/step - loss: 0.0027 - val_loss: 0.0070\n",
      "Epoch 93/100\n",
      "2/2 [==============================] - 0s 226ms/step - loss: 0.0028 - val_loss: 0.0118\n",
      "Epoch 94/100\n",
      "2/2 [==============================] - 0s 229ms/step - loss: 0.0021 - val_loss: 0.0056\n",
      "Epoch 95/100\n",
      "2/2 [==============================] - 0s 229ms/step - loss: 0.0027 - val_loss: 0.0050\n",
      "Epoch 96/100\n",
      "2/2 [==============================] - 0s 230ms/step - loss: 0.0020 - val_loss: 0.0108\n",
      "Epoch 97/100\n",
      "2/2 [==============================] - 0s 229ms/step - loss: 0.0023 - val_loss: 0.0072\n",
      "Epoch 98/100\n",
      "2/2 [==============================] - 0s 229ms/step - loss: 0.0018 - val_loss: 0.0049\n",
      "Epoch 99/100\n",
      "2/2 [==============================] - 0s 229ms/step - loss: 0.0022 - val_loss: 0.0069\n",
      "Epoch 100/100\n",
      "2/2 [==============================] - 0s 228ms/step - loss: 0.0019 - val_loss: 0.0081\n"
     ]
    }
   ],
   "source": [
    "# Train the model\n",
    "lstm_model.compile(optimizer=\"adam\", loss=\"mean_squared_error\")\n",
    "history=lstm_model.fit(x_train, y_train,epochs=100, batch_size=64, validation_split=0.1, verbose=1)"
   ]
  },
  {
   "cell_type": "code",
   "execution_count": 23,
   "id": "d3ed59e0",
   "metadata": {},
   "outputs": [],
   "source": [
    "inputs_data = df_for_training[len(df_for_training)-len(valid_data)-60:].values\n",
    "# inputs_data = inputs_data.reshape(-1, 1)\n",
    "inputs_data = scaler.transform(inputs_data)"
   ]
  },
  {
   "cell_type": "code",
   "execution_count": 24,
   "id": "8eb4fb5b",
   "metadata": {},
   "outputs": [],
   "source": [
    "x_test = []\n",
    "for i in range(60, inputs_data.shape[0]):\n",
    "    x_test.append(inputs_data[i-60:i])\n",
    "\n",
    "x_test = np.array(x_test)"
   ]
  },
  {
   "cell_type": "code",
   "execution_count": 25,
   "id": "f1f87b27",
   "metadata": {},
   "outputs": [
    {
     "ename": "ValueError",
     "evalue": "cannot reshape array of size 373860 into shape (2077,60,2)",
     "output_type": "error",
     "traceback": [
      "\u001b[1;31m---------------------------------------------------------------------------\u001b[0m",
      "\u001b[1;31mValueError\u001b[0m                                Traceback (most recent call last)",
      "Cell \u001b[1;32mIn[25], line 2\u001b[0m\n\u001b[0;32m      1\u001b[0m \u001b[38;5;66;03m# Using the model to predict x_test\u001b[39;00m\n\u001b[1;32m----> 2\u001b[0m x_test \u001b[38;5;241m=\u001b[39m \u001b[43mnp\u001b[49m\u001b[38;5;241;43m.\u001b[39;49m\u001b[43mreshape\u001b[49m\u001b[43m(\u001b[49m\u001b[43mx_test\u001b[49m\u001b[43m,\u001b[49m\u001b[43m \u001b[49m\u001b[43m(\u001b[49m\u001b[43mx_test\u001b[49m\u001b[38;5;241;43m.\u001b[39;49m\u001b[43mshape\u001b[49m\u001b[43m[\u001b[49m\u001b[38;5;241;43m0\u001b[39;49m\u001b[43m]\u001b[49m\u001b[43m,\u001b[49m\u001b[43m \u001b[49m\u001b[43mx_test\u001b[49m\u001b[38;5;241;43m.\u001b[39;49m\u001b[43mshape\u001b[49m\u001b[43m[\u001b[49m\u001b[38;5;241;43m1\u001b[39;49m\u001b[43m]\u001b[49m\u001b[43m,\u001b[49m\u001b[43m \u001b[49m\u001b[38;5;241;43m2\u001b[39;49m\u001b[43m)\u001b[49m\u001b[43m)\u001b[49m\n\u001b[0;32m      3\u001b[0m predicted_closing_price \u001b[38;5;241m=\u001b[39m lstm_model\u001b[38;5;241m.\u001b[39mpredict(x_test)\n\u001b[0;32m      4\u001b[0m \u001b[38;5;28mprint\u001b[39m(predicted_closing_price)\n",
      "File \u001b[1;32m<__array_function__ internals>:180\u001b[0m, in \u001b[0;36mreshape\u001b[1;34m(*args, **kwargs)\u001b[0m\n",
      "File \u001b[1;32m~\\.conda\\envs\\tensorflow_env\\lib\\site-packages\\numpy\\core\\fromnumeric.py:298\u001b[0m, in \u001b[0;36mreshape\u001b[1;34m(a, newshape, order)\u001b[0m\n\u001b[0;32m    198\u001b[0m \u001b[38;5;129m@array_function_dispatch\u001b[39m(_reshape_dispatcher)\n\u001b[0;32m    199\u001b[0m \u001b[38;5;28;01mdef\u001b[39;00m \u001b[38;5;21mreshape\u001b[39m(a, newshape, order\u001b[38;5;241m=\u001b[39m\u001b[38;5;124m'\u001b[39m\u001b[38;5;124mC\u001b[39m\u001b[38;5;124m'\u001b[39m):\n\u001b[0;32m    200\u001b[0m     \u001b[38;5;124;03m\"\"\"\u001b[39;00m\n\u001b[0;32m    201\u001b[0m \u001b[38;5;124;03m    Gives a new shape to an array without changing its data.\u001b[39;00m\n\u001b[0;32m    202\u001b[0m \n\u001b[1;32m   (...)\u001b[0m\n\u001b[0;32m    296\u001b[0m \u001b[38;5;124;03m           [5, 6]])\u001b[39;00m\n\u001b[0;32m    297\u001b[0m \u001b[38;5;124;03m    \"\"\"\u001b[39;00m\n\u001b[1;32m--> 298\u001b[0m     \u001b[38;5;28;01mreturn\u001b[39;00m \u001b[43m_wrapfunc\u001b[49m\u001b[43m(\u001b[49m\u001b[43ma\u001b[49m\u001b[43m,\u001b[49m\u001b[43m \u001b[49m\u001b[38;5;124;43m'\u001b[39;49m\u001b[38;5;124;43mreshape\u001b[39;49m\u001b[38;5;124;43m'\u001b[39;49m\u001b[43m,\u001b[49m\u001b[43m \u001b[49m\u001b[43mnewshape\u001b[49m\u001b[43m,\u001b[49m\u001b[43m \u001b[49m\u001b[43morder\u001b[49m\u001b[38;5;241;43m=\u001b[39;49m\u001b[43morder\u001b[49m\u001b[43m)\u001b[49m\n",
      "File \u001b[1;32m~\\.conda\\envs\\tensorflow_env\\lib\\site-packages\\numpy\\core\\fromnumeric.py:57\u001b[0m, in \u001b[0;36m_wrapfunc\u001b[1;34m(obj, method, *args, **kwds)\u001b[0m\n\u001b[0;32m     54\u001b[0m     \u001b[38;5;28;01mreturn\u001b[39;00m _wrapit(obj, method, \u001b[38;5;241m*\u001b[39margs, \u001b[38;5;241m*\u001b[39m\u001b[38;5;241m*\u001b[39mkwds)\n\u001b[0;32m     56\u001b[0m \u001b[38;5;28;01mtry\u001b[39;00m:\n\u001b[1;32m---> 57\u001b[0m     \u001b[38;5;28;01mreturn\u001b[39;00m bound(\u001b[38;5;241m*\u001b[39margs, \u001b[38;5;241m*\u001b[39m\u001b[38;5;241m*\u001b[39mkwds)\n\u001b[0;32m     58\u001b[0m \u001b[38;5;28;01mexcept\u001b[39;00m \u001b[38;5;167;01mTypeError\u001b[39;00m:\n\u001b[0;32m     59\u001b[0m     \u001b[38;5;66;03m# A TypeError occurs if the object does have such a method in its\u001b[39;00m\n\u001b[0;32m     60\u001b[0m     \u001b[38;5;66;03m# class, but its signature is not identical to that of NumPy's. This\u001b[39;00m\n\u001b[1;32m   (...)\u001b[0m\n\u001b[0;32m     64\u001b[0m     \u001b[38;5;66;03m# Call _wrapit from within the except clause to ensure a potential\u001b[39;00m\n\u001b[0;32m     65\u001b[0m     \u001b[38;5;66;03m# exception has a traceback chain.\u001b[39;00m\n\u001b[0;32m     66\u001b[0m     \u001b[38;5;28;01mreturn\u001b[39;00m _wrapit(obj, method, \u001b[38;5;241m*\u001b[39margs, \u001b[38;5;241m*\u001b[39m\u001b[38;5;241m*\u001b[39mkwds)\n",
      "\u001b[1;31mValueError\u001b[0m: cannot reshape array of size 373860 into shape (2077,60,2)"
     ]
    }
   ],
   "source": [
    "# Using the model to predict x_test\n",
    "x_test = np.reshape(x_test, (x_test.shape[0], x_test.shape[1], 2))\n",
    "predicted_closing_price = lstm_model.predict(x_test)\n",
    "print(predicted_closing_price)\n",
    "predicted_closing_price = scaler.inverse_transform(predicted_closing_price)"
   ]
  },
  {
   "cell_type": "code",
   "execution_count": null,
   "id": "aa0e5b00",
   "metadata": {},
   "outputs": [],
   "source": []
  }
 ],
 "metadata": {
  "kernelspec": {
   "display_name": "Python 3 (ipykernel)",
   "language": "python",
   "name": "python3"
  },
  "language_info": {
   "codemirror_mode": {
    "name": "ipython",
    "version": 3
   },
   "file_extension": ".py",
   "mimetype": "text/x-python",
   "name": "python",
   "nbconvert_exporter": "python",
   "pygments_lexer": "ipython3",
   "version": "3.10.9"
  }
 },
 "nbformat": 4,
 "nbformat_minor": 5
}
